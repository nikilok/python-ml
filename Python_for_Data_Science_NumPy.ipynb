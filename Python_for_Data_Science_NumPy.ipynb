{
  "cells": [
    {
      "cell_type": "code",
      "execution_count": 12,
      "metadata": {
        "id": "ynE9R19cPIMT"
      },
      "outputs": [],
      "source": [
        "# The first step of using numpy is to tell python to import it\n",
        "import numpy as np"
      ]
    },
    {
      "cell_type": "markdown",
      "metadata": {
        "id": "V7NoTi0kTGVz"
      },
      "source": [
        "### 2.1 NumPy Arrays"
      ]
    },
    {
      "cell_type": "markdown",
      "metadata": {
        "id": "cYsQgeSWalcG"
      },
      "source": [
        "**NumPy Array**\n",
        "* An array is a data structure that stores values of same data type.\n",
        "* While python lists can contain values corresponding to different data types, arrays in python can only contain values corresponding to the same data type.\n",
        "* However python lists fail to deliver the performance required while computing large sets of numerical data. To address this issue we use NumPy arrays.\n",
        "* We can create NumPy arrays by converting a list to an array.\n"
      ]
    },
    {
      "cell_type": "code",
      "execution_count": 13,
      "metadata": {
        "id": "-iMbhbKUS01I"
      },
      "outputs": [],
      "source": [
        "# defining a list of different car companies or string elements\n",
        "arr_str = ['Mercedes', 'BMW', 'Audi', 'Ferrari', 'Tesla', 'Mistubishi']\n",
        "\n",
        "# defining a list of number of cylinders in car or numerical elements\n",
        "arr_num = [5, 4, 6, 7, 3]"
      ]
    },
    {
      "cell_type": "code",
      "execution_count": 14,
      "metadata": {
        "colab": {
          "base_uri": "https://localhost:8080/"
        },
        "id": "z8kfV796S0xz",
        "outputId": "e8d4d038-f4ad-4c1d-b57f-81d250fd66ff"
      },
      "outputs": [
        {
          "output_type": "stream",
          "name": "stdout",
          "text": [
            "Numpy Array (arr_str):  ['Mercedes' 'BMW' 'Audi' 'Ferrari' 'Tesla' 'Mistubishi']\n",
            "Numpy Array (arr_num):  [5 4 6 7 3]\n"
          ]
        }
      ],
      "source": [
        "# connverting the list arr_str to a NumPy array\n",
        "np_arr_str = np.array(arr_str)\n",
        "\n",
        "\n",
        "# connverting the list arr_num to a NumPy array\n",
        "np_arr_num = np.array(arr_num)\n",
        "\n",
        "# checking the output\n",
        "print('Numpy Array (arr_str): ',np_arr_str)\n",
        "print('Numpy Array (arr_num): ',np_arr_num)"
      ]
    },
    {
      "cell_type": "markdown",
      "metadata": {
        "id": "fNUnCIRbS0vz"
      },
      "source": [
        "The resuts look similar to a list but arr_str and arr_num have been converted to NumPy arrays. Let's check the data type to confirm this."
      ]
    },
    {
      "cell_type": "code",
      "execution_count": 15,
      "metadata": {
        "colab": {
          "base_uri": "https://localhost:8080/"
        },
        "id": "Cc_-eibuS0sr",
        "outputId": "3f3c584e-d5b6-43b6-fc0c-bd5c5d961d4e"
      },
      "outputs": [
        {
          "output_type": "stream",
          "name": "stdout",
          "text": [
            "Data type of arr_str:  <class 'list'>\n",
            "Data type of arr_num:  <class 'list'>\n",
            "Data type of np_arr_str:  <class 'numpy.ndarray'>\n",
            "Data type of np_arr_num:  <class 'numpy.ndarray'>\n"
          ]
        }
      ],
      "source": [
        "# printing the data type of lists\n",
        "print('Data type of arr_str: ',type(arr_str))\n",
        "print('Data type of arr_num: ',type(arr_num))\n",
        "\n",
        "# printing the data type after conversion of lists to array\n",
        "print('Data type of np_arr_str: ',type(np_arr_str))\n",
        "print('Data type of np_arr_num: ',type(np_arr_num))"
      ]
    },
    {
      "cell_type": "markdown",
      "metadata": {
        "id": "D5MBk_c0gorg"
      },
      "source": [
        "* The above output confirms that both the lists were successfully converted to arrays"
      ]
    },
    {
      "cell_type": "markdown",
      "metadata": {
        "id": "vO-p9figS0qt"
      },
      "source": [
        "**NumPy Matrix**"
      ]
    },
    {
      "cell_type": "markdown",
      "metadata": {
        "id": "63nVxGI-dEFn"
      },
      "source": [
        "* A matrix is a two-dimensional data structure where elements are arranged into rows and columns.\n",
        "* A matrix can be created by using list of lists"
      ]
    },
    {
      "cell_type": "code",
      "execution_count": 16,
      "metadata": {
        "colab": {
          "base_uri": "https://localhost:8080/"
        },
        "id": "eHL0aPSOS0fT",
        "outputId": "99563cc2-9e93-4900-f212-1659f0df0dd0"
      },
      "outputs": [
        {
          "output_type": "stream",
          "name": "stdout",
          "text": [
            "[[1 2 1]\n",
            " [4 5 9]\n",
            " [1 8 9]]\n",
            "matrix transpose \n",
            " [[1 4 1]\n",
            " [2 5 8]\n",
            " [1 9 9]]\n"
          ]
        }
      ],
      "source": [
        "# let's say we have information of different number of cylinders in a car and we want to display them in a matrix format\n",
        "matrix = np.array([[1,2,1],[4,5,9],[1,8,9]])\n",
        "print(matrix)\n",
        "# matrix transpose or .T\n",
        "matrix_transpose = matrix.transpose()\n",
        "print('matrix transpose \\n', matrix_transpose)"
      ]
    },
    {
      "cell_type": "code",
      "execution_count": 17,
      "metadata": {
        "colab": {
          "base_uri": "https://localhost:8080/"
        },
        "id": "1l5-7_3T2svj",
        "outputId": "32971ec1-e5af-4d28-c5ed-be2bc040983c"
      },
      "outputs": [
        {
          "output_type": "stream",
          "name": "stdout",
          "text": [
            "Data type of matrix:  <class 'numpy.ndarray'>\n"
          ]
        }
      ],
      "source": [
        "print('Data type of matrix: ',type(matrix))"
      ]
    },
    {
      "cell_type": "markdown",
      "metadata": {
        "id": "ic8DdniJAYi4"
      },
      "source": [
        "* We see that all the NumPy objects have data type as ndarray"
      ]
    },
    {
      "cell_type": "markdown",
      "metadata": {
        "id": "s_QCIWxNPywk"
      },
      "source": [
        "### 2.2 NumPy Functions"
      ]
    },
    {
      "cell_type": "markdown",
      "metadata": {
        "id": "9ByN9uM8dIp9"
      },
      "source": [
        "**There are different ways to create NumPy arrays using the functions available in NumPy library**"
      ]
    },
    {
      "cell_type": "markdown",
      "metadata": {
        "id": "mJD-BCvcdjQY"
      },
      "source": [
        "**Using np.arange() function**\n",
        "* The np.arange() function returns an array with evenly spaced elements as per the interval. The interval mentioned is half-opened i.e. start is included but stop is excluded.\n",
        "* It has the following paramaters:\n",
        "  * start : start of interval range. By default start = 0\n",
        "  * stop  : end of interval range\n",
        "  * step  : step size of interval. By default step size = 1"
      ]
    },
    {
      "cell_type": "code",
      "execution_count": 18,
      "metadata": {
        "colab": {
          "base_uri": "https://localhost:8080/"
        },
        "id": "h6yhwhCfdhrO",
        "outputId": "6c731e7b-63c1-4c85-fcda-7631eefcd680"
      },
      "outputs": [
        {
          "output_type": "stream",
          "name": "stdout",
          "text": [
            "[0 1 2 3 4 5 6 7 8 9]\n",
            "[0 1 2 3 4 5 6 7 8 9]\n"
          ]
        }
      ],
      "source": [
        "arr2  = np.arange(start = 0, stop = 10) # 10 will be excluded from the output\n",
        "print(arr2)\n",
        "\n",
        "# or\n",
        "\n",
        "arr2  = np.arange(0, 10)\n",
        "print(arr2)"
      ]
    },
    {
      "cell_type": "code",
      "execution_count": 19,
      "metadata": {
        "colab": {
          "base_uri": "https://localhost:8080/"
        },
        "id": "EBQxWv87gij1",
        "outputId": "25361008-7c94-4ed6-de76-60cdd7699233"
      },
      "outputs": [
        {
          "output_type": "execute_result",
          "data": {
            "text/plain": [
              "array([ 0,  5, 10, 15])"
            ]
          },
          "metadata": {},
          "execution_count": 19
        }
      ],
      "source": [
        "# adding a step size of 5 to create an array\n",
        "arr3  = np.arange(start = 0, stop = 20, step = 5)\n",
        "arr3"
      ]
    },
    {
      "cell_type": "markdown",
      "metadata": {
        "id": "fadu1DMxge1S"
      },
      "source": [
        "**Using np.linspace() function**\n",
        "* The np.linspace() function returns numbers which are evenly distributed with respect to interval. Here the start and stop both are included.            \n",
        "*It has the following parameters:              \n",
        " * start: start of interval range. By default start = 0\n",
        " * stop: end of interval range\n",
        " * num : No. of samples to generate. By default num = 50"
      ]
    },
    {
      "cell_type": "code",
      "execution_count": 20,
      "metadata": {
        "colab": {
          "base_uri": "https://localhost:8080/"
        },
        "id": "AvnueiSGdhb7",
        "outputId": "ec82b1de-cecd-4e49-8b76-285c914ee2bb"
      },
      "outputs": [
        {
          "output_type": "execute_result",
          "data": {
            "text/plain": [
              "array([10.        , 10.52631579, 11.05263158, 11.57894737, 12.10526316,\n",
              "       12.63157895, 13.15789474, 13.68421053, 14.21052632, 14.73684211,\n",
              "       15.26315789, 15.78947368, 16.31578947, 16.84210526, 17.36842105,\n",
              "       17.89473684, 18.42105263, 18.94736842, 19.47368421, 20.        ])"
            ]
          },
          "metadata": {},
          "execution_count": 20
        }
      ],
      "source": [
        "matrix2 = np.linspace(0,5) # by default 50 evenly spaced values will be generated between 0 and 5\n",
        "matrix2\n",
        "matrix_test = np.linspace(10, 20, 20)\n",
        "matrix_test"
      ]
    },
    {
      "cell_type": "markdown",
      "metadata": {
        "id": "zR_AydpiBToe"
      },
      "source": [
        "**How are these values getting generated?**\n",
        "\n",
        "The step size or the difference between each element will be decided by the following formula:\n",
        "\n",
        "**(stop - start) / (total elements - 1)**\n",
        "\n",
        "So, in this case:\n",
        "(5 - 0) / 49 = 0.10204082\n",
        "\n",
        "The first value will be 0.10204082, the second value will be 0.10204082 + 0.10204082, the third value will be 0.10204082 + 0.10204082 +0.10204082, and so on."
      ]
    },
    {
      "cell_type": "code",
      "execution_count": 21,
      "metadata": {
        "colab": {
          "base_uri": "https://localhost:8080/"
        },
        "id": "0VDGGmj2dhPp",
        "outputId": "5b4f9d11-92a8-4924-d012-6e32553d534d"
      },
      "outputs": [
        {
          "output_type": "execute_result",
          "data": {
            "text/plain": [
              "array([10.        , 11.11111111, 12.22222222, 13.33333333, 14.44444444,\n",
              "       15.55555556, 16.66666667, 17.77777778, 18.88888889, 20.        ])"
            ]
          },
          "metadata": {},
          "execution_count": 21
        }
      ],
      "source": [
        "# generating 10 evenly spaced values between 10 and 20\n",
        "matrix3 = np.linspace(10,20,10)\n",
        "matrix3"
      ]
    },
    {
      "cell_type": "markdown",
      "metadata": {
        "id": "8Nxn51w2dhEE"
      },
      "source": [
        "**Similarly we can create matrices using the functions available in NumPy library**"
      ]
    },
    {
      "cell_type": "markdown",
      "metadata": {
        "id": "x9brl-h9dg2b"
      },
      "source": [
        "**Using np.zeros()**\n",
        "\n",
        "* The np.zeros() is a function for creating a matrix and performing matrix operations in NumPy.\n",
        "* It returns a matrix filled with zeros of the given shape.\n",
        "* It has the following parameters:    \n",
        "  * shape : Number of rows and columns in the output matrix.\n",
        "  * dtype: data type of the elements in the matrix, by default the value is set to `float`."
      ]
    },
    {
      "cell_type": "code",
      "execution_count": 22,
      "metadata": {
        "colab": {
          "base_uri": "https://localhost:8080/"
        },
        "id": "zcfKm8ENjNQv",
        "outputId": "63e268f3-123a-4be2-86c8-011a50a72e37"
      },
      "outputs": [
        {
          "output_type": "execute_result",
          "data": {
            "text/plain": [
              "array([[[0., 0., 0., 0., 0., 0., 0., 0., 0., 0.],\n",
              "        [0., 0., 0., 0., 0., 0., 0., 0., 0., 0.],\n",
              "        [0., 0., 0., 0., 0., 0., 0., 0., 0., 0.],\n",
              "        [0., 0., 0., 0., 0., 0., 0., 0., 0., 0.]],\n",
              "\n",
              "       [[0., 0., 0., 0., 0., 0., 0., 0., 0., 0.],\n",
              "        [0., 0., 0., 0., 0., 0., 0., 0., 0., 0.],\n",
              "        [0., 0., 0., 0., 0., 0., 0., 0., 0., 0.],\n",
              "        [0., 0., 0., 0., 0., 0., 0., 0., 0., 0.]],\n",
              "\n",
              "       [[0., 0., 0., 0., 0., 0., 0., 0., 0., 0.],\n",
              "        [0., 0., 0., 0., 0., 0., 0., 0., 0., 0.],\n",
              "        [0., 0., 0., 0., 0., 0., 0., 0., 0., 0.],\n",
              "        [0., 0., 0., 0., 0., 0., 0., 0., 0., 0.]]])"
            ]
          },
          "metadata": {},
          "execution_count": 22
        }
      ],
      "source": [
        "matrix4 = np.zeros([3,5])\n",
        "matrix4\n",
        "# 2d matrix\n",
        "np.zeros([3,4,10])\n",
        "\n"
      ]
    },
    {
      "cell_type": "markdown",
      "metadata": {
        "id": "8jy4YykQjICK"
      },
      "source": [
        "**Using np.ones()**\n",
        "\n",
        "* The np.ones() is another function for creating a matrix and performing matrix operations in NumPy.\n",
        "* It returns a matrix of given shape and type, filled with ones.\n",
        "* It has the following parameters:  \n",
        "  * shape : Number of rows and columns in the output matrix.\n",
        "  * dtype: data type of the elements in the matrix, by default the value is set to `float`."
      ]
    },
    {
      "cell_type": "code",
      "execution_count": 23,
      "metadata": {
        "colab": {
          "base_uri": "https://localhost:8080/"
        },
        "id": "JJ-hv5dcjRN1",
        "outputId": "7527f788-d28d-49e7-c242-2cc893b96bc6"
      },
      "outputs": [
        {
          "output_type": "execute_result",
          "data": {
            "text/plain": [
              "array([[1., 1., 1., 1., 1.],\n",
              "       [1., 1., 1., 1., 1.],\n",
              "       [1., 1., 1., 1., 1.]])"
            ]
          },
          "metadata": {},
          "execution_count": 23
        }
      ],
      "source": [
        "matrix5 = np.ones([3,5])\n",
        "matrix5"
      ]
    },
    {
      "cell_type": "markdown",
      "metadata": {
        "id": "ge-0i4W2jH4S"
      },
      "source": [
        "**Using np.eye()**\n",
        "* The np.eye() is a function for creating a matrix and performing matrix operations in NumPy.\n",
        "* It returns a matrix with ones on the diagonal and zeros elsewhere.\n",
        "* It has the following parameters:\n",
        "  * n: Number of rows and columns in the output matrix\n",
        "  * dtype: data type of the elements in the matrix, by default the value is set to `float`."
      ]
    },
    {
      "cell_type": "code",
      "execution_count": 24,
      "metadata": {
        "colab": {
          "base_uri": "https://localhost:8080/"
        },
        "id": "2a0_OXeWjHou",
        "outputId": "1eb185fc-c6d1-4339-8b8f-0f5a9fa1b079"
      },
      "outputs": [
        {
          "output_type": "execute_result",
          "data": {
            "text/plain": [
              "array([[1., 0., 0., 0., 0.],\n",
              "       [0., 1., 0., 0., 0.],\n",
              "       [0., 0., 1., 0., 0.],\n",
              "       [0., 0., 0., 1., 0.],\n",
              "       [0., 0., 0., 0., 1.]])"
            ]
          },
          "metadata": {},
          "execution_count": 24
        }
      ],
      "source": [
        "matrix6 = np.eye(5)\n",
        "matrix6\n",
        "# np.eye(6,3)"
      ]
    },
    {
      "cell_type": "markdown",
      "metadata": {
        "id": "DkJp6gB1dgHl"
      },
      "source": [
        "**We can also convert a one dimension array to a matrix. This can be done by using the np.reshape() function.**"
      ]
    },
    {
      "cell_type": "markdown",
      "metadata": {
        "id": "ifxHtcyyuVsX"
      },
      "source": [
        "* The shape of an array basically tells the number of elements and dimensions of the array. Reshaping a Numpy array simply means changing the shape of the given array.\n",
        "* By reshaping an array we can add or remove dimensions or change number of elements in each dimension.\n",
        "* In order to reshape a NumPy array, we use the reshape method with the given array.\n",
        "* **Syntax:** array.reshape(shape)\n",
        "  * shape: a tuple given as input, the values in tuple will be the new shape of the array."
      ]
    },
    {
      "cell_type": "code",
      "execution_count": 25,
      "metadata": {
        "colab": {
          "base_uri": "https://localhost:8080/"
        },
        "id": "iYbHCKdPk5hb",
        "outputId": "dd336b7e-ef2d-40da-f079-a04b1fdd420c"
      },
      "outputs": [
        {
          "output_type": "execute_result",
          "data": {
            "text/plain": [
              "array([0, 1, 2, 3, 4, 5, 6, 7, 8, 9])"
            ]
          },
          "metadata": {},
          "execution_count": 25
        }
      ],
      "source": [
        "# defining an array with values 0 to 9\n",
        "arr4 = np.arange(0, 10)\n",
        "arr4"
      ]
    },
    {
      "cell_type": "code",
      "execution_count": 26,
      "metadata": {
        "colab": {
          "base_uri": "https://localhost:8080/"
        },
        "id": "SE6wnu1MlbXv",
        "outputId": "b8ab25b3-229f-4c87-88ca-c362f1760d91"
      },
      "outputs": [
        {
          "output_type": "execute_result",
          "data": {
            "text/plain": [
              "array([[0, 1, 2, 3, 4],\n",
              "       [5, 6, 7, 8, 9]])"
            ]
          },
          "metadata": {},
          "execution_count": 26
        }
      ],
      "source": [
        "# reshaping the array arr4 to a 2 x 5 matrix\n",
        "arr4_reshaped = arr4.reshape((2,5))\n",
        "arr4_reshaped"
      ]
    },
    {
      "cell_type": "code",
      "execution_count": 27,
      "metadata": {
        "colab": {
          "base_uri": "https://localhost:8080/"
        },
        "id": "KbuGcnPLFT2m",
        "outputId": "3158e5a9-a492-4a8c-c2a3-06455d0d630c"
      },
      "outputs": [
        {
          "output_type": "execute_result",
          "data": {
            "text/plain": [
              "array([0, 1, 2, 3, 4, 5, 6, 7, 8, 9])"
            ]
          },
          "metadata": {},
          "execution_count": 27
        }
      ],
      "source": [
        "arr4"
      ]
    },
    {
      "cell_type": "code",
      "execution_count": 28,
      "metadata": {
        "colab": {
          "base_uri": "https://localhost:8080/",
          "height": 198
        },
        "id": "HRqcE-TT_-dQ",
        "outputId": "4deaa979-e25f-4ed8-9e38-735178d6fb6c"
      },
      "outputs": [
        {
          "output_type": "error",
          "ename": "ValueError",
          "evalue": "cannot reshape array of size 10 into shape (2,6)",
          "traceback": [
            "\u001b[0;31m---------------------------------------------------------------------------\u001b[0m",
            "\u001b[0;31mValueError\u001b[0m                                Traceback (most recent call last)",
            "\u001b[0;32m/tmp/ipython-input-28-3734237573.py\u001b[0m in \u001b[0;36m<cell line: 0>\u001b[0;34m()\u001b[0m\n\u001b[1;32m      1\u001b[0m \u001b[0;31m# reshaping the array arr4 to a 2 x 6 matrix\u001b[0m\u001b[0;34m\u001b[0m\u001b[0;34m\u001b[0m\u001b[0m\n\u001b[0;32m----> 2\u001b[0;31m \u001b[0marr4\u001b[0m\u001b[0;34m.\u001b[0m\u001b[0mreshape\u001b[0m\u001b[0;34m(\u001b[0m\u001b[0;34m(\u001b[0m\u001b[0;36m2\u001b[0m\u001b[0;34m,\u001b[0m\u001b[0;36m6\u001b[0m\u001b[0;34m)\u001b[0m\u001b[0;34m)\u001b[0m\u001b[0;34m\u001b[0m\u001b[0;34m\u001b[0m\u001b[0m\n\u001b[0m",
            "\u001b[0;31mValueError\u001b[0m: cannot reshape array of size 10 into shape (2,6)"
          ]
        }
      ],
      "source": [
        "# reshaping the array arr4 to a 2 x 6 matrix\n",
        "arr4.reshape((2,6))"
      ]
    },
    {
      "cell_type": "markdown",
      "metadata": {
        "id": "7DGMoYswCocf"
      },
      "source": [
        "* This did not work because we have 10 elements which we are trying to fit in a 2 X 6 shape which will require 12 elements."
      ]
    },
    {
      "cell_type": "markdown",
      "metadata": {
        "id": "lNd_TddVQtWI"
      },
      "source": [
        "**NumPy can also perform a large number of different mathematical operations and it provides different functions to do so.**\n",
        "\n",
        "NumPy provides:\n",
        "1. Trigonometric functions\n",
        "2. Exponents and Logarithmic functions\n",
        "3. Functions for arithmetic operations between arrays and matrices"
      ]
    },
    {
      "cell_type": "markdown",
      "metadata": {
        "id": "CE9wPRdYn5IB"
      },
      "source": [
        "**Trigonometric functions**"
      ]
    },
    {
      "cell_type": "code",
      "execution_count": null,
      "metadata": {
        "id": "6iKAU71XQBXn"
      },
      "outputs": [],
      "source": [
        "print('Sine Function:',np.sin(4))\n",
        "print('Cosine Function:',np.cos(4))\n",
        "print('Tan Function',np.tan(4))"
      ]
    },
    {
      "cell_type": "markdown",
      "metadata": {
        "id": "BBKFBoABoyRx"
      },
      "source": [
        "* Exponents"
      ]
    },
    {
      "cell_type": "markdown",
      "metadata": {
        "id": "9QWy471mQEXT"
      },
      "source": [
        "**Exponents and Logarithmic functions**"
      ]
    },
    {
      "cell_type": "code",
      "execution_count": null,
      "metadata": {
        "id": "aanbLXltoDgt"
      },
      "outputs": [],
      "source": [
        "np.exp(2)\n",
        "np.exp(25.252502502)\n"
      ]
    },
    {
      "cell_type": "code",
      "execution_count": null,
      "metadata": {
        "id": "9VUfgN_oomI7"
      },
      "outputs": [],
      "source": [
        "arr5 = np.array([2,4,6])\n",
        "np.exp(arr5)"
      ]
    },
    {
      "cell_type": "markdown",
      "metadata": {
        "id": "BgTCC-v6ouZn"
      },
      "source": [
        "* Logarithms"
      ]
    },
    {
      "cell_type": "code",
      "execution_count": null,
      "metadata": {
        "id": "7V8RWfDipHOQ"
      },
      "outputs": [],
      "source": [
        "# by default NumPy takes the base of log as e\n",
        "np.log(2)\n",
        "np.log(7.38905609893065)\n",
        "np.log(92687782248.27428)"
      ]
    },
    {
      "cell_type": "code",
      "execution_count": null,
      "metadata": {
        "id": "CH5eCec2pJLo"
      },
      "outputs": [],
      "source": [
        "np.log(arr5)"
      ]
    },
    {
      "cell_type": "code",
      "execution_count": null,
      "metadata": {
        "id": "bgam8aXTpOVc"
      },
      "outputs": [],
      "source": [
        "## log with base 10\n",
        "np.log10(8)"
      ]
    },
    {
      "cell_type": "markdown",
      "metadata": {
        "id": "jDCujvq0pWZr"
      },
      "source": [
        "**Arithmetic Operations on arrays**"
      ]
    },
    {
      "cell_type": "code",
      "execution_count": null,
      "metadata": {
        "id": "SXFDL0TeKJZT"
      },
      "outputs": [],
      "source": [
        "# arithmetic on lists\n",
        "\n",
        "l1 = [1,2,3]\n",
        "l2 = [4,5,6]\n",
        "print(l1+l2)\n",
        "# this does not behave as you would expect!\n"
      ]
    },
    {
      "cell_type": "code",
      "execution_count": null,
      "metadata": {
        "id": "MHZKZFP8ppQx"
      },
      "outputs": [],
      "source": [
        "# we can +-*/ arrays together\n",
        "\n",
        "# defining two arrays\n",
        "arr7 = np.arange(1,6)\n",
        "print('arr7:', arr7)\n",
        "\n",
        "arr8 = np.arange(3,8)\n",
        "print('arr8:', arr8)"
      ]
    },
    {
      "cell_type": "code",
      "execution_count": null,
      "metadata": {
        "id": "xkMkQOL8rHOw"
      },
      "outputs": [],
      "source": [
        "print('Addition: ',arr7+arr8)\n",
        "print('Subtraction: ',arr8-arr7)\n",
        "print('Multiplication:' , arr7*arr8)\n",
        "print('Division:', arr7/arr8)\n",
        "print('Inverse:', 1/arr7)\n",
        "print('Powers:', arr7**arr8) # in python, powers are achieved using **, NOT ^!!! ^ does something completely different!\n",
        "a = 5 # Binary: 0101\n",
        "b = 3 # Binary: 0011\n",
        "result = a ^ b # Binary: 0110 XOR operation\n",
        "print(result)"
      ]
    },
    {
      "cell_type": "markdown",
      "metadata": {
        "id": "SrE8fcrFtt7c"
      },
      "source": [
        "**Operations on Matrices**"
      ]
    },
    {
      "cell_type": "code",
      "execution_count": 57,
      "metadata": {
        "colab": {
          "base_uri": "https://localhost:8080/"
        },
        "id": "p-lZfDhUrb2b",
        "outputId": "930d9e4d-e783-4e80-c68e-26a2087197fa"
      },
      "outputs": [
        {
          "output_type": "stream",
          "name": "stdout",
          "text": [
            "[[1 2 3]\n",
            " [4 5 6]\n",
            " [7 8 9]]\n",
            "[[1. 0. 0.]\n",
            " [0. 1. 0.]\n",
            " [0. 0. 1.]]\n"
          ]
        }
      ],
      "source": [
        "matrix7 = np.arange(1,10).reshape(3,3)\n",
        "print(matrix7)\n",
        "\n",
        "matrix8 = np.eye(3)\n",
        "print(matrix8)"
      ]
    },
    {
      "cell_type": "code",
      "execution_count": 58,
      "metadata": {
        "colab": {
          "base_uri": "https://localhost:8080/"
        },
        "id": "VGBAxsUUtyts",
        "outputId": "7b2a8814-d871-495c-95e6-75b667c9d724"
      },
      "outputs": [
        {
          "output_type": "stream",
          "name": "stdout",
          "text": [
            "Addition: \n",
            " [[ 2.  2.  3.]\n",
            " [ 4.  6.  6.]\n",
            " [ 7.  8. 10.]]\n",
            "Subtraction: \n",
            "  [[0. 2. 3.]\n",
            " [4. 4. 6.]\n",
            " [7. 8. 8.]]\n",
            "Multiplication: \n",
            " [[1. 0. 0.]\n",
            " [0. 5. 0.]\n",
            " [0. 0. 9.]]\n",
            "Division: \n",
            " [[ 1. inf inf]\n",
            " [inf  5. inf]\n",
            " [inf inf  9.]]\n"
          ]
        },
        {
          "output_type": "stream",
          "name": "stderr",
          "text": [
            "/tmp/ipython-input-58-2604038799.py:4: RuntimeWarning: divide by zero encountered in divide\n",
            "  print('Division: \\n', matrix7/matrix8)\n"
          ]
        }
      ],
      "source": [
        "print('Addition: \\n', matrix7+matrix8)\n",
        "print('Subtraction: \\n ', matrix7-matrix8)\n",
        "print('Multiplication: \\n', matrix7*matrix8)\n",
        "print('Division: \\n', matrix7/matrix8)"
      ]
    },
    {
      "cell_type": "markdown",
      "metadata": {
        "id": "c7jHF8Od6mHH"
      },
      "source": [
        "* RuntimeWarning: Errors which occur during program execution(run-time) after successful compilation are called run-time errors.\n",
        "* One of the most common run-time error is division by zero also known as Division error.\n",
        "* Due to division by zero error, we are getting inf (infinity) values because 1/0 is not a defined operation."
      ]
    },
    {
      "cell_type": "markdown",
      "metadata": {
        "id": "3WYcA-OxyL9Y"
      },
      "source": [
        "**Linear algebra matrix multiplication**"
      ]
    },
    {
      "cell_type": "code",
      "execution_count": 60,
      "metadata": {
        "colab": {
          "base_uri": "https://localhost:8080/"
        },
        "id": "nc0PAuG3sM6A",
        "outputId": "7e3c26d1-8e0e-40ac-c6fb-2910c36f72e2"
      },
      "outputs": [
        {
          "output_type": "stream",
          "name": "stdout",
          "text": [
            "First Matrix: \n",
            " [[1 2 3]\n",
            " [4 5 6]\n",
            " [7 8 9]]\n",
            "Second Matrix: \n",
            " [[11 12 13]\n",
            " [14 15 16]\n",
            " [17 18 19]]\n",
            "\n",
            "Multiplication: \n",
            " [[ 90  96 102]\n",
            " [216 231 246]\n",
            " [342 366 390]]\n"
          ]
        }
      ],
      "source": [
        "matrix9 = np.arange(1,10).reshape(3,3)\n",
        "print('First Matrix: \\n',matrix9)\n",
        "\n",
        "matrix10 = np.arange(11,20).reshape(3,3)\n",
        "print('Second Matrix: \\n',matrix10)\n",
        "print('')\n",
        "# taking linear algebra matrix multiplication (some may have heard this called the dot product)\n",
        "print('Multiplication: \\n', matrix9 @ matrix10)"
      ]
    },
    {
      "cell_type": "markdown",
      "source": [
        "### Matrix multiplication of a 3 x 3 two matrices.\n",
        "- The rule of multiplying matrix A to B is that the columns of A should be equal to the rows of B.\n",
        "- In the below example `matrix_a` is a 1 x _`3`_ matrix, and `matrix_b` is a _`3`_ x 1 matrix. Hence it's a valid input to multiply."
      ],
      "metadata": {
        "id": "IKADxcTS6THS"
      }
    },
    {
      "cell_type": "code",
      "source": [
        "matrix_a = np.array([3, 1, 4])\n",
        "matrix_b = np.array([[4,3],[2, 5],[6, 8]])\n",
        "print(matrix_a @ matrix_b)"
      ],
      "metadata": {
        "colab": {
          "base_uri": "https://localhost:8080/"
        },
        "id": "wL8qe2Z45t1Z",
        "outputId": "7a893f9f-bfad-400e-9ea3-bca603f1a63e"
      },
      "execution_count": 61,
      "outputs": [
        {
          "output_type": "stream",
          "name": "stdout",
          "text": [
            "[38 46]\n"
          ]
        }
      ]
    },
    {
      "cell_type": "markdown",
      "source": [
        "### Invalid matrix multiplication example\n",
        "- In the below example we try to multiply `matrix_b` with `matrix_a` and that is 3 x _`1`_ . 1 x _`3`\n",
        "\n",
        "`this will cause an error`"
      ],
      "metadata": {
        "id": "lJ70TzJM8RsL"
      }
    },
    {
      "cell_type": "code",
      "source": [
        "print(matrix_b @ matrix_a)"
      ],
      "metadata": {
        "colab": {
          "base_uri": "https://localhost:8080/",
          "height": 216
        },
        "id": "J0K9k-I38DX4",
        "outputId": "d2b123d6-da52-4ec5-ee50-2a59c977c393"
      },
      "execution_count": 62,
      "outputs": [
        {
          "output_type": "error",
          "ename": "ValueError",
          "evalue": "matmul: Input operand 1 has a mismatch in its core dimension 0, with gufunc signature (n?,k),(k,m?)->(n?,m?) (size 3 is different from 2)",
          "traceback": [
            "\u001b[0;31m---------------------------------------------------------------------------\u001b[0m",
            "\u001b[0;31mValueError\u001b[0m                                Traceback (most recent call last)",
            "\u001b[0;32m/tmp/ipython-input-62-2312703913.py\u001b[0m in \u001b[0;36m<cell line: 0>\u001b[0;34m()\u001b[0m\n\u001b[0;32m----> 1\u001b[0;31m \u001b[0mprint\u001b[0m\u001b[0;34m(\u001b[0m\u001b[0mmatrix_b\u001b[0m \u001b[0;34m@\u001b[0m \u001b[0mmatrix_a\u001b[0m\u001b[0;34m)\u001b[0m\u001b[0;34m\u001b[0m\u001b[0;34m\u001b[0m\u001b[0m\n\u001b[0m",
            "\u001b[0;31mValueError\u001b[0m: matmul: Input operand 1 has a mismatch in its core dimension 0, with gufunc signature (n?,k),(k,m?)->(n?,m?) (size 3 is different from 2)"
          ]
        }
      ]
    },
    {
      "cell_type": "code",
      "source": [
        "x = 31\n",
        "y = 2\n",
        "mat_x = round(x / 2)\n",
        "mat_y = 2\n",
        "print(round(21 / 2))\n",
        "# matrix_test_a = np.arange(1, x).reshape(mat_x, mat_y)\n",
        "matrix_test_a"
      ],
      "metadata": {
        "colab": {
          "base_uri": "https://localhost:8080/",
          "height": 233
        },
        "id": "1ivJKbkq9X6a",
        "outputId": "b4a6fa3f-70c5-421f-b953-f627aef107a7"
      },
      "execution_count": 63,
      "outputs": [
        {
          "output_type": "stream",
          "name": "stdout",
          "text": [
            "10\n"
          ]
        },
        {
          "output_type": "error",
          "ename": "NameError",
          "evalue": "name 'matrix_test_a' is not defined",
          "traceback": [
            "\u001b[0;31m---------------------------------------------------------------------------\u001b[0m",
            "\u001b[0;31mNameError\u001b[0m                                 Traceback (most recent call last)",
            "\u001b[0;32m/tmp/ipython-input-63-2092124655.py\u001b[0m in \u001b[0;36m<cell line: 0>\u001b[0;34m()\u001b[0m\n\u001b[1;32m      5\u001b[0m \u001b[0mprint\u001b[0m\u001b[0;34m(\u001b[0m\u001b[0mround\u001b[0m\u001b[0;34m(\u001b[0m\u001b[0;36m21\u001b[0m \u001b[0;34m/\u001b[0m \u001b[0;36m2\u001b[0m\u001b[0;34m)\u001b[0m\u001b[0;34m)\u001b[0m\u001b[0;34m\u001b[0m\u001b[0;34m\u001b[0m\u001b[0m\n\u001b[1;32m      6\u001b[0m \u001b[0;31m# matrix_test_a = np.arange(1, x).reshape(mat_x, mat_y)\u001b[0m\u001b[0;34m\u001b[0m\u001b[0;34m\u001b[0m\u001b[0m\n\u001b[0;32m----> 7\u001b[0;31m \u001b[0mmatrix_test_a\u001b[0m\u001b[0;34m\u001b[0m\u001b[0;34m\u001b[0m\u001b[0m\n\u001b[0m",
            "\u001b[0;31mNameError\u001b[0m: name 'matrix_test_a' is not defined"
          ]
        }
      ]
    },
    {
      "cell_type": "code",
      "source": [
        "bags = np.arange(1, 11)\n",
        "coin_bags = np.zeros(10)\n",
        "bag_with_marker = 6\n",
        "\n",
        "coin_bags[bag_with_marker - 1] = 1\n",
        "# coin_bags[bag_with_marker - 2] = 1\n",
        "print('bags (1 x 10) ->', bags)\n",
        "print('weights (1 x 10) ->', coin_bags)\n",
        "bags @ coin_bags"
      ],
      "metadata": {
        "colab": {
          "base_uri": "https://localhost:8080/"
        },
        "id": "se4QSOfAH1Ro",
        "outputId": "10a29d6a-e865-491a-c38c-d819cc8afca0"
      },
      "execution_count": 64,
      "outputs": [
        {
          "output_type": "stream",
          "name": "stdout",
          "text": [
            "bags (1 x 10) -> [ 1  2  3  4  5  6  7  8  9 10]\n",
            "weights (1 x 10) -> [0. 0. 0. 0. 0. 1. 0. 0. 0. 0.]\n"
          ]
        },
        {
          "output_type": "execute_result",
          "data": {
            "text/plain": [
              "np.float64(6.0)"
            ]
          },
          "metadata": {},
          "execution_count": 64
        }
      ]
    },
    {
      "cell_type": "markdown",
      "metadata": {
        "id": "LQVkMw7Iynfu"
      },
      "source": [
        "**Transpose of a matrix**"
      ]
    },
    {
      "cell_type": "code",
      "execution_count": 65,
      "metadata": {
        "colab": {
          "base_uri": "https://localhost:8080/"
        },
        "id": "DJp3NtsrsSM4",
        "outputId": "163f7978-10cf-471e-d53e-96a4d70405af"
      },
      "outputs": [
        {
          "output_type": "stream",
          "name": "stdout",
          "text": [
            "[[1 2 3]\n",
            " [4 5 6]\n",
            " [7 8 9]]\n"
          ]
        }
      ],
      "source": [
        "print(matrix9)"
      ]
    },
    {
      "cell_type": "code",
      "execution_count": 66,
      "metadata": {
        "colab": {
          "base_uri": "https://localhost:8080/"
        },
        "id": "MDKJgUlptKet",
        "outputId": "126fd72f-bf9e-480c-a2df-0da360dea3ab"
      },
      "outputs": [
        {
          "output_type": "execute_result",
          "data": {
            "text/plain": [
              "array([[1, 4, 7],\n",
              "       [2, 5, 8],\n",
              "       [3, 6, 9]])"
            ]
          },
          "metadata": {},
          "execution_count": 66
        }
      ],
      "source": [
        "# taking transpose of matrix\n",
        "np.transpose(matrix9)"
      ]
    },
    {
      "cell_type": "code",
      "execution_count": 78,
      "metadata": {
        "colab": {
          "base_uri": "https://localhost:8080/"
        },
        "id": "PwwpvruatMRj",
        "outputId": "9e7e1679-15d0-46e3-e92d-e26b13ceb2e9"
      },
      "outputs": [
        {
          "output_type": "stream",
          "name": "stdout",
          "text": [
            "[[ 0  1  2  3  4]\n",
            " [ 5  6  7  8  9]\n",
            " [10 11 12 13 14]]\n",
            "[[ 0  5 10]\n",
            " [ 1  6 11]\n",
            " [ 2  7 12]\n",
            " [ 3  8 13]\n",
            " [ 4  9 14]]\n"
          ]
        },
        {
          "output_type": "execute_result",
          "data": {
            "text/plain": [
              "array([[ 30,  80, 130],\n",
              "       [ 80, 255, 430],\n",
              "       [130, 430, 730]])"
            ]
          },
          "metadata": {},
          "execution_count": 78
        }
      ],
      "source": [
        "# another way of taking a transpose\n",
        "matrix9.T\n",
        "matrix10 = np.arange(0, 15).reshape(3,5)\n",
        "print(matrix10)\n",
        "print(matrix10.T)\n",
        "matrix10 @ matrix10.T"
      ]
    },
    {
      "cell_type": "markdown",
      "metadata": {
        "id": "YSl_vQk70bCS"
      },
      "source": [
        "**Function to find minimum and maximum values**"
      ]
    },
    {
      "cell_type": "code",
      "execution_count": null,
      "metadata": {
        "id": "TmPZB7tu0a2c"
      },
      "outputs": [],
      "source": [
        "print(matrix9)"
      ]
    },
    {
      "cell_type": "code",
      "execution_count": null,
      "metadata": {
        "id": "394LL_BZ0alr"
      },
      "outputs": [],
      "source": [
        "print('Minimum value: ',np.min(matrix9))"
      ]
    },
    {
      "cell_type": "code",
      "execution_count": null,
      "metadata": {
        "id": "SVs2Zx0J0ac3"
      },
      "outputs": [],
      "source": [
        "print('Maximum value: ',np.max(matrix9))"
      ]
    },
    {
      "cell_type": "markdown",
      "metadata": {
        "id": "7NNtvTmh0aRf"
      },
      "source": [
        "**Function to generate random samples**"
      ]
    },
    {
      "cell_type": "markdown",
      "metadata": {
        "id": "XO47Cq8L3Gb3"
      },
      "source": [
        "**Using np.random.rand function**\n",
        "\n",
        "* The np.random.rand returns a random NumPy array whose element(s) are drawn randomly from the uniform distribution over [0,1). (including 0 but excluding 1).\n",
        "* **Syntax** - np.random.rand(d0,d1)\n",
        "  * d0,d1 – It represents the dimension of the required array given as int, where d1 is optional."
      ]
    },
    {
      "cell_type": "code",
      "execution_count": null,
      "metadata": {
        "id": "Neq3fBGH4N7F"
      },
      "outputs": [],
      "source": [
        "# Generating random values in an array\n",
        "rand_mat = np.random.rand(5)\n",
        "print(rand_mat)"
      ]
    },
    {
      "cell_type": "code",
      "execution_count": null,
      "metadata": {
        "id": "QQHFrAce1570"
      },
      "outputs": [],
      "source": [
        "# * Generating random values in a matrix\n",
        "rand_mat = np.random.rand(5,5) # uniform random variable\n",
        "print(rand_mat)"
      ]
    },
    {
      "cell_type": "markdown",
      "metadata": {
        "id": "VvvK-7Sh3PfD"
      },
      "source": [
        "**Using np.random.randn function**\n",
        "\n",
        "* The np.random.randn returns a random numpy array whose sample(s) are drawn randomly from the standard normal distribution (Mean as 0 and standard deviation as 1)\n",
        "\n",
        "* **Syntax** - np.random.randn(d0,d1)\n",
        "  * d0,d1 – It represents the dimension of the output, where d1 is optional."
      ]
    },
    {
      "cell_type": "code",
      "execution_count": null,
      "metadata": {
        "id": "Ll_boKdQ4Y-b"
      },
      "outputs": [],
      "source": [
        "# Generating random values in an array\n",
        "rand_mat2 = np.random.randn(5)\n",
        "print(rand_mat2)"
      ]
    },
    {
      "cell_type": "code",
      "execution_count": null,
      "metadata": {
        "id": "1jaiT-oZ2CyD"
      },
      "outputs": [],
      "source": [
        "# Generating random values in a matrix\n",
        "rand_mat2 = np.random.randn(5,5)\n",
        "print(rand_mat2)"
      ]
    },
    {
      "cell_type": "code",
      "execution_count": null,
      "metadata": {
        "id": "TldcCrOS5ulV"
      },
      "outputs": [],
      "source": [
        "# Let's check the mean and standard deviation of rand_mat2\n",
        "print('Mean:',np.mean(rand_mat2))\n",
        "print('Standard Deviation:',np.std(rand_mat2))"
      ]
    },
    {
      "cell_type": "markdown",
      "metadata": {
        "id": "66BnHAPW6Ere"
      },
      "source": [
        "*  We observe that the mean is very close to 0 and standard deviation is very close to 1."
      ]
    },
    {
      "cell_type": "markdown",
      "metadata": {
        "id": "T_0yFxGh3U2D"
      },
      "source": [
        "**Using np.random.randint function**\n",
        "\n",
        "* The np.random.randint returns a random numpy array whose element(s) are drawn randomly from low (inclusive) to the high (exclusive) range.\n",
        "\n",
        "* **Syntax** - np.random.randint(low, high, size)\n",
        "\n",
        "  * low – It represents the lowest inclusive bound of the distribution from where the sample can be drawn.\n",
        "  * high – It represents the upper exclusive bound of the distribution from where the sample can be drawn.\n",
        "  * size – It represents the shape of the output."
      ]
    },
    {
      "cell_type": "code",
      "execution_count": null,
      "metadata": {
        "id": "vLPM7a0N2EHA"
      },
      "outputs": [],
      "source": [
        "# Generating random values in an array\n",
        "rand_mat3 = np.random.randint(1,5,10)\n",
        "print(rand_mat3)"
      ]
    },
    {
      "cell_type": "code",
      "execution_count": 30,
      "metadata": {
        "colab": {
          "base_uri": "https://localhost:8080/"
        },
        "id": "u9YqKltk486n",
        "outputId": "6c47a59f-5949-465a-f099-ebebfdcb6fe9"
      },
      "outputs": [
        {
          "output_type": "stream",
          "name": "stdout",
          "text": [
            "[[1 3 9 9 4]\n",
            " [1 4 2 9 2]\n",
            " [2 9 7 3 7]\n",
            " [3 5 1 4 5]\n",
            " [1 1 9 9 1]]\n"
          ]
        }
      ],
      "source": [
        "# Generating random values in a matrix\n",
        "rand_mat3 = np.random.randint(1,10,[5,5])\n",
        "print(rand_mat3)"
      ]
    },
    {
      "cell_type": "markdown",
      "metadata": {
        "id": "J-K_ecWJ6M6n"
      },
      "source": [
        "### 2.3 Accessing the entries of a Numpy Array"
      ]
    },
    {
      "cell_type": "code",
      "execution_count": 31,
      "metadata": {
        "colab": {
          "base_uri": "https://localhost:8080/"
        },
        "id": "4Tiy6KJw3a5A",
        "outputId": "5b825dfc-00ca-4e9b-d0b5-869e19efc1fb"
      },
      "outputs": [
        {
          "output_type": "stream",
          "name": "stdout",
          "text": [
            "[-1.18976097  0.24774721  2.26993987 -1.0673779  -0.70718703  1.48307425\n",
            "  0.80773649 -0.24401457  2.35022609 -0.13292358]\n"
          ]
        }
      ],
      "source": [
        "# let's generate an array with 10 random values\n",
        "rand_arr = np.random.randn(10)\n",
        "print(rand_arr)"
      ]
    },
    {
      "cell_type": "markdown",
      "metadata": {
        "id": "gJlNtFKwaZUv"
      },
      "source": [
        "* Accessing one element from an array"
      ]
    },
    {
      "cell_type": "code",
      "execution_count": 32,
      "metadata": {
        "colab": {
          "base_uri": "https://localhost:8080/"
        },
        "id": "PtSqbI-Y3awc",
        "outputId": "a2e5d34d-8f1f-49fd-8de1-67ad8cff5235"
      },
      "outputs": [
        {
          "output_type": "stream",
          "name": "stdout",
          "text": [
            "0.8077364871631796\n"
          ]
        }
      ],
      "source": [
        "# accessing the 6 th entry of rand_arr\n",
        "print(rand_arr[6])"
      ]
    },
    {
      "cell_type": "markdown",
      "metadata": {
        "id": "Ywt2eQx-aZUv"
      },
      "source": [
        "* Accessing multiple elements from an array"
      ]
    },
    {
      "cell_type": "code",
      "execution_count": 33,
      "metadata": {
        "colab": {
          "base_uri": "https://localhost:8080/"
        },
        "id": "HZ8Yb_3h3amG",
        "outputId": "58efcb3e-e69b-4617-9ad3-b9f8bb63500c"
      },
      "outputs": [
        {
          "output_type": "stream",
          "name": "stdout",
          "text": [
            "[-0.70718703  1.48307425  0.80773649 -0.24401457  2.35022609]\n"
          ]
        }
      ],
      "source": [
        "# we can access multiple entries at once using\n",
        "print(rand_arr[4:9])"
      ]
    },
    {
      "cell_type": "code",
      "execution_count": 34,
      "metadata": {
        "colab": {
          "base_uri": "https://localhost:8080/"
        },
        "id": "pNcRsFbK3aZP",
        "outputId": "b0df58c2-b9b5-4bcc-e283-af9ecde271a3"
      },
      "outputs": [
        {
          "output_type": "stream",
          "name": "stdout",
          "text": [
            "Index of values to access:  [3 6 9]\n",
            "[-1.0673779   0.80773649 -0.13292358]\n"
          ]
        }
      ],
      "source": [
        "# we can also access multiple non-consecutive entries using np.arange\n",
        "print('Index of values to access: ',np.arange(3,10,3))\n",
        "print(rand_arr[np.arange(3,10,3)])"
      ]
    },
    {
      "cell_type": "markdown",
      "metadata": {
        "id": "m0_dOkPKc7bL"
      },
      "source": [
        "**Accessing arrays using logical operations**"
      ]
    },
    {
      "cell_type": "code",
      "execution_count": 35,
      "metadata": {
        "colab": {
          "base_uri": "https://localhost:8080/"
        },
        "id": "_8v77EwOcwPM",
        "outputId": "80df5bd9-ad58-4948-bcd2-fa1ced42fa08"
      },
      "outputs": [
        {
          "output_type": "stream",
          "name": "stdout",
          "text": [
            "[-1.18976097  0.24774721  2.26993987 -1.0673779  -0.70718703  1.48307425\n",
            "  0.80773649 -0.24401457  2.35022609 -0.13292358]\n"
          ]
        }
      ],
      "source": [
        "print(rand_arr)"
      ]
    },
    {
      "cell_type": "code",
      "execution_count": 36,
      "metadata": {
        "colab": {
          "base_uri": "https://localhost:8080/"
        },
        "id": "u7QvbkGfc_Mf",
        "outputId": "634d8dfb-2121-48d1-98ec-f9df79e035ca"
      },
      "outputs": [
        {
          "output_type": "execute_result",
          "data": {
            "text/plain": [
              "array([False,  True,  True, False, False,  True,  True, False,  True,\n",
              "       False])"
            ]
          },
          "metadata": {},
          "execution_count": 36
        }
      ],
      "source": [
        "rand_arr>0"
      ]
    },
    {
      "cell_type": "code",
      "execution_count": 37,
      "metadata": {
        "colab": {
          "base_uri": "https://localhost:8080/"
        },
        "id": "PwjFRjDiczAS",
        "outputId": "9e05d12e-36cd-4598-8b83-5f606cd99b9d"
      },
      "outputs": [
        {
          "output_type": "stream",
          "name": "stdout",
          "text": [
            "Values greater than 0:  [0.24774721 2.26993987 1.48307425 0.80773649 2.35022609]\n",
            "Values less than 0:  [-1.18976097 -1.0673779  -0.70718703 -0.24401457 -0.13292358]\n"
          ]
        }
      ],
      "source": [
        "# accessing all the values of rand_arr which are greater than 0\n",
        "print('Values greater than 0: ',rand_arr[rand_arr>0])\n",
        "\n",
        "# accessing all the values of rand_arr which are less than 0\n",
        "print('Values less than 0: ',rand_arr[rand_arr<0])"
      ]
    },
    {
      "cell_type": "markdown",
      "metadata": {
        "id": "9j2nb_lX3aKJ"
      },
      "source": [
        "**Accessing the entries of a Matrix**"
      ]
    },
    {
      "cell_type": "code",
      "execution_count": 38,
      "metadata": {
        "colab": {
          "base_uri": "https://localhost:8080/"
        },
        "id": "rUT3MtuX3Z-o",
        "outputId": "5f9726a1-b713-4f99-937b-cb5090e4dc96"
      },
      "outputs": [
        {
          "output_type": "stream",
          "name": "stdout",
          "text": [
            "[[-8.36398198e-01 -5.29761591e-01 -5.00817511e-01 -4.98236320e-01\n",
            "   5.14245081e-01]\n",
            " [-3.62004751e-01  5.30531819e-01  8.74234151e-01  1.22788985e+00\n",
            "   7.99400463e-01]\n",
            " [ 2.78180838e+00 -3.29769327e-01  5.03988155e-01 -5.54375925e-01\n",
            "   7.90778213e-04]\n",
            " [-8.37249541e-02  5.73031024e-01  1.80208968e-03 -5.86626497e-01\n",
            "   1.72409611e+00]\n",
            " [-1.23817832e-01  5.30967811e-01 -1.55060362e+00 -5.46399502e-01\n",
            "  -1.14604610e+00]]\n"
          ]
        }
      ],
      "source": [
        "# let's generate an array with 10 random values\n",
        "rand_mat = np.random.randn(5,5)\n",
        "print(rand_mat)"
      ]
    },
    {
      "cell_type": "code",
      "execution_count": 39,
      "metadata": {
        "colab": {
          "base_uri": "https://localhost:8080/"
        },
        "id": "aH5KNWYJ8AAi",
        "outputId": "fb8a8640-285e-4dc7-8763-8d6ee97a8aeb"
      },
      "outputs": [
        {
          "output_type": "execute_result",
          "data": {
            "text/plain": [
              "array([-0.36200475,  0.53053182,  0.87423415,  1.22788985,  0.79940046])"
            ]
          },
          "metadata": {},
          "execution_count": 39
        }
      ],
      "source": [
        "# acessing the second row of the rand_mat\n",
        "rand_mat[1]"
      ]
    },
    {
      "cell_type": "code",
      "execution_count": 40,
      "metadata": {
        "colab": {
          "base_uri": "https://localhost:8080/"
        },
        "id": "cKPauEeS3Zya",
        "outputId": "5e7df819-c18c-47ec-9687-ff40fcc66e98"
      },
      "outputs": [
        {
          "output_type": "stream",
          "name": "stdout",
          "text": [
            "0.8742341505760568\n",
            "0.8742341505760568\n"
          ]
        }
      ],
      "source": [
        "# acessing third element of the second row\n",
        "print(rand_mat[1][2])\n",
        "\n",
        "#or\n",
        "\n",
        "print(rand_mat[1,2])"
      ]
    },
    {
      "cell_type": "code",
      "execution_count": 41,
      "metadata": {
        "colab": {
          "base_uri": "https://localhost:8080/"
        },
        "id": "md90xMiX3ZhX",
        "outputId": "07df80bb-e530-4785-a5df-00099e4be605"
      },
      "outputs": [
        {
          "output_type": "stream",
          "name": "stdout",
          "text": [
            "[[-0.52976159 -0.50081751]\n",
            " [ 0.53053182  0.87423415]]\n"
          ]
        }
      ],
      "source": [
        "# accessing first two rows with second and third column\n",
        "print(rand_mat[0:2,1:3])"
      ]
    },
    {
      "cell_type": "markdown",
      "metadata": {
        "id": "ZQIPaCTxdTkx"
      },
      "source": [
        "**Accessing matrices using logical operations**"
      ]
    },
    {
      "cell_type": "code",
      "execution_count": 42,
      "metadata": {
        "colab": {
          "base_uri": "https://localhost:8080/"
        },
        "id": "FPWAgqcMdTkx",
        "outputId": "1eccd98b-82d8-4331-d7a1-138bb77e2fb8"
      },
      "outputs": [
        {
          "output_type": "stream",
          "name": "stdout",
          "text": [
            "[[-8.36398198e-01 -5.29761591e-01 -5.00817511e-01 -4.98236320e-01\n",
            "   5.14245081e-01]\n",
            " [-3.62004751e-01  5.30531819e-01  8.74234151e-01  1.22788985e+00\n",
            "   7.99400463e-01]\n",
            " [ 2.78180838e+00 -3.29769327e-01  5.03988155e-01 -5.54375925e-01\n",
            "   7.90778213e-04]\n",
            " [-8.37249541e-02  5.73031024e-01  1.80208968e-03 -5.86626497e-01\n",
            "   1.72409611e+00]\n",
            " [-1.23817832e-01  5.30967811e-01 -1.55060362e+00 -5.46399502e-01\n",
            "  -1.14604610e+00]]\n"
          ]
        }
      ],
      "source": [
        "print(rand_mat)"
      ]
    },
    {
      "cell_type": "code",
      "execution_count": 43,
      "metadata": {
        "colab": {
          "base_uri": "https://localhost:8080/"
        },
        "id": "5pBwxeo_dTky",
        "outputId": "9d788a2c-5d7d-4288-abae-a9dc542cf109"
      },
      "outputs": [
        {
          "output_type": "stream",
          "name": "stdout",
          "text": [
            "Values greater than 0: \n",
            "  [5.14245081e-01 5.30531819e-01 8.74234151e-01 1.22788985e+00\n",
            " 7.99400463e-01 2.78180838e+00 5.03988155e-01 7.90778213e-04\n",
            " 5.73031024e-01 1.80208968e-03 1.72409611e+00 5.30967811e-01]\n",
            "Values less than 0: \n",
            " [-0.8363982  -0.52976159 -0.50081751 -0.49823632 -0.36200475 -0.32976933\n",
            " -0.55437593 -0.08372495 -0.5866265  -0.12381783 -1.55060362 -0.5463995\n",
            " -1.1460461 ]\n"
          ]
        }
      ],
      "source": [
        "# accessing all the values of rand_mat which are greater than 0\n",
        "print('Values greater than 0: \\n ',rand_mat[rand_mat>0])\n",
        "\n",
        "# accessing all the values of rand_mat which are less than 0\n",
        "print('Values less than 0: \\n',rand_mat[rand_mat<0])"
      ]
    },
    {
      "cell_type": "markdown",
      "metadata": {
        "id": "Rbc_yo5T8mmS"
      },
      "source": [
        "**Modifying the entries of an Array**"
      ]
    },
    {
      "cell_type": "code",
      "execution_count": 44,
      "metadata": {
        "colab": {
          "base_uri": "https://localhost:8080/"
        },
        "id": "2P57NUFJ8mMA",
        "outputId": "19b568a3-1f23-4cd8-85fb-7658c9b6a23c"
      },
      "outputs": [
        {
          "output_type": "stream",
          "name": "stdout",
          "text": [
            "[-1.18976097  0.24774721  2.26993987 -1.0673779  -0.70718703  1.48307425\n",
            "  0.80773649 -0.24401457  2.35022609 -0.13292358]\n"
          ]
        }
      ],
      "source": [
        "print(rand_arr)"
      ]
    },
    {
      "cell_type": "code",
      "execution_count": 45,
      "metadata": {
        "colab": {
          "base_uri": "https://localhost:8080/"
        },
        "id": "5dTfDf2d-DF7",
        "outputId": "0cec95a9-1388-4f66-b091-af176b1c01df"
      },
      "outputs": [
        {
          "output_type": "stream",
          "name": "stdout",
          "text": [
            "[-1.18976097  0.24774721  2.26993987  5.          5.          1.48307425\n",
            "  0.80773649 -0.24401457  2.35022609 -0.13292358]\n"
          ]
        }
      ],
      "source": [
        "# let's change some values in an array!\n",
        "# changing the values of index value 3 and index value 4 to 5\n",
        "rand_arr[3:5] = 5\n",
        "print(rand_arr)"
      ]
    },
    {
      "cell_type": "code",
      "execution_count": 46,
      "metadata": {
        "colab": {
          "base_uri": "https://localhost:8080/"
        },
        "id": "dC1yVJLT-H9H",
        "outputId": "e7695821-bfe0-4d81-aedd-02b4fb888b1c"
      },
      "outputs": [
        {
          "output_type": "stream",
          "name": "stdout",
          "text": [
            "[ 2.          3.          2.26993987  5.          5.          1.48307425\n",
            "  0.80773649 -0.24401457  2.35022609 -0.13292358]\n"
          ]
        }
      ],
      "source": [
        "# changing the values of index value 0 and index value 1 to 2 and 3 respectively\n",
        "rand_arr[0:2] = [2,3]\n",
        "print(rand_arr)"
      ]
    },
    {
      "cell_type": "code",
      "execution_count": 47,
      "metadata": {
        "colab": {
          "base_uri": "https://localhost:8080/"
        },
        "id": "wT3ishttMugE",
        "outputId": "6dc71693-04e5-4705-e1d4-22580b5fdb0e"
      },
      "outputs": [
        {
          "output_type": "execute_result",
          "data": {
            "text/plain": [
              "array([65.        , 65.        , 65.        , 65.        , 65.        ,\n",
              "       65.        , 65.        , -0.24401457, 65.        , -0.13292358])"
            ]
          },
          "metadata": {},
          "execution_count": 47
        }
      ],
      "source": [
        "# modify entries using logical references\n",
        "rand_arr[rand_arr>0] = 65\n",
        "rand_arr"
      ]
    },
    {
      "cell_type": "markdown",
      "metadata": {
        "id": "lhoMit_Da8F4"
      },
      "source": [
        "**Modifying the entries of a Matrix**"
      ]
    },
    {
      "cell_type": "code",
      "execution_count": 48,
      "metadata": {
        "colab": {
          "base_uri": "https://localhost:8080/"
        },
        "id": "fJ02uz8obsqC",
        "outputId": "88ebd1a2-bbf0-4e14-f43d-e29ddc8ceabb"
      },
      "outputs": [
        {
          "output_type": "stream",
          "name": "stdout",
          "text": [
            "[[1 3 9 9 4]\n",
            " [1 4 2 9 2]\n",
            " [2 9 7 3 7]\n",
            " [3 5 1 4 5]\n",
            " [1 1 9 9 1]]\n"
          ]
        }
      ],
      "source": [
        "print(rand_mat3)"
      ]
    },
    {
      "cell_type": "code",
      "execution_count": 49,
      "metadata": {
        "colab": {
          "base_uri": "https://localhost:8080/"
        },
        "id": "dVNbm4oKNtkr",
        "outputId": "df6375e8-2145-44ca-f613-10ba9aec4b11"
      },
      "outputs": [
        {
          "output_type": "stream",
          "name": "stdout",
          "text": [
            "Matrix before modification: \n",
            " [[1 3 9 9 4]\n",
            " [1 4 2 9 2]\n",
            " [2 9 7 3 7]\n",
            " [3 5 1 4 5]\n",
            " [1 1 9 9 1]]\n",
            "Matrix after modification: \n",
            " [[1 3 9 9 4]\n",
            " [1 4 2 0 0]\n",
            " [2 9 7 0 0]\n",
            " [3 5 1 4 5]\n",
            " [1 1 9 9 1]]\n"
          ]
        }
      ],
      "source": [
        "# changing the values of the 4th and 5th element of the second and third rows of the matrix to 0\n",
        "print('Matrix before modification: \\n',rand_mat3)\n",
        "rand_mat3[1:3,3:5] = 0\n",
        "print('Matrix after modification: \\n',rand_mat3)"
      ]
    },
    {
      "cell_type": "code",
      "execution_count": 50,
      "metadata": {
        "colab": {
          "base_uri": "https://localhost:8080/"
        },
        "id": "uP3butowNtvp",
        "outputId": "e55186f8-d7b2-4fc0-defe-ab0ea40008ab"
      },
      "outputs": [
        {
          "output_type": "stream",
          "name": "stdout",
          "text": [
            "[[-0.8363982  -0.52976159 -0.50081751]\n",
            " [-0.36200475  0.53053182  0.87423415]]\n"
          ]
        }
      ],
      "source": [
        "# extracting the first 2 rows and first 3 columns from the matrix\n",
        "sub_mat = rand_mat[0:2,0:3]\n",
        "print(sub_mat)"
      ]
    },
    {
      "cell_type": "code",
      "execution_count": 51,
      "metadata": {
        "colab": {
          "base_uri": "https://localhost:8080/"
        },
        "id": "3DgctOvENt14",
        "outputId": "64add6c1-cc1b-4631-cf6b-28c450114040"
      },
      "outputs": [
        {
          "output_type": "stream",
          "name": "stdout",
          "text": [
            "[[3. 3. 3.]\n",
            " [3. 3. 3.]]\n"
          ]
        }
      ],
      "source": [
        "# changing all the values of the extracted matrix to 3\n",
        "sub_mat[:] = 3\n",
        "print(sub_mat)"
      ]
    },
    {
      "cell_type": "code",
      "execution_count": 52,
      "metadata": {
        "colab": {
          "base_uri": "https://localhost:8080/"
        },
        "id": "hskgV9vG9lxx",
        "outputId": "ded03a22-d411-447c-a8b0-ba70de7087bd"
      },
      "outputs": [
        {
          "output_type": "execute_result",
          "data": {
            "text/plain": [
              "array([[ 3.00000000e+00,  3.00000000e+00,  3.00000000e+00,\n",
              "        -4.98236320e-01,  5.14245081e-01],\n",
              "       [ 3.00000000e+00,  3.00000000e+00,  3.00000000e+00,\n",
              "         1.22788985e+00,  7.99400463e-01],\n",
              "       [ 2.78180838e+00, -3.29769327e-01,  5.03988155e-01,\n",
              "        -5.54375925e-01,  7.90778213e-04],\n",
              "       [-8.37249541e-02,  5.73031024e-01,  1.80208968e-03,\n",
              "        -5.86626497e-01,  1.72409611e+00],\n",
              "       [-1.23817832e-01,  5.30967811e-01, -1.55060362e+00,\n",
              "        -5.46399502e-01, -1.14604610e+00]])"
            ]
          },
          "metadata": {},
          "execution_count": 52
        }
      ],
      "source": [
        "# what happened to rand_mat when we change sub_mat?\n",
        "rand_mat"
      ]
    },
    {
      "cell_type": "code",
      "execution_count": 53,
      "metadata": {
        "colab": {
          "base_uri": "https://localhost:8080/"
        },
        "id": "PryCb2h29sHx",
        "outputId": "1d697f84-f23e-4b41-e113-b40ad58240f3"
      },
      "outputs": [
        {
          "output_type": "stream",
          "name": "stdout",
          "text": [
            "[[-0.40202622 -0.55719856  2.62447113 -0.52422798  1.30873532]\n",
            " [ 1.37401761  1.02522722 -1.58956287  0.40900518  0.55818559]\n",
            " [ 0.88991917 -0.7581191   0.95172101  1.70030541 -1.9440658 ]\n",
            " [ 0.10625923 -0.15860917 -0.26272368 -0.80625337 -1.05717507]\n",
            " [ 1.25717346  1.80970819 -0.28702303 -0.14693215  0.3575782 ]]\n",
            "[[3. 3. 3.]\n",
            " [3. 3. 3.]]\n",
            "[[-0.40202622 -0.55719856  2.62447113 -0.52422798  1.30873532]\n",
            " [ 1.37401761  1.02522722 -1.58956287  0.40900518  0.55818559]\n",
            " [ 0.88991917 -0.7581191   0.95172101  1.70030541 -1.9440658 ]\n",
            " [ 0.10625923 -0.15860917 -0.26272368 -0.80625337 -1.05717507]\n",
            " [ 1.25717346  1.80970819 -0.28702303 -0.14693215  0.3575782 ]]\n"
          ]
        }
      ],
      "source": [
        "# to prevent this behavior we need to use the .copy() method when we assign sub_mat\n",
        "# this behavior is the source of MANY errors for early python users!!!\n",
        "\n",
        "rand_mat = np.random.randn(5,5)\n",
        "print(rand_mat)\n",
        "sub_mat = rand_mat[0:2,0:3].copy()\n",
        "sub_mat[:] = 3\n",
        "print(sub_mat)\n",
        "print(rand_mat)"
      ]
    },
    {
      "cell_type": "markdown",
      "metadata": {
        "id": "Uhy7xJlW0aDT"
      },
      "source": [
        "### 2.4 Saving and Loading a NumPy array"
      ]
    },
    {
      "cell_type": "markdown",
      "metadata": {
        "id": "qlyONcw5FeSh"
      },
      "source": [
        "**Let's save some NumPy objects on the disk for use later!**"
      ]
    },
    {
      "cell_type": "code",
      "execution_count": 54,
      "metadata": {
        "colab": {
          "base_uri": "https://localhost:8080/"
        },
        "id": "gikqL10PzrC1",
        "outputId": "55924c34-c612-468f-c005-c0a575ff16d2"
      },
      "outputs": [
        {
          "output_type": "stream",
          "name": "stdout",
          "text": [
            "Mounted at /content/drive\n"
          ]
        }
      ],
      "source": [
        "from google.colab import drive\n",
        "drive.mount('/content/drive')"
      ]
    },
    {
      "cell_type": "code",
      "execution_count": 55,
      "metadata": {
        "colab": {
          "base_uri": "https://localhost:8080/"
        },
        "id": "G_w4dYUtFzZO",
        "outputId": "ad3982a5-1e69-49c3-8305-fb9b2c780c92"
      },
      "outputs": [
        {
          "output_type": "stream",
          "name": "stdout",
          "text": [
            "[[9 3 5 6 8]\n",
            " [2 5 9 3 9]]\n",
            "\n",
            "[[10 12 12 13 14]\n",
            " [16 18 13 17 13]]\n"
          ]
        }
      ],
      "source": [
        "# creating a random matrices\n",
        "randint_matrix1 = np.random.randint(1,10,10).reshape(2,5)\n",
        "print(randint_matrix1)\n",
        "print('')\n",
        "randint_matrix2 = np.random.randint(10,20,10).reshape(2,5)\n",
        "print(randint_matrix2)"
      ]
    },
    {
      "cell_type": "markdown",
      "metadata": {
        "id": "rysUk_pSFU1O"
      },
      "source": [
        "**Using np.save() function**"
      ]
    },
    {
      "cell_type": "code",
      "execution_count": 56,
      "metadata": {
        "id": "k9TyLFJ-tkU2",
        "colab": {
          "base_uri": "https://localhost:8080/",
          "height": 358
        },
        "outputId": "d25a593e-37fa-408c-8701-f99b20d42b04"
      },
      "outputs": [
        {
          "output_type": "error",
          "ename": "FileNotFoundError",
          "evalue": "[Errno 2] No such file or directory: '/content/drive/MyDrive/Python Course/saved_file_name.npy'",
          "traceback": [
            "\u001b[0;31m---------------------------------------------------------------------------\u001b[0m",
            "\u001b[0;31mFileNotFoundError\u001b[0m                         Traceback (most recent call last)",
            "\u001b[0;32m/tmp/ipython-input-56-3355972794.py\u001b[0m in \u001b[0;36m<cell line: 0>\u001b[0;34m()\u001b[0m\n\u001b[0;32m----> 1\u001b[0;31m \u001b[0mnp\u001b[0m\u001b[0;34m.\u001b[0m\u001b[0msave\u001b[0m\u001b[0;34m(\u001b[0m\u001b[0;34m'/content/drive/MyDrive/Python Course/saved_file_name'\u001b[0m\u001b[0;34m,\u001b[0m\u001b[0mrandint_matrix1\u001b[0m\u001b[0;34m)\u001b[0m\u001b[0;34m\u001b[0m\u001b[0;34m\u001b[0m\u001b[0m\n\u001b[0m",
            "\u001b[0;32m/usr/local/lib/python3.11/dist-packages/numpy/lib/_npyio_impl.py\u001b[0m in \u001b[0;36msave\u001b[0;34m(file, arr, allow_pickle, fix_imports)\u001b[0m\n\u001b[1;32m    568\u001b[0m         \u001b[0;32mif\u001b[0m \u001b[0;32mnot\u001b[0m \u001b[0mfile\u001b[0m\u001b[0;34m.\u001b[0m\u001b[0mendswith\u001b[0m\u001b[0;34m(\u001b[0m\u001b[0;34m'.npy'\u001b[0m\u001b[0;34m)\u001b[0m\u001b[0;34m:\u001b[0m\u001b[0;34m\u001b[0m\u001b[0;34m\u001b[0m\u001b[0m\n\u001b[1;32m    569\u001b[0m             \u001b[0mfile\u001b[0m \u001b[0;34m=\u001b[0m \u001b[0mfile\u001b[0m \u001b[0;34m+\u001b[0m \u001b[0;34m'.npy'\u001b[0m\u001b[0;34m\u001b[0m\u001b[0;34m\u001b[0m\u001b[0m\n\u001b[0;32m--> 570\u001b[0;31m         \u001b[0mfile_ctx\u001b[0m \u001b[0;34m=\u001b[0m \u001b[0mopen\u001b[0m\u001b[0;34m(\u001b[0m\u001b[0mfile\u001b[0m\u001b[0;34m,\u001b[0m \u001b[0;34m\"wb\"\u001b[0m\u001b[0;34m)\u001b[0m\u001b[0;34m\u001b[0m\u001b[0;34m\u001b[0m\u001b[0m\n\u001b[0m\u001b[1;32m    571\u001b[0m \u001b[0;34m\u001b[0m\u001b[0m\n\u001b[1;32m    572\u001b[0m     \u001b[0;32mwith\u001b[0m \u001b[0mfile_ctx\u001b[0m \u001b[0;32mas\u001b[0m \u001b[0mfid\u001b[0m\u001b[0;34m:\u001b[0m\u001b[0;34m\u001b[0m\u001b[0;34m\u001b[0m\u001b[0m\n",
            "\u001b[0;31mFileNotFoundError\u001b[0m: [Errno 2] No such file or directory: '/content/drive/MyDrive/Python Course/saved_file_name.npy'"
          ]
        }
      ],
      "source": [
        "np.save('/content/drive/MyDrive/Python Course/saved_file_name',randint_matrix1)"
      ]
    },
    {
      "cell_type": "markdown",
      "metadata": {
        "id": "VMfbQlc2FYNl"
      },
      "source": [
        "**Using np.savez() function**"
      ]
    },
    {
      "cell_type": "code",
      "execution_count": null,
      "metadata": {
        "id": "dhtVPefIRfGP"
      },
      "outputs": [],
      "source": [
        "np.savez('/content/drive/MyDrive/Python Course/multiple_files',randint_matrix1=randint_matrix1,randint_matrix2=randint_matrix2)"
      ]
    },
    {
      "cell_type": "markdown",
      "metadata": {
        "id": "hDbZNqdLDj35"
      },
      "source": [
        "* The files will be saved in the directory where the Jupyter Notebook is located.\n",
        "* With np.save() function, we can save an array/matrix to a NumPy .npy format.\n",
        "* np.savez() function has an advantage over np.save() function because with np.savez(), we can store several arrays/matrices into a single file in uncompressed .npz format."
      ]
    },
    {
      "cell_type": "code",
      "execution_count": null,
      "metadata": {
        "id": "h7mYd86cZeTq"
      },
      "outputs": [],
      "source": [
        "# now let's load it\n",
        "loaded_arr = np.load('/content/drive/MyDrive/Python Course/saved_file_name.npy')\n",
        "loaded_multi = np.load('/content/drive/MyDrive/Python Course/multiple_files.npz')\n",
        "\n",
        "print(loaded_arr)\n",
        "print('')\n",
        "print(loaded_multi)"
      ]
    },
    {
      "cell_type": "markdown",
      "metadata": {
        "id": "21XxghDDG69T"
      },
      "source": [
        "* We see that .npy file has been loaded but the .npz file is returning a memory location.\n",
        "* Let's see how to load the values stored in .npz file."
      ]
    },
    {
      "cell_type": "code",
      "execution_count": null,
      "metadata": {
        "id": "VezEM4uPZeZk"
      },
      "outputs": [],
      "source": [
        "print('1st Matrix: \\n',loaded_multi['randint_matrix1'])\n",
        "print('2nd Matrix: \\n',loaded_multi['randint_matrix2'])\n",
        "\n",
        "new_matrix  = loaded_multi['randint_matrix1']\n",
        "print('New Matrix: \\n',new_matrix)"
      ]
    },
    {
      "cell_type": "code",
      "execution_count": null,
      "metadata": {
        "id": "AyyZjATxZefd"
      },
      "outputs": [],
      "source": [
        "# we can also save/load text files...but only single variables\n",
        "np.savetxt('/content/drive/MyDrive/Python Course/text_file_name.txt',randint_matrix1,delimiter=',')\n",
        "rand_mat_txt = np.loadtxt('/content/drive/MyDrive/Python Course/text_file_name.txt',delimiter=',')\n",
        "print(randint_matrix1)\n",
        "print('')\n",
        "print(rand_mat_txt)"
      ]
    },
    {
      "cell_type": "code",
      "execution_count": null,
      "metadata": {
        "id": "WiTOg-jNzE82"
      },
      "outputs": [],
      "source": [
        "## Power operations"
      ]
    }
  ],
  "metadata": {
    "colab": {
      "name": "Hands-on Notebook-NumPy.ipynb",
      "provenance": [],
      "toc_visible": true
    },
    "kernelspec": {
      "display_name": "Python 3 (ipykernel)",
      "language": "python",
      "name": "python3"
    },
    "language_info": {
      "codemirror_mode": {
        "name": "ipython",
        "version": 3
      },
      "file_extension": ".py",
      "mimetype": "text/x-python",
      "name": "python",
      "nbconvert_exporter": "python",
      "pygments_lexer": "ipython3",
      "version": "3.9.13"
    }
  },
  "nbformat": 4,
  "nbformat_minor": 0
}