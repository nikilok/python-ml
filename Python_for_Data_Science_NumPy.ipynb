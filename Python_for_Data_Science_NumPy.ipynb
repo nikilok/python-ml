{
 "cells": [
  {
   "cell_type": "code",
   "execution_count": 17,
   "metadata": {
    "id": "ynE9R19cPIMT"
   },
   "outputs": [],
   "source": [
    "# The first step of using numpy is to tell python to import it\n",
    "import numpy as np"
   ]
  },
  {
   "cell_type": "markdown",
   "metadata": {
    "id": "V7NoTi0kTGVz"
   },
   "source": [
    "### 2.1 NumPy Arrays"
   ]
  },
  {
   "cell_type": "markdown",
   "metadata": {
    "id": "cYsQgeSWalcG"
   },
   "source": [
    "**NumPy Array**\n",
    "* An array is a data structure that stores values of same data type.\n",
    "* While python lists can contain values corresponding to different data types, arrays in python can only contain values corresponding to the same data type.\n",
    "* However python lists fail to deliver the performance required while computing large sets of numerical data. To address this issue we use NumPy arrays.\n",
    "* We can create NumPy arrays by converting a list to an array.\n"
   ]
  },
  {
   "cell_type": "code",
   "execution_count": 18,
   "metadata": {
    "id": "-iMbhbKUS01I"
   },
   "outputs": [],
   "source": [
    "# defining a list of different car companies or string elements\n",
    "arr_str = ['Mercedes', 'BMW', 'Audi', 'Ferrari', 'Tesla', 'Mistubishi']\n",
    "\n",
    "# defining a list of number of cylinders in car or numerical elements\n",
    "arr_num = [5, 4, 6, 7, 3]"
   ]
  },
  {
   "cell_type": "code",
   "execution_count": 19,
   "metadata": {
    "colab": {
     "base_uri": "https://localhost:8080/"
    },
    "id": "z8kfV796S0xz",
    "outputId": "f4a4c33a-84a1-4f0f-f91a-bfa8da02146f"
   },
   "outputs": [
    {
     "name": "stdout",
     "output_type": "stream",
     "text": [
      "Numpy Array (arr_str):  ['Mercedes' 'BMW' 'Audi' 'Ferrari' 'Tesla' 'Mistubishi']\n",
      "Numpy Array (arr_num):  [5 4 6 7 3]\n"
     ]
    }
   ],
   "source": [
    "# connverting the list arr_str to a NumPy array\n",
    "np_arr_str = np.array(arr_str)\n",
    "\n",
    "\n",
    "# connverting the list arr_num to a NumPy array\n",
    "np_arr_num = np.array(arr_num)\n",
    "\n",
    "# checking the output\n",
    "print('Numpy Array (arr_str): ',np_arr_str)\n",
    "print('Numpy Array (arr_num): ',np_arr_num)"
   ]
  },
  {
   "cell_type": "markdown",
   "metadata": {
    "id": "fNUnCIRbS0vz"
   },
   "source": [
    "The resuts look similar to a list but arr_str and arr_num have been converted to NumPy arrays. Let's check the data type to confirm this."
   ]
  },
  {
   "cell_type": "code",
   "execution_count": 20,
   "metadata": {
    "colab": {
     "base_uri": "https://localhost:8080/"
    },
    "id": "Cc_-eibuS0sr",
    "outputId": "a992ee8f-4747-47f5-d953-e4296aaeead7"
   },
   "outputs": [
    {
     "name": "stdout",
     "output_type": "stream",
     "text": [
      "Data type of arr_str:  <class 'list'>\n",
      "Data type of arr_num:  <class 'list'>\n",
      "Data type of np_arr_str:  <class 'numpy.ndarray'>\n",
      "Data type of np_arr_num:  <class 'numpy.ndarray'>\n"
     ]
    }
   ],
   "source": [
    "# printing the data type of lists\n",
    "print('Data type of arr_str: ',type(arr_str))\n",
    "print('Data type of arr_num: ',type(arr_num))\n",
    "\n",
    "# printing the data type after conversion of lists to array\n",
    "print('Data type of np_arr_str: ',type(np_arr_str))\n",
    "print('Data type of np_arr_num: ',type(np_arr_num))"
   ]
  },
  {
   "cell_type": "markdown",
   "metadata": {
    "id": "D5MBk_c0gorg"
   },
   "source": [
    "* The above output confirms that both the lists were successfully converted to arrays"
   ]
  },
  {
   "cell_type": "markdown",
   "metadata": {
    "id": "vO-p9figS0qt"
   },
   "source": [
    "**NumPy Matrix**"
   ]
  },
  {
   "cell_type": "markdown",
   "metadata": {
    "id": "63nVxGI-dEFn"
   },
   "source": [
    "* A matrix is a two-dimensional data structure where elements are arranged into rows and columns.\n",
    "* A matrix can be created by using list of lists"
   ]
  },
  {
   "cell_type": "code",
   "execution_count": 21,
   "metadata": {
    "colab": {
     "base_uri": "https://localhost:8080/"
    },
    "id": "eHL0aPSOS0fT",
    "outputId": "752a65fd-a21d-434a-aa9f-77f17746254b"
   },
   "outputs": [
    {
     "name": "stdout",
     "output_type": "stream",
     "text": [
      "[[1 2 1]\n",
      " [4 5 9]\n",
      " [1 8 9]]\n",
      "matrix transpose \n",
      " [[1 4 1]\n",
      " [2 5 8]\n",
      " [1 9 9]]\n"
     ]
    }
   ],
   "source": [
    "# let's say we have information of different number of cylinders in a car and we want to display them in a matrix format\n",
    "matrix = np.array([[1,2,1],[4,5,9],[1,8,9]])\n",
    "print(matrix)\n",
    "# matrix transpose or .T\n",
    "matrix_transpose = matrix.transpose()\n",
    "print('matrix transpose \\n', matrix_transpose)"
   ]
  },
  {
   "cell_type": "code",
   "execution_count": 22,
   "metadata": {
    "colab": {
     "base_uri": "https://localhost:8080/"
    },
    "id": "1l5-7_3T2svj",
    "outputId": "0249e8b4-82d3-440b-8ef4-fcf7de0f5486"
   },
   "outputs": [
    {
     "name": "stdout",
     "output_type": "stream",
     "text": [
      "Data type of matrix:  <class 'numpy.ndarray'>\n"
     ]
    }
   ],
   "source": [
    "print('Data type of matrix: ',type(matrix))"
   ]
  },
  {
   "cell_type": "markdown",
   "metadata": {
    "id": "ic8DdniJAYi4"
   },
   "source": [
    "* We see that all the NumPy objects have data type as ndarray"
   ]
  },
  {
   "cell_type": "markdown",
   "metadata": {
    "id": "s_QCIWxNPywk"
   },
   "source": [
    "### 2.2 NumPy Functions"
   ]
  },
  {
   "cell_type": "markdown",
   "metadata": {
    "id": "9ByN9uM8dIp9"
   },
   "source": [
    "**There are different ways to create NumPy arrays using the functions available in NumPy library**"
   ]
  },
  {
   "cell_type": "markdown",
   "metadata": {
    "id": "mJD-BCvcdjQY"
   },
   "source": [
    "**Using np.arange() function**\n",
    "* The np.arange() function returns an array with evenly spaced elements as per the interval. The interval mentioned is half-opened i.e. start is included but stop is excluded.\n",
    "* It has the following paramaters:\n",
    "  * start : start of interval range. By default start = 0\n",
    "  * stop  : end of interval range\n",
    "  * step  : step size of interval. By default step size = 1"
   ]
  },
  {
   "cell_type": "code",
   "execution_count": 23,
   "metadata": {
    "colab": {
     "base_uri": "https://localhost:8080/"
    },
    "id": "h6yhwhCfdhrO",
    "outputId": "dc8d7a21-f921-4a35-8fe3-2eebae59db1e"
   },
   "outputs": [
    {
     "name": "stdout",
     "output_type": "stream",
     "text": [
      "[0 1 2 3 4 5 6 7 8 9]\n",
      "[0 1 2 3 4 5 6 7 8 9]\n"
     ]
    }
   ],
   "source": [
    "arr2  = np.arange(start = 0, stop = 10) # 10 will be excluded from the output\n",
    "print(arr2)\n",
    "\n",
    "# or\n",
    "\n",
    "arr2  = np.arange(0, 10)\n",
    "print(arr2)"
   ]
  },
  {
   "cell_type": "code",
   "execution_count": 24,
   "metadata": {
    "colab": {
     "base_uri": "https://localhost:8080/"
    },
    "id": "EBQxWv87gij1",
    "outputId": "6162f83d-4dc7-47dd-ce06-66cf8133afe1"
   },
   "outputs": [
    {
     "data": {
      "text/plain": [
       "array([ 0,  5, 10, 15])"
      ]
     },
     "execution_count": 24,
     "metadata": {},
     "output_type": "execute_result"
    }
   ],
   "source": [
    "# adding a step size of 5 to create an array\n",
    "arr3  = np.arange(start = 0, stop = 20, step = 5)\n",
    "arr3"
   ]
  },
  {
   "cell_type": "markdown",
   "metadata": {
    "id": "fadu1DMxge1S"
   },
   "source": [
    "**Using np.linspace() function**\n",
    "* The np.linspace() function returns numbers which are evenly distributed with respect to interval. Here the start and stop both are included.            \n",
    "*It has the following parameters:              \n",
    " * start: start of interval range. By default start = 0\n",
    " * stop: end of interval range\n",
    " * num : No. of samples to generate. By default num = 50"
   ]
  },
  {
   "cell_type": "code",
   "execution_count": 25,
   "metadata": {
    "colab": {
     "base_uri": "https://localhost:8080/"
    },
    "id": "AvnueiSGdhb7",
    "outputId": "35e44330-e002-41a5-e2d0-74697e6fd054"
   },
   "outputs": [
    {
     "data": {
      "text/plain": [
       "array([10.        , 10.52631579, 11.05263158, 11.57894737, 12.10526316,\n",
       "       12.63157895, 13.15789474, 13.68421053, 14.21052632, 14.73684211,\n",
       "       15.26315789, 15.78947368, 16.31578947, 16.84210526, 17.36842105,\n",
       "       17.89473684, 18.42105263, 18.94736842, 19.47368421, 20.        ])"
      ]
     },
     "execution_count": 25,
     "metadata": {},
     "output_type": "execute_result"
    }
   ],
   "source": [
    "matrix2 = np.linspace(0,5) # by default 50 evenly spaced values will be generated between 0 and 5\n",
    "matrix2\n",
    "matrix_test = np.linspace(10, 20, 20)\n",
    "matrix_test"
   ]
  },
  {
   "cell_type": "markdown",
   "metadata": {
    "id": "zR_AydpiBToe"
   },
   "source": [
    "**How are these values getting generated?**\n",
    "\n",
    "The step size or the difference between each element will be decided by the following formula:\n",
    "\n",
    "**(stop - start) / (total elements - 1)**\n",
    "\n",
    "So, in this case:\n",
    "(5 - 0) / 49 = 0.10204082\n",
    "\n",
    "The first value will be 0.10204082, the second value will be 0.10204082 + 0.10204082, the third value will be 0.10204082 + 0.10204082 +0.10204082, and so on."
   ]
  },
  {
   "cell_type": "code",
   "execution_count": 26,
   "metadata": {
    "colab": {
     "base_uri": "https://localhost:8080/"
    },
    "id": "0VDGGmj2dhPp",
    "outputId": "15ef9e88-6c3a-4247-c80c-c199bc026cb0"
   },
   "outputs": [
    {
     "data": {
      "text/plain": [
       "array([10.        , 11.11111111, 12.22222222, 13.33333333, 14.44444444,\n",
       "       15.55555556, 16.66666667, 17.77777778, 18.88888889, 20.        ])"
      ]
     },
     "execution_count": 26,
     "metadata": {},
     "output_type": "execute_result"
    }
   ],
   "source": [
    "# generating 10 evenly spaced values between 10 and 20\n",
    "matrix3 = np.linspace(10,20,10)\n",
    "matrix3"
   ]
  },
  {
   "cell_type": "markdown",
   "metadata": {
    "id": "8Nxn51w2dhEE"
   },
   "source": [
    "**Similarly we can create matrices using the functions available in NumPy library**"
   ]
  },
  {
   "cell_type": "markdown",
   "metadata": {
    "id": "x9brl-h9dg2b"
   },
   "source": [
    "**Using np.zeros()**\n",
    "\n",
    "* The np.zeros() is a function for creating a matrix and performing matrix operations in NumPy.\n",
    "* It returns a matrix filled with zeros of the given shape.\n",
    "* It has the following parameters:    \n",
    "  * shape : Number of rows and columns in the output matrix.\n",
    "  * dtype: data type of the elements in the matrix, by default the value is set to `float`."
   ]
  },
  {
   "cell_type": "code",
   "execution_count": 27,
   "metadata": {
    "colab": {
     "base_uri": "https://localhost:8080/"
    },
    "id": "zcfKm8ENjNQv",
    "outputId": "cd6a084c-76b3-446c-bdf5-314b83e82caf"
   },
   "outputs": [
    {
     "data": {
      "text/plain": [
       "array([[[[0., 0., 0., 0., 0., 0., 0., 0., 0., 0.],\n",
       "         [0., 0., 0., 0., 0., 0., 0., 0., 0., 0.]],\n",
       "\n",
       "        [[0., 0., 0., 0., 0., 0., 0., 0., 0., 0.],\n",
       "         [0., 0., 0., 0., 0., 0., 0., 0., 0., 0.]],\n",
       "\n",
       "        [[0., 0., 0., 0., 0., 0., 0., 0., 0., 0.],\n",
       "         [0., 0., 0., 0., 0., 0., 0., 0., 0., 0.]],\n",
       "\n",
       "        [[0., 0., 0., 0., 0., 0., 0., 0., 0., 0.],\n",
       "         [0., 0., 0., 0., 0., 0., 0., 0., 0., 0.]]],\n",
       "\n",
       "\n",
       "       [[[0., 0., 0., 0., 0., 0., 0., 0., 0., 0.],\n",
       "         [0., 0., 0., 0., 0., 0., 0., 0., 0., 0.]],\n",
       "\n",
       "        [[0., 0., 0., 0., 0., 0., 0., 0., 0., 0.],\n",
       "         [0., 0., 0., 0., 0., 0., 0., 0., 0., 0.]],\n",
       "\n",
       "        [[0., 0., 0., 0., 0., 0., 0., 0., 0., 0.],\n",
       "         [0., 0., 0., 0., 0., 0., 0., 0., 0., 0.]],\n",
       "\n",
       "        [[0., 0., 0., 0., 0., 0., 0., 0., 0., 0.],\n",
       "         [0., 0., 0., 0., 0., 0., 0., 0., 0., 0.]]],\n",
       "\n",
       "\n",
       "       [[[0., 0., 0., 0., 0., 0., 0., 0., 0., 0.],\n",
       "         [0., 0., 0., 0., 0., 0., 0., 0., 0., 0.]],\n",
       "\n",
       "        [[0., 0., 0., 0., 0., 0., 0., 0., 0., 0.],\n",
       "         [0., 0., 0., 0., 0., 0., 0., 0., 0., 0.]],\n",
       "\n",
       "        [[0., 0., 0., 0., 0., 0., 0., 0., 0., 0.],\n",
       "         [0., 0., 0., 0., 0., 0., 0., 0., 0., 0.]],\n",
       "\n",
       "        [[0., 0., 0., 0., 0., 0., 0., 0., 0., 0.],\n",
       "         [0., 0., 0., 0., 0., 0., 0., 0., 0., 0.]]]])"
      ]
     },
     "execution_count": 27,
     "metadata": {},
     "output_type": "execute_result"
    }
   ],
   "source": [
    "matrix4 = np.zeros([3,5])\n",
    "matrix4\n",
    "# 2d matrix\n",
    "np.zeros([3,4])\n",
    "np.zeros([3,4,10])\n",
    "np.zeros([3,4, 2,10])\n",
    "\n"
   ]
  },
  {
   "cell_type": "markdown",
   "metadata": {
    "id": "8jy4YykQjICK"
   },
   "source": [
    "**Using np.ones()**\n",
    "\n",
    "* The np.ones() is another function for creating a matrix and performing matrix operations in NumPy.\n",
    "* It returns a matrix of given shape and type, filled with ones.\n",
    "* It has the following parameters:  \n",
    "  * shape : Number of rows and columns in the output matrix.\n",
    "  * dtype: data type of the elements in the matrix, by default the value is set to `float`."
   ]
  },
  {
   "cell_type": "code",
   "execution_count": 28,
   "metadata": {
    "colab": {
     "base_uri": "https://localhost:8080/"
    },
    "id": "JJ-hv5dcjRN1",
    "outputId": "c7ed7c6b-c299-47c1-d0ae-1dd6d851164b"
   },
   "outputs": [
    {
     "data": {
      "text/plain": [
       "array([[1., 1., 1., 1., 1.],\n",
       "       [1., 1., 1., 1., 1.],\n",
       "       [1., 1., 1., 1., 1.]])"
      ]
     },
     "execution_count": 28,
     "metadata": {},
     "output_type": "execute_result"
    }
   ],
   "source": [
    "matrix5 = np.ones([3,5])\n",
    "matrix5"
   ]
  },
  {
   "cell_type": "markdown",
   "metadata": {
    "id": "ge-0i4W2jH4S"
   },
   "source": [
    "**Using np.eye()**\n",
    "* The np.eye() is a function for creating a matrix and performing matrix operations in NumPy.\n",
    "* It returns a matrix with ones on the diagonal and zeros elsewhere.\n",
    "* It has the following parameters:\n",
    "  * n: Number of rows and columns in the output matrix\n",
    "  * dtype: data type of the elements in the matrix, by default the value is set to `float`."
   ]
  },
  {
   "cell_type": "code",
   "execution_count": 29,
   "metadata": {
    "colab": {
     "base_uri": "https://localhost:8080/"
    },
    "id": "2a0_OXeWjHou",
    "outputId": "cf88c904-2b3b-459f-c479-7ae500421b57"
   },
   "outputs": [
    {
     "data": {
      "text/plain": [
       "array([[1., 0., 0., 0., 0.],\n",
       "       [0., 1., 0., 0., 0.],\n",
       "       [0., 0., 1., 0., 0.],\n",
       "       [0., 0., 0., 1., 0.],\n",
       "       [0., 0., 0., 0., 1.]])"
      ]
     },
     "execution_count": 29,
     "metadata": {},
     "output_type": "execute_result"
    }
   ],
   "source": [
    "matrix6 = np.eye(5)\n",
    "matrix6\n",
    "# np.eye(6,3)"
   ]
  },
  {
   "cell_type": "markdown",
   "metadata": {
    "id": "DkJp6gB1dgHl"
   },
   "source": [
    "**We can also convert a one dimension array to a matrix. This can be done by using the np.reshape() function.**"
   ]
  },
  {
   "cell_type": "markdown",
   "metadata": {
    "id": "ifxHtcyyuVsX"
   },
   "source": [
    "* The shape of an array basically tells the number of elements and dimensions of the array. Reshaping a Numpy array simply means changing the shape of the given array.\n",
    "* By reshaping an array we can add or remove dimensions or change number of elements in each dimension.\n",
    "* In order to reshape a NumPy array, we use the reshape method with the given array.\n",
    "* **Syntax:** array.reshape(shape)\n",
    "  * shape: a tuple given as input, the values in tuple will be the new shape of the array."
   ]
  },
  {
   "cell_type": "code",
   "execution_count": 30,
   "metadata": {
    "colab": {
     "base_uri": "https://localhost:8080/"
    },
    "id": "iYbHCKdPk5hb",
    "outputId": "34e8e4f3-65b5-4c32-fcd5-5b5e2d0d8218"
   },
   "outputs": [
    {
     "data": {
      "text/plain": [
       "array([0, 1, 2, 3, 4, 5, 6, 7, 8, 9])"
      ]
     },
     "execution_count": 30,
     "metadata": {},
     "output_type": "execute_result"
    }
   ],
   "source": [
    "# defining an array with values 0 to 9\n",
    "arr4 = np.arange(0, 10)\n",
    "arr4"
   ]
  },
  {
   "cell_type": "code",
   "execution_count": 31,
   "metadata": {
    "colab": {
     "base_uri": "https://localhost:8080/"
    },
    "id": "SE6wnu1MlbXv",
    "outputId": "d41d622d-6ae2-4e2d-fe6a-e15b5b449b24"
   },
   "outputs": [
    {
     "data": {
      "text/plain": [
       "array([[0, 1, 2, 3, 4],\n",
       "       [5, 6, 7, 8, 9]])"
      ]
     },
     "execution_count": 31,
     "metadata": {},
     "output_type": "execute_result"
    }
   ],
   "source": [
    "# reshaping the array arr4 to a 2 x 5 matrix\n",
    "arr4_reshaped = arr4.reshape((2,5))\n",
    "arr4_reshaped"
   ]
  },
  {
   "cell_type": "code",
   "execution_count": 32,
   "metadata": {
    "colab": {
     "base_uri": "https://localhost:8080/"
    },
    "id": "KbuGcnPLFT2m",
    "outputId": "c9c21c27-0403-413c-c27c-71524bc38009"
   },
   "outputs": [
    {
     "data": {
      "text/plain": [
       "array([0, 1, 2, 3, 4, 5, 6, 7, 8, 9])"
      ]
     },
     "execution_count": 32,
     "metadata": {},
     "output_type": "execute_result"
    }
   ],
   "source": [
    "arr4"
   ]
  },
  {
   "cell_type": "code",
   "execution_count": 33,
   "metadata": {
    "colab": {
     "base_uri": "https://localhost:8080/",
     "height": 162
    },
    "id": "HRqcE-TT_-dQ",
    "outputId": "9493cdf8-0421-45ed-9440-eb76b2140c83"
   },
   "outputs": [
    {
     "ename": "ValueError",
     "evalue": "cannot reshape array of size 10 into shape (2,6)",
     "output_type": "error",
     "traceback": [
      "\u001b[0;31m---------------------------------------------------------------------------\u001b[0m",
      "\u001b[0;31mValueError\u001b[0m                                Traceback (most recent call last)",
      "Cell \u001b[0;32mIn[33], line 2\u001b[0m\n\u001b[1;32m      1\u001b[0m \u001b[38;5;66;03m# reshaping the array arr4 to a 2 x 6 matrix\u001b[39;00m\n\u001b[0;32m----> 2\u001b[0m \u001b[43marr4\u001b[49m\u001b[38;5;241;43m.\u001b[39;49m\u001b[43mreshape\u001b[49m\u001b[43m(\u001b[49m\u001b[43m(\u001b[49m\u001b[38;5;241;43m2\u001b[39;49m\u001b[43m,\u001b[49m\u001b[38;5;241;43m6\u001b[39;49m\u001b[43m)\u001b[49m\u001b[43m)\u001b[49m\n",
      "\u001b[0;31mValueError\u001b[0m: cannot reshape array of size 10 into shape (2,6)"
     ]
    }
   ],
   "source": [
    "# reshaping the array arr4 to a 2 x 6 matrix\n",
    "arr4.reshape((2,6))"
   ]
  },
  {
   "cell_type": "markdown",
   "metadata": {
    "id": "7DGMoYswCocf"
   },
   "source": [
    "* This did not work because we have 10 elements which we are trying to fit in a 2 X 6 shape which will require 12 elements."
   ]
  },
  {
   "cell_type": "markdown",
   "metadata": {
    "id": "lNd_TddVQtWI"
   },
   "source": [
    "**NumPy can also perform a large number of different mathematical operations and it provides different functions to do so.**\n",
    "\n",
    "NumPy provides:\n",
    "1. Trigonometric functions\n",
    "2. Exponents and Logarithmic functions\n",
    "3. Functions for arithmetic operations between arrays and matrices"
   ]
  },
  {
   "cell_type": "markdown",
   "metadata": {
    "id": "CE9wPRdYn5IB"
   },
   "source": [
    "**Trigonometric functions**"
   ]
  },
  {
   "cell_type": "code",
   "execution_count": null,
   "metadata": {
    "id": "6iKAU71XQBXn"
   },
   "outputs": [
    {
     "name": "stdout",
     "output_type": "stream",
     "text": [
      "Sine Function: -0.7568024953079283\n",
      "Cosine Function: -0.6536436208636119\n",
      "Tan Function 1.1578212823495775\n"
     ]
    }
   ],
   "source": [
    "print('Sine Function:',np.sin(4))\n",
    "print('Cosine Function:',np.cos(4))\n",
    "print('Tan Function',np.tan(4))"
   ]
  },
  {
   "cell_type": "markdown",
   "metadata": {
    "id": "BBKFBoABoyRx"
   },
   "source": [
    "* Exponents"
   ]
  },
  {
   "cell_type": "markdown",
   "metadata": {
    "id": "9QWy471mQEXT"
   },
   "source": [
    "**Exponents and Logarithmic functions**"
   ]
  },
  {
   "cell_type": "code",
   "execution_count": null,
   "metadata": {
    "id": "aanbLXltoDgt"
   },
   "outputs": [
    {
     "data": {
      "text/plain": [
       "np.float64(92687782248.27428)"
      ]
     },
     "execution_count": 35,
     "metadata": {},
     "output_type": "execute_result"
    }
   ],
   "source": [
    "np.exp(0)\n",
    "np.exp(1)\n",
    "np.exp(2)\n",
    "np.exp(25.252502502)\n"
   ]
  },
  {
   "cell_type": "code",
   "execution_count": null,
   "metadata": {
    "id": "9VUfgN_oomI7"
   },
   "outputs": [
    {
     "data": {
      "text/plain": [
       "array([  7.3890561 ,  54.59815003, 403.42879349])"
      ]
     },
     "execution_count": 37,
     "metadata": {},
     "output_type": "execute_result"
    }
   ],
   "source": [
    "arr5 = np.array([2,4,6])\n",
    "np.exp(arr5)"
   ]
  },
  {
   "cell_type": "markdown",
   "metadata": {
    "id": "BgTCC-v6ouZn"
   },
   "source": [
    "* Logarithms"
   ]
  },
  {
   "cell_type": "code",
   "execution_count": null,
   "metadata": {
    "id": "7V8RWfDipHOQ"
   },
   "outputs": [
    {
     "data": {
      "text/plain": [
       "array([2., 4., 6.])"
      ]
     },
     "execution_count": 39,
     "metadata": {},
     "output_type": "execute_result"
    }
   ],
   "source": [
    "# by default NumPy takes the base of log as e\n",
    "# This reverse what np.exp() did. If e^x = y then log() tries to answer what 'x' in (e^x) was.\n",
    "# in short what did you have to raise eulers number by to get to a value, and that is what log answers.\n",
    "np.log([  7.3890561 ,  54.59815003, 403.42879349])\n",
    "# np.log(2)\n",
    "# np.log(7.38905609893065)\n",
    "# np.log(92687782248.27428)"
   ]
  },
  {
   "cell_type": "code",
   "execution_count": null,
   "metadata": {
    "id": "CH5eCec2pJLo"
   },
   "outputs": [
    {
     "data": {
      "text/plain": [
       "array([0.69314718, 1.38629436, 1.79175947])"
      ]
     },
     "execution_count": 40,
     "metadata": {},
     "output_type": "execute_result"
    }
   ],
   "source": [
    "np.log(arr5)"
   ]
  },
  {
   "cell_type": "code",
   "execution_count": null,
   "metadata": {
    "id": "bgam8aXTpOVc"
   },
   "outputs": [
    {
     "data": {
      "text/plain": [
       "np.float64(0.9030899869919435)"
      ]
     },
     "execution_count": 41,
     "metadata": {},
     "output_type": "execute_result"
    }
   ],
   "source": [
    "## log with base 10\n",
    "np.log10(8)"
   ]
  },
  {
   "cell_type": "markdown",
   "metadata": {
    "id": "jDCujvq0pWZr"
   },
   "source": [
    "**Arithmetic Operations on arrays**"
   ]
  },
  {
   "cell_type": "code",
   "execution_count": null,
   "metadata": {
    "id": "SXFDL0TeKJZT"
   },
   "outputs": [
    {
     "name": "stdout",
     "output_type": "stream",
     "text": [
      "[1, 2, 3, 4, 5, 6]\n",
      "{1, 2, 3, 4, 5, 6}\n",
      "(1, 2, 3, 4, 5, 6)\n"
     ]
    }
   ],
   "source": [
    "# arithmetic on lists\n",
    "\n",
    "l1 = [1,2,3]\n",
    "l2 = [4,5,6]\n",
    "# the below does a union of l1, l2 \n",
    "print(l1+l2)\n",
    "# this does not behave as you would expect!\n",
    "sl1 = {1, 2, 3}\n",
    "sl2 = {4, 5, 6}\n",
    "print(sl1 | sl2) # This is union in sets.add\n",
    "\n",
    "tl1 = (1, 2, 3)\n",
    "tl2 = (4, 5, 6)\n",
    "print(tl1 + tl2) # This is union in tuples"
   ]
  },
  {
   "cell_type": "code",
   "execution_count": null,
   "metadata": {
    "id": "MHZKZFP8ppQx"
   },
   "outputs": [
    {
     "name": "stdout",
     "output_type": "stream",
     "text": [
      "arr7: [1 2 3 4 5]\n",
      "arr8: [3 4 5 6 7]\n"
     ]
    }
   ],
   "source": [
    "# we can +-*/ arrays together\n",
    "\n",
    "# defining two arrays\n",
    "arr7 = np.arange(1,6)\n",
    "print('arr7:', arr7)\n",
    "\n",
    "arr8 = np.arange(3,8)\n",
    "print('arr8:', arr8)"
   ]
  },
  {
   "cell_type": "code",
   "execution_count": null,
   "metadata": {
    "id": "xkMkQOL8rHOw"
   },
   "outputs": [
    {
     "name": "stdout",
     "output_type": "stream",
     "text": [
      "Addition:  [ 4  6  8 10 12]\n",
      "Subtraction:  [2 2 2 2 2]\n",
      "Multiplication: [ 3  8 15 24 35]\n",
      "Division: [0.33333333 0.5        0.6        0.66666667 0.71428571]\n",
      "Inverse: [1.         0.5        0.33333333 0.25       0.2       ]\n",
      "Powers: [    1    16   243  4096 78125]\n",
      "6\n"
     ]
    }
   ],
   "source": [
    "print('Addition: ',arr7+arr8)\n",
    "print('Subtraction: ',arr8-arr7)\n",
    "print('Multiplication:' , arr7*arr8)\n",
    "print('Division:', arr7/arr8)\n",
    "print('Inverse:', 1/arr7)\n",
    "print('Powers:', arr7**arr8) # in python, powers are achieved using **, NOT ^!!! ^ does something completely different!\n",
    "a = 5 # Binary: 0101\n",
    "b = 3 # Binary: 0011\n",
    "result = a ^ b # Binary: 0110 XOR operation\n",
    "print(result)"
   ]
  },
  {
   "cell_type": "markdown",
   "metadata": {
    "id": "SrE8fcrFtt7c"
   },
   "source": [
    "**Operations on Matrices**"
   ]
  },
  {
   "cell_type": "code",
   "execution_count": null,
   "metadata": {
    "id": "p-lZfDhUrb2b"
   },
   "outputs": [
    {
     "name": "stdout",
     "output_type": "stream",
     "text": [
      "[[1 2 3]\n",
      " [4 5 6]\n",
      " [7 8 9]]\n",
      "[[[ 1  2  3]\n",
      "  [ 4  5  6]\n",
      "  [ 7  8  9]]\n",
      "\n",
      " [[10 11 12]\n",
      "  [13 14 15]\n",
      "  [16 17 18]]\n",
      "\n",
      " [[19 20 21]\n",
      "  [22 23 24]\n",
      "  [25 26 27]]]\n",
      "[[1. 0. 0.]\n",
      " [0. 1. 0.]\n",
      " [0. 0. 1.]]\n",
      "[[1. 0. 0. 0.]\n",
      " [0. 1. 0. 0.]\n",
      " [0. 0. 1. 0.]\n",
      " [0. 0. 0. 1.]]\n"
     ]
    }
   ],
   "source": [
    "matrix7 = np.arange(1,10).reshape(3,3)\n",
    "print(matrix7)\n",
    "\n",
    "\n",
    "matrix6 = np.arange(1, 28).reshape(3,3,3)\n",
    "print(matrix6)\n",
    "\n",
    "matrix8 = np.eye(3)\n",
    "print(matrix8)\n",
    "\n",
    "matrix9 = np.eye(4)\n",
    "print(matrix9)"
   ]
  },
  {
   "cell_type": "code",
   "execution_count": null,
   "metadata": {
    "id": "VGBAxsUUtyts"
   },
   "outputs": [
    {
     "name": "stdout",
     "output_type": "stream",
     "text": [
      "Addition: \n",
      " [[ 2.  2.  3.]\n",
      " [ 4.  6.  6.]\n",
      " [ 7.  8. 10.]]\n",
      "Subtraction: \n",
      "  [[0. 2. 3.]\n",
      " [4. 4. 6.]\n",
      " [7. 8. 8.]]\n",
      "Multiplication: \n",
      " [[1. 0. 0.]\n",
      " [0. 5. 0.]\n",
      " [0. 0. 9.]]\n",
      "Division: \n",
      " [[ 1. inf inf]\n",
      " [inf  5. inf]\n",
      " [inf inf  9.]]\n"
     ]
    },
    {
     "name": "stderr",
     "output_type": "stream",
     "text": [
      "/var/folders/mr/vx50gbk93hs1q1jv0rgvmlbm0000gn/T/ipykernel_64724/2604038799.py:4: RuntimeWarning: divide by zero encountered in divide\n",
      "  print('Division: \\n', matrix7/matrix8)\n"
     ]
    }
   ],
   "source": [
    "print('Addition: \\n', matrix7+matrix8)\n",
    "print('Subtraction: \\n ', matrix7-matrix8)\n",
    "print('Multiplication: \\n', matrix7*matrix8)\n",
    "print('Division: \\n', matrix7/matrix8)"
   ]
  },
  {
   "cell_type": "markdown",
   "metadata": {
    "id": "c7jHF8Od6mHH"
   },
   "source": [
    "* RuntimeWarning: Errors which occur during program execution(run-time) after successful compilation are called run-time errors.\n",
    "* One of the most common run-time error is division by zero also known as Division error.\n",
    "* Due to division by zero error, we are getting inf (infinity) values because 1/0 is not a defined operation."
   ]
  },
  {
   "cell_type": "markdown",
   "metadata": {
    "id": "3WYcA-OxyL9Y"
   },
   "source": [
    "**Linear algebra matrix multiplication**"
   ]
  },
  {
   "cell_type": "code",
   "execution_count": null,
   "metadata": {
    "id": "nc0PAuG3sM6A"
   },
   "outputs": [
    {
     "name": "stdout",
     "output_type": "stream",
     "text": [
      "First Matrix: \n",
      " [[1 2 3]\n",
      " [4 5 6]\n",
      " [7 8 9]]\n",
      "Second Matrix: \n",
      " [[11 12 13]\n",
      " [14 15 16]\n",
      " [17 18 19]]\n",
      "\n",
      "Multiplication: \n",
      " [[ 90  96 102]\n",
      " [216 231 246]\n",
      " [342 366 390]]\n"
     ]
    }
   ],
   "source": [
    "matrix9 = np.arange(1,10).reshape(3,3)\n",
    "print('First Matrix: \\n',matrix9)\n",
    "\n",
    "matrix10 = np.arange(11,20).reshape(3,3)\n",
    "print('Second Matrix: \\n',matrix10)\n",
    "print('')\n",
    "# taking linear algebra matrix multiplication (some may have heard this called the dot product)\n",
    "print('Multiplication: \\n', matrix9 @ matrix10)"
   ]
  },
  {
   "cell_type": "markdown",
   "metadata": {
    "id": "IKADxcTS6THS"
   },
   "source": [
    "### Matrix multiplication of a 3 x 3 two matrices.\n",
    "- The rule of multiplying matrix A to B is that the columns of A should be equal to the rows of B.\n",
    "- In the below example `matrix_a` is a 1 x _`3`_ matrix, and `matrix_b` is a _`3`_ x 1 matrix. Hence it's a valid input to multiply."
   ]
  },
  {
   "cell_type": "code",
   "execution_count": null,
   "metadata": {
    "id": "wL8qe2Z45t1Z"
   },
   "outputs": [
    {
     "name": "stdout",
     "output_type": "stream",
     "text": [
      "[38 46]\n"
     ]
    }
   ],
   "source": [
    "matrix_a = np.array([3, 1, 4])\n",
    "matrix_b = np.array([[4,3],[2, 5],[6, 8]])\n",
    "print(matrix_a @ matrix_b)"
   ]
  },
  {
   "cell_type": "markdown",
   "metadata": {
    "id": "lJ70TzJM8RsL"
   },
   "source": [
    "### Invalid matrix multiplication example\n",
    "- In the below example we try to multiply `matrix_b` with `matrix_a` and that is 3 x _`1`_ . 1 x _`3`\n",
    "\n",
    "`this will cause an error`"
   ]
  },
  {
   "cell_type": "code",
   "execution_count": null,
   "metadata": {
    "id": "J0K9k-I38DX4"
   },
   "outputs": [
    {
     "ename": "ValueError",
     "evalue": "matmul: Input operand 1 has a mismatch in its core dimension 0, with gufunc signature (n?,k),(k,m?)->(n?,m?) (size 3 is different from 2)",
     "output_type": "error",
     "traceback": [
      "\u001b[0;31m---------------------------------------------------------------------------\u001b[0m",
      "\u001b[0;31mValueError\u001b[0m                                Traceback (most recent call last)",
      "Cell \u001b[0;32mIn[64], line 1\u001b[0m\n\u001b[0;32m----> 1\u001b[0m \u001b[38;5;28mprint\u001b[39m(matrix_b \u001b[38;5;241m@\u001b[39m matrix_a)\n",
      "\u001b[0;31mValueError\u001b[0m: matmul: Input operand 1 has a mismatch in its core dimension 0, with gufunc signature (n?,k),(k,m?)->(n?,m?) (size 3 is different from 2)"
     ]
    }
   ],
   "source": [
    "print(matrix_b @ matrix_a)"
   ]
  },
  {
   "cell_type": "code",
   "execution_count": null,
   "metadata": {
    "id": "1ivJKbkq9X6a"
   },
   "outputs": [
    {
     "name": "stdout",
     "output_type": "stream",
     "text": [
      "10\n"
     ]
    },
    {
     "ename": "NameError",
     "evalue": "name 'matrix_test_a' is not defined",
     "output_type": "error",
     "traceback": [
      "\u001b[0;31m---------------------------------------------------------------------------\u001b[0m",
      "\u001b[0;31mNameError\u001b[0m                                 Traceback (most recent call last)",
      "Cell \u001b[0;32mIn[65], line 7\u001b[0m\n\u001b[1;32m      5\u001b[0m \u001b[38;5;28mprint\u001b[39m(\u001b[38;5;28mround\u001b[39m(\u001b[38;5;241m21\u001b[39m \u001b[38;5;241m/\u001b[39m \u001b[38;5;241m2\u001b[39m))\n\u001b[1;32m      6\u001b[0m \u001b[38;5;66;03m# matrix_test_a = np.arange(1, x).reshape(mat_x, mat_y)\u001b[39;00m\n\u001b[0;32m----> 7\u001b[0m matrix_test_a\n",
      "\u001b[0;31mNameError\u001b[0m: name 'matrix_test_a' is not defined"
     ]
    }
   ],
   "source": [
    "x = 31\n",
    "y = 2\n",
    "mat_x = round(x / 2)\n",
    "mat_y = 2\n",
    "print(round(21 / 2))\n",
    "# matrix_test_a = np.arange(1, x).reshape(mat_x, mat_y)\n",
    "matrix_test_a"
   ]
  },
  {
   "cell_type": "code",
   "execution_count": null,
   "metadata": {
    "id": "se4QSOfAH1Ro"
   },
   "outputs": [
    {
     "name": "stdout",
     "output_type": "stream",
     "text": [
      "bags (1 x 10) -> [ 1  2  3  4  5  6  7  8  9 10]\n",
      "weights (1 x 10) -> [0. 0. 0. 0. 0. 1. 0. 0. 0. 0.]\n"
     ]
    },
    {
     "data": {
      "text/plain": [
       "np.float64(6.0)"
      ]
     },
     "execution_count": 66,
     "metadata": {},
     "output_type": "execute_result"
    }
   ],
   "source": [
    "bags = np.arange(1, 11)\n",
    "coin_bags = np.zeros(10)\n",
    "bag_with_marker = 6\n",
    "\n",
    "coin_bags[bag_with_marker - 1] = 1\n",
    "# coin_bags[bag_with_marker - 2] = 1\n",
    "print('bags (1 x 10) ->', bags)\n",
    "print('weights (1 x 10) ->', coin_bags)\n",
    "bags @ coin_bags"
   ]
  },
  {
   "cell_type": "markdown",
   "metadata": {
    "id": "LQVkMw7Iynfu"
   },
   "source": [
    "**Transpose of a matrix**"
   ]
  },
  {
   "cell_type": "code",
   "execution_count": null,
   "metadata": {
    "id": "DJp3NtsrsSM4"
   },
   "outputs": [
    {
     "name": "stdout",
     "output_type": "stream",
     "text": [
      "[[1 2 3]\n",
      " [4 5 6]\n",
      " [7 8 9]]\n"
     ]
    }
   ],
   "source": [
    "print(matrix9)"
   ]
  },
  {
   "cell_type": "code",
   "execution_count": null,
   "metadata": {
    "id": "MDKJgUlptKet"
   },
   "outputs": [
    {
     "data": {
      "text/plain": [
       "array([[ 0,  5, 10, 15, 20, 25, 30, 35, 40, 45],\n",
       "       [ 1,  6, 11, 16, 21, 26, 31, 36, 41, 46],\n",
       "       [ 2,  7, 12, 17, 22, 27, 32, 37, 42, 47],\n",
       "       [ 3,  8, 13, 18, 23, 28, 33, 38, 43, 48],\n",
       "       [ 4,  9, 14, 19, 24, 29, 34, 39, 44, 49]])"
      ]
     },
     "execution_count": 68,
     "metadata": {},
     "output_type": "execute_result"
    }
   ],
   "source": [
    "# taking transpose of matrix\n",
    "np.transpose(matrix9)\n",
    "matrix_1_10 = np.arange(0, 50).reshape(10, 5)\n",
    "matrix_1_10\n",
    "matrix_1_10.T"
   ]
  },
  {
   "cell_type": "code",
   "execution_count": null,
   "metadata": {
    "id": "PwwpvruatMRj"
   },
   "outputs": [
    {
     "name": "stdout",
     "output_type": "stream",
     "text": [
      "[[ 0  1  2  3  4]\n",
      " [ 5  6  7  8  9]\n",
      " [10 11 12 13 14]]\n",
      "[[ 0  5 10]\n",
      " [ 1  6 11]\n",
      " [ 2  7 12]\n",
      " [ 3  8 13]\n",
      " [ 4  9 14]]\n"
     ]
    },
    {
     "data": {
      "text/plain": [
       "array([[ 30,  80, 130],\n",
       "       [ 80, 255, 430],\n",
       "       [130, 430, 730]])"
      ]
     },
     "execution_count": 69,
     "metadata": {},
     "output_type": "execute_result"
    }
   ],
   "source": [
    "# another way of taking a transpose\n",
    "matrix9.T\n",
    "matrix10 = np.arange(0, 15).reshape(3,5)\n",
    "print(matrix10)\n",
    "print(matrix10.T)\n",
    "matrix10 @ matrix10.T"
   ]
  },
  {
   "cell_type": "markdown",
   "metadata": {
    "id": "YSl_vQk70bCS"
   },
   "source": [
    "**Function to find minimum and maximum values**"
   ]
  },
  {
   "cell_type": "code",
   "execution_count": null,
   "metadata": {
    "id": "TmPZB7tu0a2c"
   },
   "outputs": [],
   "source": [
    "print(matrix9)"
   ]
  },
  {
   "cell_type": "code",
   "execution_count": null,
   "metadata": {
    "id": "394LL_BZ0alr"
   },
   "outputs": [
    {
     "name": "stdout",
     "output_type": "stream",
     "text": [
      "Minimum value:  1\n"
     ]
    }
   ],
   "source": [
    "print('Minimum value: ',np.min(matrix9))"
   ]
  },
  {
   "cell_type": "code",
   "execution_count": null,
   "metadata": {
    "id": "SVs2Zx0J0ac3"
   },
   "outputs": [
    {
     "name": "stdout",
     "output_type": "stream",
     "text": [
      "Maximum value:  9\n"
     ]
    }
   ],
   "source": [
    "print('Maximum value: ',np.max(matrix9))"
   ]
  },
  {
   "cell_type": "markdown",
   "metadata": {
    "id": "7NNtvTmh0aRf"
   },
   "source": [
    "**Function to generate random samples**"
   ]
  },
  {
   "cell_type": "markdown",
   "metadata": {
    "id": "XO47Cq8L3Gb3"
   },
   "source": [
    "**Using np.random.rand function**\n",
    "\n",
    "* The np.random.rand returns a random NumPy array whose element(s) are drawn randomly from the uniform distribution over [0,1). (including 0 but excluding 1).\n",
    "* **Syntax** - np.random.rand(d0,d1)\n",
    "  * d0,d1 – It represents the dimension of the required array given as int, where d1 is optional."
   ]
  },
  {
   "cell_type": "code",
   "execution_count": null,
   "metadata": {
    "id": "Neq3fBGH4N7F"
   },
   "outputs": [
    {
     "name": "stdout",
     "output_type": "stream",
     "text": [
      "[0.23554107 0.81060419 0.5557626  0.40031354 0.48692874]\n"
     ]
    }
   ],
   "source": [
    "# Generating random values in an array\n",
    "rand_mat = np.random.rand(5)\n",
    "print(rand_mat)"
   ]
  },
  {
   "cell_type": "code",
   "execution_count": null,
   "metadata": {
    "id": "QQHFrAce1570"
   },
   "outputs": [
    {
     "name": "stdout",
     "output_type": "stream",
     "text": [
      "[[0.95155058 0.59941024 0.32639444 0.47623105 0.70315651]\n",
      " [0.7519914  0.13262657 0.04828897 0.41925481 0.69185972]\n",
      " [0.552714   0.77253538 0.89298275 0.44049524 0.77062679]\n",
      " [0.77425571 0.88550886 0.90941553 0.54020334 0.15877721]\n",
      " [0.34695187 0.50895231 0.34088328 0.00750962 0.7644529 ]]\n"
     ]
    }
   ],
   "source": [
    "# * Generating random values in a matrix\n",
    "rand_mat = np.random.rand(5,5) # uniform random variable\n",
    "print(rand_mat)"
   ]
  },
  {
   "cell_type": "markdown",
   "metadata": {
    "id": "VvvK-7Sh3PfD"
   },
   "source": [
    "**Using np.random.randn function**\n",
    "\n",
    "* The np.random.randn returns a random numpy array whose sample(s) are drawn randomly from the standard normal distribution (Mean as 0 and standard deviation as 1)\n",
    "\n",
    "* **Syntax** - np.random.randn(d0,d1)\n",
    "  * d0,d1 – It represents the dimension of the output, where d1 is optional."
   ]
  },
  {
   "cell_type": "code",
   "execution_count": null,
   "metadata": {
    "id": "Ll_boKdQ4Y-b"
   },
   "outputs": [
    {
     "name": "stdout",
     "output_type": "stream",
     "text": [
      "[ 0.16043601 -0.92059032 -0.62017777  0.10440366  0.65043879]\n"
     ]
    }
   ],
   "source": [
    "# Generating random values in an array\n",
    "rand_mat2 = np.random.randn(5)\n",
    "print(rand_mat2)"
   ]
  },
  {
   "cell_type": "markdown",
   "metadata": {},
   "source": [
    "### rand() explanation"
   ]
  },
  {
   "cell_type": "code",
   "execution_count": null,
   "metadata": {},
   "outputs": [
    {
     "name": "stdout",
     "output_type": "stream",
     "text": [
      "Mean: 0.508\n",
      "Std:  0.295\n",
      "Min:  0.001\n",
      "Max:  0.999\n"
     ]
    }
   ],
   "source": [
    "# Uniform distribution [0, 1)\n",
    "uniform_data = np.random.rand(1000)\n",
    "# print(uniform_data)\n",
    "print(f\"Mean: {np.mean(uniform_data):.3f}\")      # ~0.5\n",
    "print(f\"Std:  {np.std(uniform_data):.3f}\")       # ~0.29\n",
    "print(f\"Min:  {np.min(uniform_data):.3f}\")       # Close to 0\n",
    "print(f\"Max:  {np.max(uniform_data):.3f}\")       # Close to 1"
   ]
  },
  {
   "cell_type": "markdown",
   "metadata": {},
   "source": [
    "### randn() explanation"
   ]
  },
  {
   "cell_type": "code",
   "execution_count": null,
   "metadata": {},
   "outputs": [
    {
     "name": "stdout",
     "output_type": "stream",
     "text": [
      "Mean: -0.018\n",
      "Std:  1.000\n",
      "Min:  -3.045\n",
      "Max:  3.310\n"
     ]
    }
   ],
   "source": [
    "# Standard normal distribution\n",
    "normal_data = np.random.randn(1000)\n",
    "print(f\"Mean: {np.mean(normal_data):.3f}\")       # ~0\n",
    "print(f\"Std:  {np.std(normal_data):.3f}\")        # ~1\n",
    "print(f\"Min:  {np.min(normal_data):.3f}\")        # Around -3\n",
    "print(f\"Max:  {np.max(normal_data):.3f}\")        # Around +3"
   ]
  },
  {
   "cell_type": "markdown",
   "metadata": {},
   "source": [
    "### Visual comparision rand() vs rand() explained"
   ]
  },
  {
   "cell_type": "code",
   "execution_count": null,
   "metadata": {},
   "outputs": [
    {
     "data": {
      "image/png": "[encoded data removed]",
      "text/plain": [
       "<Figure size 1200x400 with 2 Axes>"
      ]
     },
     "metadata": {},
     "output_type": "display_data"
    }
   ],
   "source": [
    "import matplotlib.pyplot as plt\n",
    "\n",
    "# Generate data\n",
    "uniform = np.random.rand(10000)\n",
    "normal = np.random.randn(10000)\n",
    "\n",
    "# Plot histograms\n",
    "fig, (ax1, ax2) = plt.subplots(1, 2, figsize=(12, 4))\n",
    "\n",
    "ax1.hist(uniform, bins=50, alpha=0.7, color='blue')\n",
    "ax1.set_title('np.random.rand() - Uniform [0,1)')\n",
    "ax1.set_xlabel('Value')\n",
    "ax1.set_ylabel('Frequency')\n",
    "\n",
    "ax2.hist(normal, bins=50, alpha=0.7, color='red')\n",
    "ax2.set_title('np.random.randn() - Standard Normal')\n",
    "ax2.set_xlabel('Value')\n",
    "ax2.set_ylabel('Frequency')\n",
    "\n",
    "plt.tight_layout()\n",
    "plt.show()"
   ]
  },
  {
   "cell_type": "markdown",
   "metadata": {
    "id": "znl4cE5vLoH5"
   },
   "source": [
    "\n",
    "- dn - It represents the nth dimension of the output"
   ]
  },
  {
   "cell_type": "code",
   "execution_count": null,
   "metadata": {
    "id": "V125DK2dLoH5"
   },
   "outputs": [],
   "source": [
    "# Generating random values in an array\n",
    "rand_mat_original = np.random.rand(2, 10)\n",
    "print(\"🚀 ~ rand_mat_original:\", rand_mat_original)\n",
    "rand_mat = np.random.rand(2, 10, 2, 3, 3)\n",
    "print(rand_mat)"
   ]
  },
  {
   "cell_type": "code",
   "execution_count": null,
   "metadata": {
    "id": "1jaiT-oZ2CyD"
   },
   "outputs": [],
   "source": [
    "# Generating random values in a matrix\n",
    "rand_mat2 = np.random.randn(5,5)\n",
    "print(rand_mat2)"
   ]
  },
  {
   "cell_type": "code",
   "execution_count": null,
   "metadata": {
    "id": "TldcCrOS5ulV"
   },
   "outputs": [],
   "source": [
    "# Let's check the mean and standard deviation of rand_mat2\n",
    "print('Mean:',np.mean(rand_mat2))\n",
    "print('Standard Deviation:',np.std(rand_mat2))"
   ]
  },
  {
   "cell_type": "markdown",
   "metadata": {
    "id": "66BnHAPW6Ere"
   },
   "source": [
    "*  We observe that the mean is very close to 0 and standard deviation is very close to 1."
   ]
  },
  {
   "cell_type": "markdown",
   "metadata": {
    "id": "T_0yFxGh3U2D"
   },
   "source": [
    "**Using np.random.randint function**\n",
    "\n",
    "* The np.random.randint returns a random numpy array whose element(s) are drawn randomly from low (inclusive) to the high (exclusive) range.\n",
    "\n",
    "* **Syntax** - np.random.randint(low, high, size)\n",
    "\n",
    "  * low – It represents the lowest inclusive bound of the distribution from where the sample can be drawn.\n",
    "  * high – It represents the upper exclusive bound of the distribution from where the sample can be drawn.\n",
    "  * size – It represents the shape of the output."
   ]
  },
  {
   "cell_type": "code",
   "execution_count": null,
   "metadata": {
    "id": "vLPM7a0N2EHA"
   },
   "outputs": [],
   "source": [
    "# Generating random values in an array\n",
    "rand_mat3 = np.random.randint(1,5,10)\n",
    "print(rand_mat3)"
   ]
  },
  {
   "cell_type": "code",
   "execution_count": null,
   "metadata": {
    "id": "u9YqKltk486n"
   },
   "outputs": [],
   "source": [
    "# Generating random values in a matrix\n",
    "rand_mat3 = np.random.randint(1,10,[5,5])\n",
    "print(rand_mat3)"
   ]
  },
  {
   "cell_type": "markdown",
   "metadata": {
    "id": "J-K_ecWJ6M6n"
   },
   "source": [
    "### 2.3 Accessing the entries of a Numpy Array"
   ]
  },
  {
   "cell_type": "code",
   "execution_count": null,
   "metadata": {
    "id": "4Tiy6KJw3a5A"
   },
   "outputs": [],
   "source": [
    "# let's generate an array with 10 random values\n",
    "rand_arr = np.random.randn(10)\n",
    "print(rand_arr)"
   ]
  },
  {
   "cell_type": "markdown",
   "metadata": {
    "id": "gJlNtFKwaZUv"
   },
   "source": [
    "* Accessing one element from an array"
   ]
  },
  {
   "cell_type": "code",
   "execution_count": null,
   "metadata": {
    "id": "PtSqbI-Y3awc"
   },
   "outputs": [],
   "source": [
    "# accessing the 6 th entry of rand_arr\n",
    "print(rand_arr[6])"
   ]
  },
  {
   "cell_type": "markdown",
   "metadata": {
    "id": "Ywt2eQx-aZUv"
   },
   "source": [
    "* Accessing multiple elements from an array"
   ]
  },
  {
   "cell_type": "code",
   "execution_count": null,
   "metadata": {
    "id": "HZ8Yb_3h3amG"
   },
   "outputs": [],
   "source": [
    "# we can access multiple entries at once using\n",
    "print(rand_arr[4:9])"
   ]
  },
  {
   "cell_type": "code",
   "execution_count": null,
   "metadata": {
    "id": "pNcRsFbK3aZP"
   },
   "outputs": [],
   "source": [
    "# we can also access multiple non-consecutive entries using np.arange\n",
    "print('Index of values to access: ',np.arange(3,10,3))\n",
    "print(rand_arr[np.arange(3,10,3)])"
   ]
  },
  {
   "cell_type": "markdown",
   "metadata": {
    "id": "m0_dOkPKc7bL"
   },
   "source": [
    "**Accessing arrays using logical operations**"
   ]
  },
  {
   "cell_type": "code",
   "execution_count": null,
   "metadata": {
    "id": "_8v77EwOcwPM"
   },
   "outputs": [],
   "source": [
    "print(rand_arr)"
   ]
  },
  {
   "cell_type": "code",
   "execution_count": null,
   "metadata": {
    "id": "u7QvbkGfc_Mf"
   },
   "outputs": [],
   "source": [
    "rand_arr>0"
   ]
  },
  {
   "cell_type": "code",
   "execution_count": null,
   "metadata": {
    "id": "PwjFRjDiczAS"
   },
   "outputs": [],
   "source": [
    "# accessing all the values of rand_arr which are greater than 0\n",
    "print('Values greater than 0: ',rand_arr[rand_arr>0])\n",
    "\n",
    "# accessing all the values of rand_arr which are less than 0\n",
    "print('Values less than 0: ',rand_arr[rand_arr<0])"
   ]
  },
  {
   "cell_type": "markdown",
   "metadata": {
    "id": "9j2nb_lX3aKJ"
   },
   "source": [
    "**Accessing the entries of a Matrix**"
   ]
  },
  {
   "cell_type": "code",
   "execution_count": null,
   "metadata": {
    "id": "rUT3MtuX3Z-o"
   },
   "outputs": [],
   "source": [
    "# let's generate an array with 10 random values\n",
    "rand_mat = np.random.randn(5,5)\n",
    "print(rand_mat)"
   ]
  },
  {
   "cell_type": "code",
   "execution_count": null,
   "metadata": {
    "id": "aH5KNWYJ8AAi"
   },
   "outputs": [],
   "source": [
    "# acessing the second row of the rand_mat\n",
    "rand_mat[1]"
   ]
  },
  {
   "cell_type": "code",
   "execution_count": null,
   "metadata": {
    "id": "cKPauEeS3Zya"
   },
   "outputs": [],
   "source": [
    "# acessing third element of the second row\n",
    "print(rand_mat[1][2])\n",
    "\n",
    "#or\n",
    "\n",
    "print(rand_mat[1,2])"
   ]
  },
  {
   "cell_type": "code",
   "execution_count": null,
   "metadata": {
    "id": "md90xMiX3ZhX"
   },
   "outputs": [],
   "source": [
    "# accessing first two rows with second and third column\n",
    "print(rand_mat[0:2,1:3])"
   ]
  },
  {
   "cell_type": "markdown",
   "metadata": {
    "id": "ZQIPaCTxdTkx"
   },
   "source": [
    "**Accessing matrices using logical operations**"
   ]
  },
  {
   "cell_type": "code",
   "execution_count": null,
   "metadata": {
    "id": "FPWAgqcMdTkx"
   },
   "outputs": [],
   "source": [
    "print(rand_mat)"
   ]
  },
  {
   "cell_type": "code",
   "execution_count": null,
   "metadata": {
    "id": "5pBwxeo_dTky"
   },
   "outputs": [],
   "source": [
    "# accessing all the values of rand_mat which are greater than 0\n",
    "print('Values greater than 0: \\n ',rand_mat[rand_mat>0])\n",
    "\n",
    "# accessing all the values of rand_mat which are less than 0\n",
    "print('Values less than 0: \\n',rand_mat[rand_mat<0])"
   ]
  },
  {
   "cell_type": "markdown",
   "metadata": {
    "id": "Rbc_yo5T8mmS"
   },
   "source": [
    "**Modifying the entries of an Array**"
   ]
  },
  {
   "cell_type": "code",
   "execution_count": null,
   "metadata": {
    "id": "2P57NUFJ8mMA"
   },
   "outputs": [],
   "source": [
    "print(rand_arr)"
   ]
  },
  {
   "cell_type": "code",
   "execution_count": null,
   "metadata": {
    "id": "5dTfDf2d-DF7"
   },
   "outputs": [],
   "source": [
    "# let's change some values in an array!\n",
    "# changing the values of index value 3 and index value 4 to 5\n",
    "rand_arr[3:5] = 5\n",
    "print(rand_arr)"
   ]
  },
  {
   "cell_type": "code",
   "execution_count": null,
   "metadata": {
    "id": "dC1yVJLT-H9H"
   },
   "outputs": [],
   "source": [
    "# changing the values of index value 0 and index value 1 to 2 and 3 respectively\n",
    "rand_arr[0:2] = [2,3]\n",
    "print(rand_arr)"
   ]
  },
  {
   "cell_type": "code",
   "execution_count": null,
   "metadata": {
    "id": "wT3ishttMugE"
   },
   "outputs": [],
   "source": [
    "# modify entries using logical references\n",
    "rand_arr[rand_arr>0] = 65\n",
    "rand_arr"
   ]
  },
  {
   "cell_type": "markdown",
   "metadata": {
    "id": "lhoMit_Da8F4"
   },
   "source": [
    "**Modifying the entries of a Matrix**"
   ]
  },
  {
   "cell_type": "code",
   "execution_count": null,
   "metadata": {
    "id": "fJ02uz8obsqC"
   },
   "outputs": [],
   "source": [
    "print(rand_mat3)"
   ]
  },
  {
   "cell_type": "code",
   "execution_count": null,
   "metadata": {
    "id": "dVNbm4oKNtkr"
   },
   "outputs": [],
   "source": [
    "# changing the values of the 4th and 5th element of the second and third rows of the matrix to 0\n",
    "print('Matrix before modification: \\n',rand_mat3)\n",
    "rand_mat3[1:3,3:5] = 0\n",
    "print('Matrix after modification: \\n',rand_mat3)"
   ]
  },
  {
   "cell_type": "code",
   "execution_count": null,
   "metadata": {
    "id": "uP3butowNtvp"
   },
   "outputs": [],
   "source": [
    "# extracting the first 2 rows and first 3 columns from the matrix\n",
    "sub_mat = rand_mat[0:2,0:3]\n",
    "print(sub_mat)"
   ]
  },
  {
   "cell_type": "code",
   "execution_count": null,
   "metadata": {
    "id": "3DgctOvENt14"
   },
   "outputs": [],
   "source": [
    "# changing all the values of the extracted matrix to 3\n",
    "sub_mat[:] = 3\n",
    "print(sub_mat)"
   ]
  },
  {
   "cell_type": "code",
   "execution_count": null,
   "metadata": {
    "id": "hskgV9vG9lxx"
   },
   "outputs": [],
   "source": [
    "# what happened to rand_mat when we change sub_mat?\n",
    "rand_mat"
   ]
  },
  {
   "cell_type": "code",
   "execution_count": null,
   "metadata": {
    "id": "PryCb2h29sHx"
   },
   "outputs": [],
   "source": [
    "# to prevent this behavior we need to use the .copy() method when we assign sub_mat\n",
    "# this behavior is the source of MANY errors for early python users!!!\n",
    "\n",
    "rand_mat = np.random.randn(5,5)\n",
    "print(rand_mat)\n",
    "sub_mat = rand_mat[0:2,0:3].copy()\n",
    "sub_mat[:] = 3\n",
    "print(sub_mat)\n",
    "print(rand_mat)"
   ]
  },
  {
   "cell_type": "markdown",
   "metadata": {
    "id": "Uhy7xJlW0aDT"
   },
   "source": [
    "### 2.4 Saving and Loading a NumPy array"
   ]
  },
  {
   "cell_type": "markdown",
   "metadata": {
    "id": "qlyONcw5FeSh"
   },
   "source": [
    "**Let's save some NumPy objects on the disk for use later!**"
   ]
  },
  {
   "cell_type": "code",
   "execution_count": null,
   "metadata": {
    "id": "gikqL10PzrC1"
   },
   "outputs": [],
   "source": [
    "from google.colab import drive\n",
    "drive.mount('/content/drive')"
   ]
  },
  {
   "cell_type": "code",
   "execution_count": null,
   "metadata": {
    "id": "G_w4dYUtFzZO"
   },
   "outputs": [],
   "source": [
    "# creating a random matrices\n",
    "randint_matrix1 = np.random.randint(1,10,10).reshape(2,5)\n",
    "print(randint_matrix1)\n",
    "print('')\n",
    "randint_matrix2 = np.random.randint(10,20,10).reshape(2,5)\n",
    "print(randint_matrix2)"
   ]
  },
  {
   "cell_type": "markdown",
   "metadata": {
    "id": "rysUk_pSFU1O"
   },
   "source": [
    "**Using np.save() function**"
   ]
  },
  {
   "cell_type": "code",
   "execution_count": null,
   "metadata": {
    "id": "k9TyLFJ-tkU2"
   },
   "outputs": [],
   "source": [
    "np.save('/content/drive/MyDrive/Python Course/saved_file_name',randint_matrix1)"
   ]
  },
  {
   "cell_type": "markdown",
   "metadata": {
    "id": "VMfbQlc2FYNl"
   },
   "source": [
    "**Using np.savez() function**"
   ]
  },
  {
   "cell_type": "code",
   "execution_count": null,
   "metadata": {
    "id": "dhtVPefIRfGP"
   },
   "outputs": [],
   "source": [
    "np.savez('/content/drive/MyDrive/Python Course/multiple_files',randint_matrix1=randint_matrix1,randint_matrix2=randint_matrix2)"
   ]
  },
  {
   "cell_type": "markdown",
   "metadata": {
    "id": "hDbZNqdLDj35"
   },
   "source": [
    "* The files will be saved in the directory where the Jupyter Notebook is located.\n",
    "* With np.save() function, we can save an array/matrix to a NumPy .npy format.\n",
    "* np.savez() function has an advantage over np.save() function because with np.savez(), we can store several arrays/matrices into a single file in uncompressed .npz format."
   ]
  },
  {
   "cell_type": "code",
   "execution_count": null,
   "metadata": {
    "id": "h7mYd86cZeTq"
   },
   "outputs": [],
   "source": [
    "# now let's load it\n",
    "loaded_arr = np.load('/content/drive/MyDrive/Python Course/saved_file_name.npy')\n",
    "loaded_multi = np.load('/content/drive/MyDrive/Python Course/multiple_files.npz')\n",
    "\n",
    "print(loaded_arr)\n",
    "print('')\n",
    "print(loaded_multi)"
   ]
  },
  {
   "cell_type": "markdown",
   "metadata": {
    "id": "21XxghDDG69T"
   },
   "source": [
    "* We see that .npy file has been loaded but the .npz file is returning a memory location.\n",
    "* Let's see how to load the values stored in .npz file."
   ]
  },
  {
   "cell_type": "code",
   "execution_count": null,
   "metadata": {
    "id": "VezEM4uPZeZk"
   },
   "outputs": [],
   "source": [
    "print('1st Matrix: \\n',loaded_multi['randint_matrix1'])\n",
    "print('2nd Matrix: \\n',loaded_multi['randint_matrix2'])\n",
    "\n",
    "new_matrix  = loaded_multi['randint_matrix1']\n",
    "print('New Matrix: \\n',new_matrix)"
   ]
  },
  {
   "cell_type": "code",
   "execution_count": null,
   "metadata": {
    "id": "AyyZjATxZefd"
   },
   "outputs": [],
   "source": [
    "# we can also save/load text files...but only single variables\n",
    "np.savetxt('/content/drive/MyDrive/Python Course/text_file_name.txt',randint_matrix1,delimiter=',')\n",
    "rand_mat_txt = np.loadtxt('/content/drive/MyDrive/Python Course/text_file_name.txt',delimiter=',')\n",
    "print(randint_matrix1)\n",
    "print('')\n",
    "print(rand_mat_txt)"
   ]
  },
  {
   "cell_type": "code",
   "execution_count": null,
   "metadata": {
    "id": "WiTOg-jNzE82"
   },
   "outputs": [],
   "source": [
    "## Power operations"
   ]
  },
  {
   "cell_type": "markdown",
   "metadata": {
    "id": "SNIEuvtQvSey"
   },
   "source": [
    "### Standard Deviation manual implementation\n",
    "\n",
    "<img width=\"476\" alt=\"image\" src=\"https://github.com/user-attachments/assets/3c54f8fe-de20-4a1a-9819-07edc13e6392\" />\n",
    "\n",
    "- You look at how far an observation is from the average\n",
    "- You take the square of that observation\n",
    "- You average all the squares\n",
    "- And then to get back to the original units you take a square root.\n",
    "_because your working with a sample mean people do an n-1 correct_"
   ]
  },
  {
   "cell_type": "code",
   "execution_count": null,
   "metadata": {
    "colab": {
     "base_uri": "https://localhost:8080/"
    },
    "id": "d995f23a",
    "outputId": "ee346d63-9b3e-4e6b-dc23-e599885a4760"
   },
   "outputs": [
    {
     "name": "stdout",
     "output_type": "stream",
     "text": [
      "[200  40  42  40  45  48  50  44  46  43  42]\n",
      "Mean: 58.18181818181818\n",
      "Deviations: \n",
      "[141.81818182 -18.18181818 -16.18181818 -18.18181818 -13.18181818\n",
      " -10.18181818  -8.18181818 -14.18181818 -12.18181818 -15.18181818\n",
      " -16.18181818]\n",
      "Squared Deviations: \n",
      "[20112.39669421   330.5785124    261.85123967   330.5785124\n",
      "   173.76033058   103.66942149    66.94214876   201.12396694\n",
      "   148.39669421   230.48760331   261.85123967]\n",
      "Variance: 2020.1487603305782\n",
      "Manual Standard Deviation: 44.94606501497743\n",
      "NumPy Standard Deviation: 44.94606501497743\n",
      "Match!!\n",
      "NumPy Median: 44.0\n"
     ]
    }
   ],
   "source": [
    "# rand_mat2 = np.random.randn(5,5)\n",
    "rand_mat2 = np.array([200, 40, 42, 40, 45, 48, 50, 44, 46, 43, 42])\n",
    "print(rand_mat2)\n",
    "# 1. Calculate the mean\n",
    "mean_rand_mat2 = np.mean(rand_mat2)\n",
    "print(f'Mean: {mean_rand_mat2}')\n",
    "\n",
    "# 2. Subtract the mean from each element (deviations)\n",
    "deviations = rand_mat2 - mean_rand_mat2\n",
    "print(f'Deviations: \\n{deviations}')\n",
    "\n",
    "# 3. Square the deviations\n",
    "squared_deviations = deviations**2\n",
    "print(f'Squared Deviations: \\n{squared_deviations}')\n",
    "\n",
    "# 4. Calculate the mean of the squared deviations (variance)\n",
    "variance = np.mean(squared_deviations)\n",
    "print(f'Variance: {variance}')\n",
    "\n",
    "# 5. Take the square root of the variance (standard deviation)\n",
    "manual_std = np.sqrt(variance)\n",
    "print(f'Manual Standard Deviation: {manual_std}')\n",
    "\n",
    "# Compare with np.std()\n",
    "print(f'NumPy Standard Deviation: {np.std(rand_mat2)}')\n",
    "if manual_std == np.std(rand_mat2):\n",
    "    print('Match!!')\n",
    "\n",
    "print(f'NumPy Median: {np.median(rand_mat2)}')"
   ]
  },
  {
   "cell_type": "code",
   "execution_count": null,
   "metadata": {},
   "outputs": [
    {
     "data": {
      "image/png": "[encoded data removed]",
      "text/plain": [
       "<Figure size 1200x500 with 2 Axes>"
      ]
     },
     "metadata": {},
     "output_type": "display_data"
    }
   ],
   "source": [
    "import matplotlib.pyplot as plt\n",
    "\n",
    "# Low standard deviation (tight cluster)\n",
    "low_std = np.random.normal(50, 5, 1000)    # mean=50, std=5\n",
    "\n",
    "# High standard deviation (spread out)\n",
    "high_std = np.random.normal(50, 20, 1000)  # mean=50, std=20\n",
    "\n",
    "plt.figure(figsize=(12, 5))\n",
    "\n",
    "plt.subplot(1, 2, 1)\n",
    "plt.hist(low_std, bins=30, alpha=0.7, color='blue')\n",
    "plt.title('Low Standard Deviation (σ=5)')\n",
    "plt.axvline(50, color='red', linestyle='--', label='Mean')\n",
    "\n",
    "plt.subplot(1, 2, 2)\n",
    "plt.hist(high_std, bins=30, alpha=0.7, color='orange')\n",
    "plt.title('High Standard Deviation (σ=20)')\n",
    "plt.axvline(50, color='red', linestyle='--', label='Mean')\n",
    "\n",
    "plt.show()"
   ]
  },
  {
   "cell_type": "markdown",
   "metadata": {},
   "source": [
    "Summarized conversation historyAbsolutely! Standard deviation is a fundamental concept in statistics that measures how **spread out** or **scattered** your data points are from the average. Let me break it down step by step:\n",
    "\n",
    "## 🎯 **What is Standard Deviation?**\n",
    "\n",
    "Standard deviation tells you: **\"On average, how far are my data points from the mean?\"**\n",
    "\n",
    "## 📊 **Why Do We Need It?**\n",
    "\n",
    "Consider these two datasets:\n",
    "- **Dataset A**: [10, 10, 10, 10, 10] → Mean = 10\n",
    "- **Dataset B**: [2, 6, 10, 14, 18] → Mean = 10\n",
    "\n",
    "Both have the same mean (10), but Dataset A has **no variation** while Dataset B is **spread out**. Standard deviation captures this difference!\n",
    "\n",
    "## 🔢 **Step-by-Step Calculation** (from your notebook):\n",
    "\n",
    "```python\n",
    "data = [200, 40, 42, 40, 45, 48, 50, 44, 46, 43, 42]\n",
    "\n",
    "# Step 1: Calculate the mean (average)\n",
    "mean = np.mean(data)  # = 58.18\n",
    "\n",
    "# Step 2: Find how far each point is from the mean (deviations)\n",
    "deviations = data - mean  # [141.82, -18.18, -16.18, ...]\n",
    "\n",
    "# Step 3: Square the deviations (removes negative signs)\n",
    "squared_deviations = deviations**2  # [20,112.7, 330.5, 261.8, ...]\n",
    "\n",
    "# Step 4: Find the average of squared deviations (variance)\n",
    "variance = np.mean(squared_deviations)  # = 2,087.24\n",
    "\n",
    "# Step 5: Take square root to get back to original units\n",
    "std_dev = np.sqrt(variance)  # = 45.69\n",
    "```\n",
    "\n",
    "## 🤔 **Why These Steps?**\n",
    "\n",
    "1. **Deviations**: Shows how far each point is from center\n",
    "2. **Squaring**: Eliminates negative values and emphasizes larger differences\n",
    "3. **Averaging**: Gives typical squared deviation\n",
    "4. **Square Root**: Returns to original units (if data is in cm, std dev is in cm)\n",
    "\n",
    "## 📈 **Visual Understanding**:\n",
    "\n",
    "```python\n",
    "import matplotlib.pyplot as plt\n",
    "\n",
    "# Low standard deviation (tight cluster)\n",
    "low_std = np.random.normal(50, 5, 1000)    # mean=50, std=5\n",
    "\n",
    "# High standard deviation (spread out)\n",
    "high_std = np.random.normal(50, 20, 1000)  # mean=50, std=20\n",
    "\n",
    "plt.figure(figsize=(12, 5))\n",
    "\n",
    "plt.subplot(1, 2, 1)\n",
    "plt.hist(low_std, bins=30, alpha=0.7, color='blue')\n",
    "plt.title('Low Standard Deviation (σ=5)')\n",
    "plt.axvline(50, color='red', linestyle='--', label='Mean')\n",
    "\n",
    "plt.subplot(1, 2, 2)\n",
    "plt.hist(high_std, bins=30, alpha=0.7, color='orange')\n",
    "plt.title('High Standard Deviation (σ=20)')\n",
    "plt.axvline(50, color='red', linestyle='--', label='Mean')\n",
    "\n",
    "plt.show()\n",
    "```\n",
    "\n",
    "## 🎯 **Real-World Examples**:\n",
    "\n",
    "### **Low Standard Deviation** (σ ≈ 2):\n",
    "- **Test Scores**: [78, 80, 79, 81, 77] → Students performed similarly\n",
    "- **Manufacturing**: Product weights very consistent\n",
    "\n",
    "### **High Standard Deviation** (σ ≈ 15):\n",
    "- **Test Scores**: [95, 65, 40, 85, 90] → Wide range of performance\n",
    "- **Income**: Huge variation between people\n",
    "\n",
    "## 📏 **The 68-95-99.7 Rule** (for normal distributions):\n",
    "\n",
    "- **68%** of data falls within **1 standard deviation** of the mean\n",
    "- **95%** of data falls within **2 standard deviations** of the mean\n",
    "- **99.7%** of data falls within **3 standard deviations** of the mean\n",
    "\n",
    "```python\n",
    "# Example: If mean = 100 and std = 15\n",
    "# 68% of data is between 85 and 115\n",
    "# 95% of data is between 70 and 130\n",
    "# 99.7% of data is between 55 and 145\n",
    "```\n",
    "\n",
    "## 🔍 **Sample vs Population Standard Deviation**:\n",
    "\n",
    "- **Population** (entire group): Divide by `n`\n",
    "- **Sample** (subset): Divide by `n-1` (Bessel's correction)\n",
    "\n",
    "```python\n",
    "# NumPy default is population std (divide by n)\n",
    "np.std(data)        # Population standard deviation\n",
    "\n",
    "# For sample std, use ddof=1 (divide by n-1)\n",
    "np.std(data, ddof=1)  # Sample standard deviation\n",
    "```\n",
    "\n",
    "## 🎯 **Key Takeaways**:\n",
    "\n",
    "- **Small σ**: Data points cluster tightly around the mean\n",
    "- **Large σ**: Data points are spread out widely\n",
    "- **Units**: Same as your original data\n",
    "- **Always positive**: Can't have negative spread\n",
    "- **Zero σ**: All data points are identical\n",
    "\n",
    "Standard deviation is like a \"ruler\" that measures the **consistency** or **variability** in your data! 📊"
   ]
  },
  {
   "cell_type": "markdown",
   "metadata": {},
   "source": [
    "# Empirical Rule (68–95–99.7) Demonstration with NumPy\n",
    "This notebook demonstrates how the 68–95–99.7 rule applies to a sample from a normal distribution using NumPy and Matplotlib."
   ]
  },
  {
   "cell_type": "code",
   "execution_count": null,
   "metadata": {},
   "outputs": [],
   "source": [
    "# Generate a sample from a normal distribution\n",
    "np.random.seed(42)\n",
    "data = np.random.normal(loc=0, scale=1, size=1000)"
   ]
  },
  {
   "cell_type": "code",
   "execution_count": null,
   "metadata": {},
   "outputs": [],
   "source": [
    "# Calculate sample mean and standard deviation using ddof=1\n",
    "sample_mean = np.mean(data)\n",
    "sample_std_ddof1 = np.std(data, ddof=1)"
   ]
  },
  {
   "cell_type": "code",
   "execution_count": 39,
   "metadata": {},
   "outputs": [
    {
     "name": "stdout",
     "output_type": "stream",
     "text": [
      "std_1_data [ True  True  True False  True  True False  True  True  True  True  True\n",
      "  True False False  True False  True  True False False  True  True False\n",
      "  True  True False  True  True  True  True False  True False  True False\n",
      "  True False False  True  True  True  True  True False  True  True False\n",
      "  True False  True  True  True  True False  True  True  True  True  True\n",
      "  True  True False False  True False  True False  True  True  True False\n",
      "  True False False  True  True  True  True False  True  True False  True\n",
      "  True  True  True  True  True  True  True  True  True  True  True False\n",
      "  True  True  True  True False  True  True  True  True  True False  True\n",
      "  True  True False  True  True False  True  True  True False False  True\n",
      "  True  True False False  True False False  True  True  True False  True\n",
      " False  True  True False  True  True  True False  True False False  True\n",
      "  True  True False False  True  True  True  True  True  True  True  True\n",
      " False  True False  True False  True False  True  True  True  True False\n",
      "  True  True  True  True  True  True  True  True  True False  True False\n",
      "  True  True False  True  True  True  True  True  True False  True  True\n",
      "  True False  True  True  True  True  True False  True  True False False\n",
      " False  True  True  True  True False  True False  True  True  True  True\n",
      "  True  True  True  True False False  True False  True False  True False\n",
      "  True  True  True  True  True  True False  True False  True  True  True\n",
      "  True  True  True  True False  True  True  True False  True False  True\n",
      " False False False  True False  True  True  True  True  True False False\n",
      "  True False False False  True  True False False False  True False  True\n",
      "  True  True  True  True  True  True False False False False  True  True\n",
      "  True  True  True  True  True  True  True  True  True  True  True  True\n",
      "  True  True  True  True  True  True False  True  True  True  True False\n",
      "  True  True False  True  True  True  True  True  True  True  True False\n",
      " False False False  True  True  True  True  True  True  True  True  True\n",
      "  True  True  True  True  True  True  True  True  True  True False False\n",
      "  True  True  True False  True  True  True False  True  True  True  True\n",
      "  True False  True  True  True  True  True  True  True  True  True  True\n",
      " False  True False  True  True  True False  True  True  True False  True\n",
      "  True  True  True False  True  True  True  True False False False  True\n",
      " False False  True False False  True  True  True  True  True False  True\n",
      "  True  True  True False False False  True  True False  True False  True\n",
      " False False  True  True  True False False  True False False False False\n",
      "  True  True False  True False False False  True  True  True False  True\n",
      " False  True  True  True  True False  True  True False  True  True  True\n",
      "  True False  True False False  True  True  True  True  True  True  True\n",
      "  True  True  True False False False False  True  True  True False False\n",
      "  True  True False  True  True False  True False False  True  True False\n",
      "  True  True False  True False  True  True False  True False False  True\n",
      "  True  True  True  True  True  True  True  True  True  True  True  True\n",
      "  True False  True  True False  True  True  True  True False False  True\n",
      "  True  True  True False  True False  True  True  True  True False  True\n",
      "  True False  True False False  True  True  True  True  True  True  True\n",
      " False  True  True  True  True  True  True  True  True False  True  True\n",
      " False  True False False False  True  True False  True  True  True False\n",
      "  True  True False False  True  True  True False  True  True  True  True\n",
      "  True  True  True  True  True  True False  True  True False  True  True\n",
      "  True  True  True False  True False  True False False False  True  True\n",
      "  True False False  True  True  True  True  True  True  True False False\n",
      " False  True False  True  True False False False  True  True False False\n",
      "  True  True False False  True False  True False  True  True False  True\n",
      "  True  True False False  True False False  True  True  True  True  True\n",
      "  True  True  True  True  True  True  True False False False False False\n",
      "  True  True False  True False False  True False  True False  True  True\n",
      " False  True  True  True  True  True  True False False  True  True  True\n",
      "  True False  True  True  True False  True False False  True False False\n",
      " False False  True  True  True  True  True False  True  True  True  True\n",
      "  True False False  True  True  True  True  True  True  True  True False\n",
      "  True False False  True  True  True False False False False  True  True\n",
      "  True  True  True  True  True False  True False False False  True False\n",
      "  True  True  True  True  True  True False  True False  True  True False\n",
      "  True False  True  True  True  True  True False  True  True  True  True\n",
      "  True False  True  True  True False  True  True  True False  True  True\n",
      "  True False False False  True  True  True  True  True  True  True  True\n",
      "  True  True  True  True False  True  True  True False  True False False\n",
      "  True  True  True False  True False False  True  True False False  True\n",
      "  True  True False  True False  True  True  True False False  True  True\n",
      "  True  True False  True  True  True  True False  True  True  True  True\n",
      "  True False False  True  True  True  True  True  True False False False\n",
      "  True  True  True  True  True False  True  True False  True  True False\n",
      "  True  True  True False False  True  True False  True False  True  True\n",
      "  True False  True  True False False False  True  True  True False  True\n",
      "  True  True  True False  True  True False  True  True False  True  True\n",
      "  True False  True  True  True  True  True  True False False  True  True\n",
      " False False  True  True False  True  True False False False  True  True\n",
      " False  True  True  True False  True  True  True False False False  True\n",
      "  True  True  True  True False False  True False  True  True  True  True\n",
      "  True False  True  True  True False  True False  True False  True  True\n",
      "  True  True  True False  True False False  True  True  True False  True\n",
      "  True False False  True  True  True  True False  True  True False  True\n",
      " False  True  True  True]\n",
      "within_1_std 0.686\n",
      "within_2_std 0.956\n",
      "within_3_std 0.997\n"
     ]
    }
   ],
   "source": [
    "# Calculate the percentage of data within ±1, ±2, and ±3 standard deviations\n",
    "std_1_data = (data > sample_mean - sample_std_ddof1) & (data < sample_mean + sample_std_ddof1)\n",
    "print('std_1_data', std_1_data)\n",
    "within_1_std = np.mean(std_1_data)\n",
    "within_2_std = np.mean((data > sample_mean - 2*sample_std_ddof1) & (data < sample_mean + 2*sample_std_ddof1))\n",
    "within_3_std = np.mean((data > sample_mean - 3*sample_std_ddof1) & (data < sample_mean + 3*sample_std_ddof1))\n",
    "print('within_1_std',within_1_std)\n",
    "print('within_2_std',within_2_std)\n",
    "print('within_3_std',within_3_std)"
   ]
  },
  {
   "cell_type": "code",
   "execution_count": null,
   "metadata": {},
   "outputs": [
    {
     "data": {
      "image/png": "[encoded data removed]",
      "text/plain": [
       "<Figure size 1000x600 with 1 Axes>"
      ]
     },
     "metadata": {},
     "output_type": "display_data"
    }
   ],
   "source": [
    "import matplotlib.pyplot as plt\n",
    "# Plot histogram and standard deviation bounds\n",
    "fig, ax = plt.subplots(figsize=(10, 6))\n",
    "ax.hist(data, bins=50, alpha=0.6, color='skyblue', edgecolor='black', density=True)\n",
    "ax.axvline(sample_mean, color='red', linestyle='--', label='Mean')\n",
    "ax.axvline(sample_mean + sample_std_ddof1, color='green', linestyle='--', label='±1 Std Dev')\n",
    "ax.axvline(sample_mean - sample_std_ddof1, color='green', linestyle='--')\n",
    "ax.axvline(sample_mean + 2*sample_std_ddof1, color='orange', linestyle='--', label='±2 Std Dev')\n",
    "ax.axvline(sample_mean - 2*sample_std_ddof1, color='orange', linestyle='--')\n",
    "ax.axvline(sample_mean + 3*sample_std_ddof1, color='purple', linestyle='--', label='±3 Std Dev')\n",
    "ax.axvline(sample_mean - 3*sample_std_ddof1, color='purple', linestyle='--')\n",
    "\n",
    "ax.set_title(\"Normal Distribution Sample with ±1, ±2, ±3 Std Dev\")\n",
    "ax.set_xlabel(\"Value\")\n",
    "ax.set_ylabel(\"Density\")\n",
    "ax.legend()\n",
    "fig.tight_layout()\n",
    "plt.show()"
   ]
  },
  {
   "cell_type": "code",
   "execution_count": null,
   "metadata": {},
   "outputs": [
    {
     "data": {
      "text/plain": [
       "{'Mean': np.float64(0.019332055822325486),\n",
       " 'Standard Deviation (ddof=1)': np.float64(0.9792159381796757),\n",
       " 'Within ±1 Std Dev': '68.600%',\n",
       " 'Within ±2 Std Dev': '95.600%',\n",
       " 'Within ±3 Std Dev': '99.700%'}"
      ]
     },
     "execution_count": 14,
     "metadata": {},
     "output_type": "execute_result"
    }
   ],
   "source": [
    "# Results summary\n",
    "summary = {\n",
    "    \"Mean\": sample_mean,\n",
    "    \"Standard Deviation (ddof=1)\": sample_std_ddof1,\n",
    "    \"Within ±1 Std Dev\": f\"{within_1_std:.3%}\",\n",
    "    \"Within ±2 Std Dev\": f\"{within_2_std:.3%}\",\n",
    "    \"Within ±3 Std Dev\": f\"{within_3_std:.3%}\"\n",
    "}\n",
    "summary"
   ]
  },
  {
   "cell_type": "markdown",
   "metadata": {},
   "source": [
    "### Example: Extracting a Sample within 1 Standard Deviation\n",
    "\n",
    "The following code demonstrates how to filter a larger dataset to create a new, reduced sample containing only the data points that fall within one standard deviation of the population's mean."
   ]
  },
  {
   "cell_type": "code",
   "execution_count": 41,
   "metadata": {},
   "outputs": [
    {
     "name": "stdout",
     "output_type": "stream",
     "text": [
      "Population Mean: 100.42\n",
      "Population Standard Deviation: 15.42\n",
      "Data within 1 Std Dev will be between 85.00 and 115.83\n",
      "\n",
      "Original population size: 5000\n",
      "Reduced sample size (within ±1 Std Dev): 3460\n",
      "Percentage of data within ±1 Std Dev: 69.20%\n",
      "\n",
      "First 10 values of the reduced sample:\n",
      "[109.42199063 113.6195417  107.55738631 109.76676922  95.21022933\n",
      "  87.27884525 109.08948024 111.10183086 107.93220241  91.164992  ]\n"
     ]
    },
    {
     "data": {
      "image/png": "[encoded data removed]",
      "text/plain": [
       "<Figure size 1200x700 with 1 Axes>"
      ]
     },
     "metadata": {},
     "output_type": "display_data"
    }
   ],
   "source": [
    "# 1. Create a sample population dataset\n",
    "np.random.seed(101) # for reproducibility\n",
    "population_data = np.random.normal(loc=100, scale=15, size=5000)\n",
    "\n",
    "# 2. Calculate the mean and standard deviation\n",
    "pop_mean = np.mean(population_data)\n",
    "pop_std = np.std(population_data) # Using population std dev (ddof=0)\n",
    "\n",
    "print(f\"Population Mean: {pop_mean:.2f}\")\n",
    "print(f\"Population Standard Deviation: {pop_std:.2f}\")\n",
    "\n",
    "# 3. Define the bounds for 1 standard deviation\n",
    "lower_bound = pop_mean - pop_std\n",
    "upper_bound = pop_mean + pop_std\n",
    "\n",
    "print(f\"Data within 1 Std Dev will be between {lower_bound:.2f} and {upper_bound:.2f}\")\n",
    "\n",
    "# 4. Use boolean indexing to filter the data and get the reduced sample\n",
    "reduced_sample = population_data[(population_data > lower_bound) & (population_data < upper_bound)]\n",
    "\n",
    "# 5. Show the results\n",
    "print(f\"\\nOriginal population size: {len(population_data)}\")\n",
    "print(f\"Reduced sample size (within ±1 Std Dev): {len(reduced_sample)}\")\n",
    "print(f\"Percentage of data within ±1 Std Dev: {len(reduced_sample) / len(population_data):.2%}\")\n",
    "print(\"\\nFirst 10 values of the reduced sample:\")\n",
    "print(reduced_sample[:10])\n",
    "\n",
    "# Visualize the result\n",
    "plt.figure(figsize=(12, 7))\n",
    "plt.hist(population_data, bins=50, alpha=0.5, color='gray', label='Full Population', density=True)\n",
    "plt.hist(reduced_sample, bins=30, alpha=0.8, color='cornflowerblue', label='Reduced Sample (±1 Std Dev)', density=True)\n",
    "plt.axvline(pop_mean, color='red', linestyle='--', label='Mean')\n",
    "plt.axvline(lower_bound, color='green', linestyle=':', label='-1 Std Dev')\n",
    "plt.axvline(upper_bound, color='green', linestyle=':', label='+1 Std Dev')\n",
    "plt.title('Extracting a Sample within 1 Standard Deviation')\n",
    "plt.xlabel('Value')\n",
    "plt.ylabel('Density')\n",
    "plt.legend()\n",
    "plt.show()"
   ]
  }
 ],
 "metadata": {
  "colab": {
   "name": "Hands-on Notebook-NumPy.ipynb",
   "provenance": []
  },
  "kernelspec": {
   "display_name": "python-ml-3.9",
   "language": "python",
   "name": "python3"
  },
  "language_info": {
   "codemirror_mode": {
    "name": "ipython",
    "version": 3
   },
   "file_extension": ".py",
   "mimetype": "text/x-python",
   "name": "python",
   "nbconvert_exporter": "python",
   "pygments_lexer": "ipython3",
   "version": "3.9.23"
  }
 },
 "nbformat": 4,
 "nbformat_minor": 0
}
