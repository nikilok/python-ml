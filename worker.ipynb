{
 "cells": [
  {
   "cell_type": "markdown",
   "id": "69b6f97d",
   "metadata": {},
   "source": [
    "# Data science on the HMRC skilled worker data set\n",
    "The below csv file has a list of companies capable of skilled worker sponsornship in the UK"
   ]
  },
  {
   "cell_type": "code",
   "execution_count": 112,
   "id": "5df41517",
   "metadata": {},
   "outputs": [],
   "source": [
    "# importing the libraries\n",
    "import numpy as np\n",
    "import pandas as pd"
   ]
  },
  {
   "cell_type": "code",
   "execution_count": null,
   "id": "2919ee3f",
   "metadata": {},
   "outputs": [
    {
     "name": "stdout",
     "output_type": "stream",
     "text": [
      "Organisation Name    133028\n",
      "Town/City            133025\n",
      "County                45163\n",
      "Type & Rating        133028\n",
      "Route                133028\n",
      "dtype: int64\n"
     ]
    }
   ],
   "source": [
    "skilled_worker_data = pd.read_csv('./projects/python-ml/2025-06-19-Worker.csv')\n",
    "print(skilled_worker_data.count())"
   ]
  }
 ],
 "metadata": {
  "kernelspec": {
   "display_name": "Python 3 (ipykernel)",
   "language": "python",
   "name": "python3"
  },
  "language_info": {
   "codemirror_mode": {
    "name": "ipython",
    "version": 3
   },
   "file_extension": ".py",
   "mimetype": "text/x-python",
   "name": "python",
   "nbconvert_exporter": "python",
   "pygments_lexer": "ipython3",
   "version": "3.13.5"
  }
 },
 "nbformat": 4,
 "nbformat_minor": 5
}
