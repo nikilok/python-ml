{
 "cells": [
  {
   "cell_type": "markdown",
   "id": "69b6f97d",
   "metadata": {},
   "source": [
    "# Data science on the HMRC skilled worker data set\n",
    "The below csv file has a list of companies capable of skilled worker sponsornship in the UK"
   ]
  },
  {
   "cell_type": "code",
   "execution_count": 27,
   "id": "5df41517",
   "metadata": {},
   "outputs": [],
   "source": [
    "# importing the libraries\n",
    "import numpy as np\n",
    "import pandas as pd"
   ]
  },
  {
   "cell_type": "code",
   "execution_count": 28,
   "id": "2919ee3f",
   "metadata": {},
   "outputs": [
    {
     "name": "stdout",
     "output_type": "stream",
     "text": [
      "/Users/nikilkuruvilla/projects/python-ml\n",
      "Organisation Name    133028\n",
      "Town/City            133025\n",
      "County                45163\n",
      "Type & Rating        133028\n",
      "Route                133028\n",
      "dtype: int64\n",
      "Organisation Name    133798\n",
      "Town/City            133795\n",
      "County                45423\n",
      "Type & Rating        133798\n",
      "Route                133798\n",
      "dtype: int64\n",
      "\n",
      "We see how that 770 companies \n",
      "have been added to the list.\n",
      "\n",
      "Organisation Name    770\n",
      "Town/City            770\n",
      "County               260\n",
      "Type & Rating        770\n",
      "Route                770\n",
      "dtype: int64\n"
     ]
    }
   ],
   "source": [
    "import os\n",
    "# Print the current python enviornments base folder, as depending on the python env you setup the relative folder to the csv below should be adjusted\n",
    "print(os.getcwd())\n",
    "skilled_worker_data_2025_06_19 = pd.read_csv('./2025-06-19-Worker.csv')\n",
    "skilled_worker_data_current = pd.read_csv('./2025-07-03-Worker.csv')\n",
    "print(skilled_worker_data_2025_06_19.count())\n",
    "print(skilled_worker_data_current.count())\n",
    "# comparing the current data to an older data\n",
    "difference = skilled_worker_data_current.count() - skilled_worker_data_2025_06_19.count()\n",
    "organisations_count_diff = difference['Organisation Name']\n",
    "\n",
    "print(f\"\"\"\\nWe see how that {organisations_count_diff} companies \n",
    "have been {\"added\" if organisations_count_diff >= 0 else \"removed\"} to the list.\\n\"\"\")\n",
    "print(difference)"
   ]
  },
  {
   "cell_type": "markdown",
   "id": "95deafd8",
   "metadata": {},
   "source": [
    "### shape of the data"
   ]
  },
  {
   "cell_type": "code",
   "execution_count": 29,
   "id": "a08eda0c",
   "metadata": {},
   "outputs": [
    {
     "data": {
      "text/plain": [
       "(133798, 5)"
      ]
     },
     "execution_count": 29,
     "metadata": {},
     "output_type": "execute_result"
    }
   ],
   "source": [
    "skilled_worker_data_current.shape"
   ]
  },
  {
   "cell_type": "markdown",
   "id": "c9379fdc",
   "metadata": {},
   "source": [
    "### info"
   ]
  },
  {
   "cell_type": "code",
   "execution_count": 30,
   "id": "b24c2605",
   "metadata": {},
   "outputs": [
    {
     "name": "stdout",
     "output_type": "stream",
     "text": [
      "<class 'pandas.core.frame.DataFrame'>\n",
      "RangeIndex: 133798 entries, 0 to 133797\n",
      "Data columns (total 5 columns):\n",
      " #   Column             Non-Null Count   Dtype \n",
      "---  ------             --------------   ----- \n",
      " 0   Organisation Name  133798 non-null  object\n",
      " 1   Town/City          133795 non-null  object\n",
      " 2   County             45423 non-null   object\n",
      " 3   Type & Rating      133798 non-null  object\n",
      " 4   Route              133798 non-null  object\n",
      "dtypes: object(5)\n",
      "memory usage: 5.1+ MB\n"
     ]
    }
   ],
   "source": [
    "skilled_worker_data_current.info()"
   ]
  },
  {
   "cell_type": "markdown",
   "id": "76dd99bb",
   "metadata": {},
   "source": [
    "### head / tail"
   ]
  },
  {
   "cell_type": "code",
   "execution_count": 31,
   "id": "e2f9c2a3",
   "metadata": {},
   "outputs": [
    {
     "data": {
      "text/html": [
       "<div>\n",
       "<style scoped>\n",
       "    .dataframe tbody tr th:only-of-type {\n",
       "        vertical-align: middle;\n",
       "    }\n",
       "\n",
       "    .dataframe tbody tr th {\n",
       "        vertical-align: top;\n",
       "    }\n",
       "\n",
       "    .dataframe thead th {\n",
       "        text-align: right;\n",
       "    }\n",
       "</style>\n",
       "<table border=\"1\" class=\"dataframe\">\n",
       "  <thead>\n",
       "    <tr style=\"text-align: right;\">\n",
       "      <th></th>\n",
       "      <th>Organisation Name</th>\n",
       "      <th>Town/City</th>\n",
       "      <th>County</th>\n",
       "      <th>Type &amp; Rating</th>\n",
       "      <th>Route</th>\n",
       "    </tr>\n",
       "  </thead>\n",
       "  <tbody>\n",
       "    <tr>\n",
       "      <th>0</th>\n",
       "      <td>McMullan Shellfish</td>\n",
       "      <td>Ballymena</td>\n",
       "      <td>Co Antrim</td>\n",
       "      <td>Worker (A rating)</td>\n",
       "      <td>Skilled Worker</td>\n",
       "    </tr>\n",
       "    <tr>\n",
       "      <th>1</th>\n",
       "      <td>(A1F1 Limited T/A ) Ultrasound Direct London</td>\n",
       "      <td>Croydon</td>\n",
       "      <td>London</td>\n",
       "      <td>Worker (A rating)</td>\n",
       "      <td>Skilled Worker</td>\n",
       "    </tr>\n",
       "    <tr>\n",
       "      <th>2</th>\n",
       "      <td>(IECC Care) Independent Excel Care Consortium ...</td>\n",
       "      <td>Colchester</td>\n",
       "      <td>NaN</td>\n",
       "      <td>Worker (A rating)</td>\n",
       "      <td>Skilled Worker</td>\n",
       "    </tr>\n",
       "    <tr>\n",
       "      <th>3</th>\n",
       "      <td>*ABOUTCARE HASTINGS LTD</td>\n",
       "      <td>East Sussex</td>\n",
       "      <td>NaN</td>\n",
       "      <td>Worker (A rating)</td>\n",
       "      <td>Skilled Worker</td>\n",
       "    </tr>\n",
       "    <tr>\n",
       "      <th>4</th>\n",
       "      <td>.LITTLE NOORIYAH LTD</td>\n",
       "      <td>Smethwick</td>\n",
       "      <td>NaN</td>\n",
       "      <td>Worker (A rating)</td>\n",
       "      <td>Skilled Worker</td>\n",
       "    </tr>\n",
       "  </tbody>\n",
       "</table>\n",
       "</div>"
      ],
      "text/plain": [
       "                                   Organisation Name    Town/City     County  \\\n",
       "0                                 McMullan Shellfish    Ballymena  Co Antrim   \n",
       "1       (A1F1 Limited T/A ) Ultrasound Direct London      Croydon     London   \n",
       "2  (IECC Care) Independent Excel Care Consortium ...   Colchester        NaN   \n",
       "3                            *ABOUTCARE HASTINGS LTD  East Sussex        NaN   \n",
       "4                               .LITTLE NOORIYAH LTD    Smethwick        NaN   \n",
       "\n",
       "       Type & Rating           Route  \n",
       "0  Worker (A rating)  Skilled Worker  \n",
       "1  Worker (A rating)  Skilled Worker  \n",
       "2  Worker (A rating)  Skilled Worker  \n",
       "3  Worker (A rating)  Skilled Worker  \n",
       "4  Worker (A rating)  Skilled Worker  "
      ]
     },
     "execution_count": 31,
     "metadata": {},
     "output_type": "execute_result"
    }
   ],
   "source": [
    "skilled_worker_data_current.head()"
   ]
  },
  {
   "cell_type": "code",
   "execution_count": 32,
   "id": "a99b65ed",
   "metadata": {},
   "outputs": [
    {
     "data": {
      "text/html": [
       "<div>\n",
       "<style scoped>\n",
       "    .dataframe tbody tr th:only-of-type {\n",
       "        vertical-align: middle;\n",
       "    }\n",
       "\n",
       "    .dataframe tbody tr th {\n",
       "        vertical-align: top;\n",
       "    }\n",
       "\n",
       "    .dataframe thead th {\n",
       "        text-align: right;\n",
       "    }\n",
       "</style>\n",
       "<table border=\"1\" class=\"dataframe\">\n",
       "  <thead>\n",
       "    <tr style=\"text-align: right;\">\n",
       "      <th></th>\n",
       "      <th>Organisation Name</th>\n",
       "      <th>Town/City</th>\n",
       "      <th>County</th>\n",
       "      <th>Type &amp; Rating</th>\n",
       "      <th>Route</th>\n",
       "    </tr>\n",
       "  </thead>\n",
       "  <tbody>\n",
       "    <tr>\n",
       "      <th>133793</th>\n",
       "      <td>ZZA CONSULTING LIMITED</td>\n",
       "      <td>LONDON</td>\n",
       "      <td>NaN</td>\n",
       "      <td>Worker (A rating)</td>\n",
       "      <td>Skilled Worker</td>\n",
       "    </tr>\n",
       "    <tr>\n",
       "      <th>133794</th>\n",
       "      <td>ZZIY Ltd</td>\n",
       "      <td>High Wycombe</td>\n",
       "      <td>NaN</td>\n",
       "      <td>Worker (A rating)</td>\n",
       "      <td>Skilled Worker</td>\n",
       "    </tr>\n",
       "    <tr>\n",
       "      <th>133795</th>\n",
       "      <td>ZZN STUDIO LTD</td>\n",
       "      <td>HAMPTON</td>\n",
       "      <td>NaN</td>\n",
       "      <td>Worker (A rating)</td>\n",
       "      <td>Skilled Worker</td>\n",
       "    </tr>\n",
       "    <tr>\n",
       "      <th>133796</th>\n",
       "      <td>Zzoomm Plc</td>\n",
       "      <td>Oxford</td>\n",
       "      <td>NaN</td>\n",
       "      <td>Worker (A rating)</td>\n",
       "      <td>Skilled Worker</td>\n",
       "    </tr>\n",
       "    <tr>\n",
       "      <th>133797</th>\n",
       "      <td>ZZZ Limited</td>\n",
       "      <td>London</td>\n",
       "      <td>NaN</td>\n",
       "      <td>Worker (A rating)</td>\n",
       "      <td>Skilled Worker</td>\n",
       "    </tr>\n",
       "  </tbody>\n",
       "</table>\n",
       "</div>"
      ],
      "text/plain": [
       "             Organisation Name     Town/City County      Type & Rating  \\\n",
       "133793  ZZA CONSULTING LIMITED        LONDON    NaN  Worker (A rating)   \n",
       "133794                ZZIY Ltd  High Wycombe    NaN  Worker (A rating)   \n",
       "133795          ZZN STUDIO LTD       HAMPTON    NaN  Worker (A rating)   \n",
       "133796              Zzoomm Plc        Oxford    NaN  Worker (A rating)   \n",
       "133797             ZZZ Limited        London    NaN  Worker (A rating)   \n",
       "\n",
       "                 Route  \n",
       "133793  Skilled Worker  \n",
       "133794  Skilled Worker  \n",
       "133795  Skilled Worker  \n",
       "133796  Skilled Worker  \n",
       "133797  Skilled Worker  "
      ]
     },
     "execution_count": 32,
     "metadata": {},
     "output_type": "execute_result"
    }
   ],
   "source": [
    "skilled_worker_data_current.tail()"
   ]
  },
  {
   "cell_type": "markdown",
   "id": "87b96f95",
   "metadata": {},
   "source": [
    "### unique"
   ]
  },
  {
   "cell_type": "code",
   "execution_count": 33,
   "id": "e0b6b8ef",
   "metadata": {},
   "outputs": [
    {
     "data": {
      "text/plain": [
       "array(['Co Antrim', 'London', nan, ..., 'Ascot', 'Gillingham',\n",
       "       'Wes Yorkshire'], dtype=object)"
      ]
     },
     "execution_count": 33,
     "metadata": {},
     "output_type": "execute_result"
    }
   ],
   "source": [
    "skilled_worker_data_current['County'].unique()"
   ]
  },
  {
   "cell_type": "markdown",
   "id": "7e1327ee",
   "metadata": {},
   "source": [
    "### value_counts"
   ]
  },
  {
   "cell_type": "code",
   "execution_count": 34,
   "id": "67144374",
   "metadata": {},
   "outputs": [
    {
     "data": {
      "text/plain": [
       "Town/City\n",
       "London             37214\n",
       "LONDON              3327\n",
       "Birmingham          2829\n",
       "Manchester          2628\n",
       "Bristol             1271\n",
       "                   ...  \n",
       "Burton on trent        1\n",
       "Lees                   1\n",
       "Lytham st annes        1\n",
       "Roehampton             1\n",
       "Northwood hills        1\n",
       "Name: count, Length: 7964, dtype: int64"
      ]
     },
     "execution_count": 34,
     "metadata": {},
     "output_type": "execute_result"
    }
   ],
   "source": [
    "skilled_worker_data_current['Town/City'].value_counts()"
   ]
  },
  {
   "cell_type": "markdown",
   "id": "ddbee703",
   "metadata": {},
   "source": [
    "### value_counts(normalize=True)\n",
    "\n",
    "The below data tells me that the number of companies with Town/City having `London` makes up `27%` of the total companies available in the skilled worker category in UK.\n",
    "\n",
    "`LONDON` contributes to `2.4%`\n",
    "`Birmingham`-`2.1%` and so forth.."
   ]
  },
  {
   "cell_type": "code",
   "execution_count": 35,
   "id": "4151a431",
   "metadata": {},
   "outputs": [
    {
     "data": {
      "text/plain": [
       "Town/City\n",
       "London             0.278142\n",
       "LONDON             0.024866\n",
       "Birmingham         0.021144\n",
       "Manchester         0.019642\n",
       "Bristol            0.009500\n",
       "                     ...   \n",
       "Burton on trent    0.000007\n",
       "Lees               0.000007\n",
       "Lytham st annes    0.000007\n",
       "Roehampton         0.000007\n",
       "Northwood hills    0.000007\n",
       "Name: proportion, Length: 7964, dtype: float64"
      ]
     },
     "execution_count": 35,
     "metadata": {},
     "output_type": "execute_result"
    }
   ],
   "source": [
    "skilled_worker_data_current['Town/City'].value_counts(normalize=True)"
   ]
  },
  {
   "cell_type": "code",
   "execution_count": 36,
   "id": "b9fef6eb",
   "metadata": {},
   "outputs": [
    {
     "name": "stdout",
     "output_type": "stream",
     "text": [
      "Town/City\n",
      " Aberdeen        -0.000009\n",
      " Aberdeenshire   -0.000004\n",
      " Abingdon        -0.000004\n",
      " Accrington      -0.000009\n",
      " Acton           -0.000004\n",
      "                    ...   \n",
      "worksop          -0.000004\n",
      "wormley          -0.000004\n",
      "worthing         -0.000004\n",
      "yattendon        -0.000004\n",
      "york             -0.000017\n",
      "Name: proportion, Length: 7968, dtype: float64\n"
     ]
    }
   ],
   "source": [
    "current_highest_contributors = skilled_worker_data_current['Town/City'].value_counts(normalize=True)\n",
    "previous_highest_contributors = skilled_worker_data_2025_06_19['Town/City'].value_counts(normalize=True)\n",
    "diff_highest_contributors = (current_highest_contributors - previous_highest_contributors)*100\n",
    "# write to excel\n",
    "diff_highest_contributors.to_excel('./diff.xlsx')\n",
    "print(diff_highest_contributors)"
   ]
  },
  {
   "cell_type": "markdown",
   "id": "43e4f583",
   "metadata": {},
   "source": [
    "### mode()\n",
    "\n",
    "The mode on a column returns back the most occuring value.\n",
    "\n",
    "Hence data['column'].mode() returns an array of the most occuring values in a list. so if 'London' and another city 'Xyz' took up the most values it would return both, otherwise just the one thats the most repeating. You then use the index\n",
    "to access the value as seen below."
   ]
  },
  {
   "cell_type": "code",
   "execution_count": 37,
   "id": "70946f6f",
   "metadata": {},
   "outputs": [
    {
     "data": {
      "text/plain": [
       "'London'"
      ]
     },
     "execution_count": 37,
     "metadata": {},
     "output_type": "execute_result"
    }
   ],
   "source": [
    "skilled_worker_data_current['Town/City'].mode()[0]"
   ]
  },
  {
   "cell_type": "code",
   "execution_count": 38,
   "id": "df4fde3a",
   "metadata": {},
   "outputs": [
    {
     "data": {
      "text/plain": [
       "'Worker (A rating)'"
      ]
     },
     "execution_count": 38,
     "metadata": {},
     "output_type": "execute_result"
    }
   ],
   "source": [
    "skilled_worker_data_current['Type & Rating'].mode()[0]"
   ]
  },
  {
   "cell_type": "code",
   "execution_count": 39,
   "id": "b14ae347",
   "metadata": {},
   "outputs": [
    {
     "data": {
      "text/plain": [
       "'Skilled Worker'"
      ]
     },
     "execution_count": 39,
     "metadata": {},
     "output_type": "execute_result"
    }
   ],
   "source": [
    "skilled_worker_data_current['Route'].mode()[0]"
   ]
  },
  {
   "cell_type": "markdown",
   "id": "ff35752f",
   "metadata": {},
   "source": [
    "Interesting how `Surrey` is the most repeated `County` in the HMRC data set.\n",
    "\n",
    "What it means is that most of the companies sponsoring are in the Surrey county according to the data set.\n",
    "But this could also be because that information is not fully captured with all the companies"
   ]
  },
  {
   "cell_type": "code",
   "execution_count": 40,
   "id": "10dc6f02",
   "metadata": {},
   "outputs": [
    {
     "data": {
      "text/plain": [
       "'Surrey'"
      ]
     },
     "execution_count": 40,
     "metadata": {},
     "output_type": "execute_result"
    }
   ],
   "source": [
    "skilled_worker_data_current['County'].mode()[0]"
   ]
  },
  {
   "cell_type": "markdown",
   "id": "90db1e20",
   "metadata": {},
   "source": [
    "# Fuzzy search on organisation names"
   ]
  },
  {
   "cell_type": "markdown",
   "id": "ff475941",
   "metadata": {},
   "source": [
    "### What is Levenshtein Distance?\n",
    "\n",
    "The Levenshtein distance is a measure of the difference between two strings. It is defined as the minimum number of single-character edits (insertions, deletions, or substitutions) required to change one string into the other.\n",
    "\n",
    "For example, the Levenshtein distance between \"kitten\" and \"sitting\" is 3, since the following three edits change one into the other, and there is no way to do it with fewer than three edits:\n",
    "\n",
    "1.  **k**itten → **s**itten (substitution of \"s\" for \"k\")\n",
    "2.  sitt**e**n → sitt**i**n (substitution of \"i\" for \"e\")\n",
    "3.  sittin → sittin**g** (insertion of \"g\" at the end)\n",
    "\n",
    "The `fuzzywuzzy` library uses the Levenshtein distance to calculate the similarity ratios between strings. The `python-Levenshtein` library is a C implementation of the algorithm, which makes the calculations much faster than if they were done in pure Python. This is why we installed it alongside `fuzzywuzzy`."
   ]
  },
  {
   "cell_type": "code",
   "execution_count": 41,
   "id": "b48b3342",
   "metadata": {},
   "outputs": [
    {
     "name": "stdout",
     "output_type": "stream",
     "text": [
      "Yes, a close match to 'masref' exists. Showing matches with a score of 80 or higher:\n",
      "          Organisation Name Town/City County  fuzzy_score\n",
      "73490  Masref Ltd t/a Nsave    London    NaN          100\n"
     ]
    }
   ],
   "source": [
    "# print(skilled_worker_data.columns)\n",
    "# !pip install -q fuzzywuzzy python-Levenshtein\n",
    "from fuzzywuzzy import fuzz\n",
    "\n",
    "company_name = input(\"Enter a company name\")\n",
    "\n",
    "def get_fuzzy_score(company) -> int:\n",
    "    return fuzz.token_set_ratio(company_name.lower(), str(company).lower())\n",
    "\n",
    "skilled_worker_data_current['fuzzy_score'] = skilled_worker_data_current['Organisation Name'].apply(get_fuzzy_score)\n",
    "\n",
    "# Set a threshold for what is considered a \"close match\"\n",
    "threshold = 80\n",
    "matching_rows = skilled_worker_data_current[skilled_worker_data_current['fuzzy_score'] >= threshold]\n",
    "\n",
    "\n",
    "if not matching_rows.empty:\n",
    "    print(f\"Yes, a close match to '{company_name}' exists. Showing matches with a score of {threshold} or higher:\")\n",
    "    print(matching_rows[['Organisation Name', 'Town/City', 'County', 'fuzzy_score']])\n",
    "else:\n",
    "    print(f\"No close match to '{company_name}' found.\")\n"
   ]
  },
  {
   "cell_type": "markdown",
   "id": "5ab3b0d6",
   "metadata": {},
   "source": [
    "### groupby()"
   ]
  },
  {
   "cell_type": "code",
   "execution_count": 42,
   "id": "5ab3b0d6",
   "metadata": {},
   "outputs": [],
   "source": [
    "# skilled_worker_data.groupby(['Town/City'])['County'].mode()[0]"
   ]
  }
 ],
 "metadata": {
  "kernelspec": {
   "display_name": "python-ml-3.9",
   "language": "python",
   "name": "python3"
  },
  "language_info": {
   "codemirror_mode": {
    "name": "ipython",
    "version": 3
   },
   "file_extension": ".py",
   "mimetype": "text/x-python",
   "name": "python",
   "nbconvert_exporter": "python",
   "pygments_lexer": "ipython3",
   "version": "3.9.23"
  }
 },
 "nbformat": 4,
 "nbformat_minor": 5
}
