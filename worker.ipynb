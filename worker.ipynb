{
 "cells": [
  {
   "cell_type": "markdown",
   "id": "69b6f97d",
   "metadata": {},
   "source": [
    "# Data science on the HMRC skilled worker data set\n",
    "The below csv file has a list of companies capable of skilled worker sponsornship in the UK"
   ]
  },
  {
   "cell_type": "code",
   "execution_count": 112,
   "id": "5df41517",
   "metadata": {},
   "outputs": [],
   "source": [
    "# importing the libraries\n",
    "import numpy as np\n",
    "import pandas as pd"
   ]
  },
  {
   "cell_type": "code",
   "execution_count": null,
   "id": "2919ee3f",
   "metadata": {},
   "outputs": [
    {
     "name": "stdout",
     "output_type": "stream",
     "text": [
      "Organisation Name    133028\n",
      "Town/City            133025\n",
      "County                45163\n",
      "Type & Rating        133028\n",
      "Route                133028\n",
      "dtype: int64\n"
     ]
    }
   ],
   "source": [
    "skilled_worker_data = pd.read_csv('./projects/python-ml/2025-06-19-Worker.csv')\n",
    "print(skilled_worker_data.count())"
   ]
  },
  {
   "cell_type": "markdown",
   "id": "95deafd8",
   "metadata": {},
   "source": [
    "### shape of the data"
   ]
  },
  {
   "cell_type": "code",
   "execution_count": 118,
   "id": "a08eda0c",
   "metadata": {},
   "outputs": [
    {
     "data": {
      "text/plain": [
       "(133028, 5)"
      ]
     },
     "execution_count": 118,
     "metadata": {},
     "output_type": "execute_result"
    }
   ],
   "source": [
    "skilled_worker_data.shape"
   ]
  },
  {
   "cell_type": "markdown",
   "id": "c9379fdc",
   "metadata": {},
   "source": [
    "### info"
   ]
  },
  {
   "cell_type": "code",
   "execution_count": 119,
   "id": "b24c2605",
   "metadata": {},
   "outputs": [
    {
     "name": "stdout",
     "output_type": "stream",
     "text": [
      "<class 'pandas.core.frame.DataFrame'>\n",
      "RangeIndex: 133028 entries, 0 to 133027\n",
      "Data columns (total 5 columns):\n",
      " #   Column             Non-Null Count   Dtype \n",
      "---  ------             --------------   ----- \n",
      " 0   Organisation Name  133028 non-null  object\n",
      " 1   Town/City          133025 non-null  object\n",
      " 2   County             45163 non-null   object\n",
      " 3   Type & Rating      133028 non-null  object\n",
      " 4   Route              133028 non-null  object\n",
      "dtypes: object(5)\n",
      "memory usage: 5.1+ MB\n"
     ]
    }
   ],
   "source": [
    "skilled_worker_data.info()"
   ]
  },
  {
   "cell_type": "markdown",
   "id": "76dd99bb",
   "metadata": {},
   "source": [
    "### head / tail"
   ]
  },
  {
   "cell_type": "code",
   "execution_count": 137,
   "id": "e2f9c2a3",
   "metadata": {},
   "outputs": [
    {
     "data": {
      "text/html": [
       "<div>\n",
       "<style scoped>\n",
       "    .dataframe tbody tr th:only-of-type {\n",
       "        vertical-align: middle;\n",
       "    }\n",
       "\n",
       "    .dataframe tbody tr th {\n",
       "        vertical-align: top;\n",
       "    }\n",
       "\n",
       "    .dataframe thead th {\n",
       "        text-align: right;\n",
       "    }\n",
       "</style>\n",
       "<table border=\"1\" class=\"dataframe\">\n",
       "  <thead>\n",
       "    <tr style=\"text-align: right;\">\n",
       "      <th></th>\n",
       "      <th>Organisation Name</th>\n",
       "      <th>Town/City</th>\n",
       "      <th>County</th>\n",
       "      <th>Type &amp; Rating</th>\n",
       "      <th>Route</th>\n",
       "    </tr>\n",
       "  </thead>\n",
       "  <tbody>\n",
       "    <tr>\n",
       "      <th>0</th>\n",
       "      <td>McMullan Shellfish</td>\n",
       "      <td>Ballymena</td>\n",
       "      <td>Co Antrim</td>\n",
       "      <td>Worker (A rating)</td>\n",
       "      <td>Skilled Worker</td>\n",
       "    </tr>\n",
       "    <tr>\n",
       "      <th>1</th>\n",
       "      <td>(A1F1 Limited T/A ) Ultrasound Direct London</td>\n",
       "      <td>Croydon</td>\n",
       "      <td>London</td>\n",
       "      <td>Worker (A rating)</td>\n",
       "      <td>Skilled Worker</td>\n",
       "    </tr>\n",
       "    <tr>\n",
       "      <th>2</th>\n",
       "      <td>(IECC Care) Independent Excel Care Consortium ...</td>\n",
       "      <td>Colchester</td>\n",
       "      <td>NaN</td>\n",
       "      <td>Worker (A rating)</td>\n",
       "      <td>Skilled Worker</td>\n",
       "    </tr>\n",
       "    <tr>\n",
       "      <th>3</th>\n",
       "      <td>*ABOUTCARE HASTINGS LTD</td>\n",
       "      <td>East Sussex</td>\n",
       "      <td>NaN</td>\n",
       "      <td>Worker (A rating)</td>\n",
       "      <td>Skilled Worker</td>\n",
       "    </tr>\n",
       "    <tr>\n",
       "      <th>4</th>\n",
       "      <td>.LITTLE NOORIYAH LTD</td>\n",
       "      <td>Smethwick</td>\n",
       "      <td>NaN</td>\n",
       "      <td>Worker (A rating)</td>\n",
       "      <td>Skilled Worker</td>\n",
       "    </tr>\n",
       "  </tbody>\n",
       "</table>\n",
       "</div>"
      ],
      "text/plain": [
       "                                   Organisation Name    Town/City     County  \\\n",
       "0                                 McMullan Shellfish    Ballymena  Co Antrim   \n",
       "1       (A1F1 Limited T/A ) Ultrasound Direct London      Croydon     London   \n",
       "2  (IECC Care) Independent Excel Care Consortium ...   Colchester        NaN   \n",
       "3                            *ABOUTCARE HASTINGS LTD  East Sussex        NaN   \n",
       "4                               .LITTLE NOORIYAH LTD    Smethwick        NaN   \n",
       "\n",
       "       Type & Rating           Route  \n",
       "0  Worker (A rating)  Skilled Worker  \n",
       "1  Worker (A rating)  Skilled Worker  \n",
       "2  Worker (A rating)  Skilled Worker  \n",
       "3  Worker (A rating)  Skilled Worker  \n",
       "4  Worker (A rating)  Skilled Worker  "
      ]
     },
     "execution_count": 137,
     "metadata": {},
     "output_type": "execute_result"
    }
   ],
   "source": [
    "skilled_worker_data.head()"
   ]
  },
  {
   "cell_type": "code",
   "execution_count": 138,
   "id": "a99b65ed",
   "metadata": {},
   "outputs": [
    {
     "data": {
      "text/html": [
       "<div>\n",
       "<style scoped>\n",
       "    .dataframe tbody tr th:only-of-type {\n",
       "        vertical-align: middle;\n",
       "    }\n",
       "\n",
       "    .dataframe tbody tr th {\n",
       "        vertical-align: top;\n",
       "    }\n",
       "\n",
       "    .dataframe thead th {\n",
       "        text-align: right;\n",
       "    }\n",
       "</style>\n",
       "<table border=\"1\" class=\"dataframe\">\n",
       "  <thead>\n",
       "    <tr style=\"text-align: right;\">\n",
       "      <th></th>\n",
       "      <th>Organisation Name</th>\n",
       "      <th>Town/City</th>\n",
       "      <th>County</th>\n",
       "      <th>Type &amp; Rating</th>\n",
       "      <th>Route</th>\n",
       "    </tr>\n",
       "  </thead>\n",
       "  <tbody>\n",
       "    <tr>\n",
       "      <th>133023</th>\n",
       "      <td>ZZA CONSULTING LIMITED</td>\n",
       "      <td>LONDON</td>\n",
       "      <td>NaN</td>\n",
       "      <td>Worker (A rating)</td>\n",
       "      <td>Skilled Worker</td>\n",
       "    </tr>\n",
       "    <tr>\n",
       "      <th>133024</th>\n",
       "      <td>ZZIY Ltd</td>\n",
       "      <td>High Wycombe</td>\n",
       "      <td>NaN</td>\n",
       "      <td>Worker (A rating)</td>\n",
       "      <td>Skilled Worker</td>\n",
       "    </tr>\n",
       "    <tr>\n",
       "      <th>133025</th>\n",
       "      <td>ZZN STUDIO LTD</td>\n",
       "      <td>HAMPTON</td>\n",
       "      <td>NaN</td>\n",
       "      <td>Worker (A rating)</td>\n",
       "      <td>Skilled Worker</td>\n",
       "    </tr>\n",
       "    <tr>\n",
       "      <th>133026</th>\n",
       "      <td>Zzoomm Plc</td>\n",
       "      <td>Oxford</td>\n",
       "      <td>NaN</td>\n",
       "      <td>Worker (A rating)</td>\n",
       "      <td>Skilled Worker</td>\n",
       "    </tr>\n",
       "    <tr>\n",
       "      <th>133027</th>\n",
       "      <td>ZZZ Limited</td>\n",
       "      <td>London</td>\n",
       "      <td>NaN</td>\n",
       "      <td>Worker (A rating)</td>\n",
       "      <td>Skilled Worker</td>\n",
       "    </tr>\n",
       "  </tbody>\n",
       "</table>\n",
       "</div>"
      ],
      "text/plain": [
       "             Organisation Name     Town/City County      Type & Rating  \\\n",
       "133023  ZZA CONSULTING LIMITED        LONDON    NaN  Worker (A rating)   \n",
       "133024                ZZIY Ltd  High Wycombe    NaN  Worker (A rating)   \n",
       "133025          ZZN STUDIO LTD       HAMPTON    NaN  Worker (A rating)   \n",
       "133026              Zzoomm Plc        Oxford    NaN  Worker (A rating)   \n",
       "133027             ZZZ Limited        London    NaN  Worker (A rating)   \n",
       "\n",
       "                 Route  \n",
       "133023  Skilled Worker  \n",
       "133024  Skilled Worker  \n",
       "133025  Skilled Worker  \n",
       "133026  Skilled Worker  \n",
       "133027  Skilled Worker  "
      ]
     },
     "execution_count": 138,
     "metadata": {},
     "output_type": "execute_result"
    }
   ],
   "source": [
    "skilled_worker_data.tail()"
   ]
  }
 ],
 "metadata": {
  "kernelspec": {
   "display_name": "Python 3 (ipykernel)",
   "language": "python",
   "name": "python3"
  },
  "language_info": {
   "codemirror_mode": {
    "name": "ipython",
    "version": 3
   },
   "file_extension": ".py",
   "mimetype": "text/x-python",
   "name": "python",
   "nbconvert_exporter": "python",
   "pygments_lexer": "ipython3",
   "version": "3.13.5"
  }
 },
 "nbformat": 4,
 "nbformat_minor": 5
}
