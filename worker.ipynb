{
 "cells": [
  {
   "cell_type": "markdown",
   "id": "69b6f97d",
   "metadata": {},
   "source": [
    "# Data science on the HMRC skilled worker data set\n",
    "The below csv file has a list of companies capable of skilled worker sponsornship in the UK"
   ]
  },
  {
   "cell_type": "code",
   "execution_count": 9,
   "id": "5df41517",
   "metadata": {},
   "outputs": [],
   "source": [
    "# importing the libraries\n",
    "import numpy as np\n",
    "import pandas as pd"
   ]
  },
  {
   "cell_type": "code",
   "execution_count": null,
   "id": "2919ee3f",
   "metadata": {},
   "outputs": [
    {
     "name": "stdout",
     "output_type": "stream",
     "text": [
      "/Users/nikilkuruvilla/projects/python-ml\n",
      "Organisation Name    133028\n",
      "Town/City            133025\n",
      "County                45163\n",
      "Type & Rating        133028\n",
      "Route                133028\n",
      "dtype: int64\n",
      "Organisation Name    133798\n",
      "Town/City            133795\n",
      "County                45423\n",
      "Type & Rating        133798\n",
      "Route                133798\n",
      "dtype: int64\n",
      "\n",
      "We see how that 770 companies \n",
      "have been added to the list.\n",
      "\n",
      "Organisation Name    770\n",
      "Town/City            770\n",
      "County               260\n",
      "Type & Rating        770\n",
      "Route                770\n",
      "dtype: int64\n"
     ]
    }
   ],
   "source": [
    "import os\n",
    "# Print the current python enviornments base folder, as depending on the python env you setup the relative folder to the csv below should be adjusted\n",
    "print(os.getcwd())\n",
    "skilled_worker_data_2025_06_19 = pd.read_csv('./2025-06-19-Worker.csv')\n",
    "skilled_worker_data_current = pd.read_csv('./2025-07-03-Worker.csv')\n",
    "print(skilled_worker_data_2025_06_19.count())\n",
    "print(skilled_worker_data_current.count())\n",
    "# comparing the current data to an older data\n",
    "difference = skilled_worker_data_current.count() - skilled_worker_data_2025_06_19.count()\n",
    "organisations_count_diff = difference['Organisation Name']\n",
    "\n",
    "print(f\"\"\"\\nWe see how that {organisations_count_diff} companies \n",
    "have been {\"added\" if organisations_count_diff >= 0 else \"removed\"} to the list.\\n\"\"\")\n",
    "print(difference)"
   ]
  },
  {
   "cell_type": "markdown",
   "id": "95deafd8",
   "metadata": {},
   "source": [
    "### shape of the data"
   ]
  },
  {
   "cell_type": "code",
   "execution_count": 11,
   "id": "a08eda0c",
   "metadata": {},
   "outputs": [
    {
     "data": {
      "text/plain": [
       "(133798, 5)"
      ]
     },
     "execution_count": 11,
     "metadata": {},
     "output_type": "execute_result"
    }
   ],
   "source": [
    "skilled_worker_data_current.shape"
   ]
  },
  {
   "cell_type": "markdown",
   "id": "c9379fdc",
   "metadata": {},
   "source": [
    "### info"
   ]
  },
  {
   "cell_type": "code",
   "execution_count": 12,
   "id": "b24c2605",
   "metadata": {},
   "outputs": [
    {
     "name": "stdout",
     "output_type": "stream",
     "text": [
      "<class 'pandas.core.frame.DataFrame'>\n",
      "RangeIndex: 133798 entries, 0 to 133797\n",
      "Data columns (total 5 columns):\n",
      " #   Column             Non-Null Count   Dtype \n",
      "---  ------             --------------   ----- \n",
      " 0   Organisation Name  133798 non-null  object\n",
      " 1   Town/City          133795 non-null  object\n",
      " 2   County             45423 non-null   object\n",
      " 3   Type & Rating      133798 non-null  object\n",
      " 4   Route              133798 non-null  object\n",
      "dtypes: object(5)\n",
      "memory usage: 5.1+ MB\n"
     ]
    }
   ],
   "source": [
    "skilled_worker_data_current.info()"
   ]
  },
  {
   "cell_type": "markdown",
   "id": "76dd99bb",
   "metadata": {},
   "source": [
    "### head / tail"
   ]
  },
  {
   "cell_type": "code",
   "execution_count": 13,
   "id": "e2f9c2a3",
   "metadata": {},
   "outputs": [
    {
     "data": {
      "text/html": [
       "<div>\n",
       "<style scoped>\n",
       "    .dataframe tbody tr th:only-of-type {\n",
       "        vertical-align: middle;\n",
       "    }\n",
       "\n",
       "    .dataframe tbody tr th {\n",
       "        vertical-align: top;\n",
       "    }\n",
       "\n",
       "    .dataframe thead th {\n",
       "        text-align: right;\n",
       "    }\n",
       "</style>\n",
       "<table border=\"1\" class=\"dataframe\">\n",
       "  <thead>\n",
       "    <tr style=\"text-align: right;\">\n",
       "      <th></th>\n",
       "      <th>Organisation Name</th>\n",
       "      <th>Town/City</th>\n",
       "      <th>County</th>\n",
       "      <th>Type &amp; Rating</th>\n",
       "      <th>Route</th>\n",
       "    </tr>\n",
       "  </thead>\n",
       "  <tbody>\n",
       "    <tr>\n",
       "      <th>0</th>\n",
       "      <td>McMullan Shellfish</td>\n",
       "      <td>Ballymena</td>\n",
       "      <td>Co Antrim</td>\n",
       "      <td>Worker (A rating)</td>\n",
       "      <td>Skilled Worker</td>\n",
       "    </tr>\n",
       "    <tr>\n",
       "      <th>1</th>\n",
       "      <td>(A1F1 Limited T/A ) Ultrasound Direct London</td>\n",
       "      <td>Croydon</td>\n",
       "      <td>London</td>\n",
       "      <td>Worker (A rating)</td>\n",
       "      <td>Skilled Worker</td>\n",
       "    </tr>\n",
       "    <tr>\n",
       "      <th>2</th>\n",
       "      <td>(IECC Care) Independent Excel Care Consortium ...</td>\n",
       "      <td>Colchester</td>\n",
       "      <td>NaN</td>\n",
       "      <td>Worker (A rating)</td>\n",
       "      <td>Skilled Worker</td>\n",
       "    </tr>\n",
       "    <tr>\n",
       "      <th>3</th>\n",
       "      <td>*ABOUTCARE HASTINGS LTD</td>\n",
       "      <td>East Sussex</td>\n",
       "      <td>NaN</td>\n",
       "      <td>Worker (A rating)</td>\n",
       "      <td>Skilled Worker</td>\n",
       "    </tr>\n",
       "    <tr>\n",
       "      <th>4</th>\n",
       "      <td>.LITTLE NOORIYAH LTD</td>\n",
       "      <td>Smethwick</td>\n",
       "      <td>NaN</td>\n",
       "      <td>Worker (A rating)</td>\n",
       "      <td>Skilled Worker</td>\n",
       "    </tr>\n",
       "  </tbody>\n",
       "</table>\n",
       "</div>"
      ],
      "text/plain": [
       "                                   Organisation Name    Town/City     County  \\\n",
       "0                                 McMullan Shellfish    Ballymena  Co Antrim   \n",
       "1       (A1F1 Limited T/A ) Ultrasound Direct London      Croydon     London   \n",
       "2  (IECC Care) Independent Excel Care Consortium ...   Colchester        NaN   \n",
       "3                            *ABOUTCARE HASTINGS LTD  East Sussex        NaN   \n",
       "4                               .LITTLE NOORIYAH LTD    Smethwick        NaN   \n",
       "\n",
       "       Type & Rating           Route  \n",
       "0  Worker (A rating)  Skilled Worker  \n",
       "1  Worker (A rating)  Skilled Worker  \n",
       "2  Worker (A rating)  Skilled Worker  \n",
       "3  Worker (A rating)  Skilled Worker  \n",
       "4  Worker (A rating)  Skilled Worker  "
      ]
     },
     "execution_count": 13,
     "metadata": {},
     "output_type": "execute_result"
    }
   ],
   "source": [
    "skilled_worker_data_current.head()"
   ]
  },
  {
   "cell_type": "code",
   "execution_count": 14,
   "id": "a99b65ed",
   "metadata": {},
   "outputs": [
    {
     "data": {
      "text/html": [
       "<div>\n",
       "<style scoped>\n",
       "    .dataframe tbody tr th:only-of-type {\n",
       "        vertical-align: middle;\n",
       "    }\n",
       "\n",
       "    .dataframe tbody tr th {\n",
       "        vertical-align: top;\n",
       "    }\n",
       "\n",
       "    .dataframe thead th {\n",
       "        text-align: right;\n",
       "    }\n",
       "</style>\n",
       "<table border=\"1\" class=\"dataframe\">\n",
       "  <thead>\n",
       "    <tr style=\"text-align: right;\">\n",
       "      <th></th>\n",
       "      <th>Organisation Name</th>\n",
       "      <th>Town/City</th>\n",
       "      <th>County</th>\n",
       "      <th>Type &amp; Rating</th>\n",
       "      <th>Route</th>\n",
       "    </tr>\n",
       "  </thead>\n",
       "  <tbody>\n",
       "    <tr>\n",
       "      <th>133793</th>\n",
       "      <td>ZZA CONSULTING LIMITED</td>\n",
       "      <td>LONDON</td>\n",
       "      <td>NaN</td>\n",
       "      <td>Worker (A rating)</td>\n",
       "      <td>Skilled Worker</td>\n",
       "    </tr>\n",
       "    <tr>\n",
       "      <th>133794</th>\n",
       "      <td>ZZIY Ltd</td>\n",
       "      <td>High Wycombe</td>\n",
       "      <td>NaN</td>\n",
       "      <td>Worker (A rating)</td>\n",
       "      <td>Skilled Worker</td>\n",
       "    </tr>\n",
       "    <tr>\n",
       "      <th>133795</th>\n",
       "      <td>ZZN STUDIO LTD</td>\n",
       "      <td>HAMPTON</td>\n",
       "      <td>NaN</td>\n",
       "      <td>Worker (A rating)</td>\n",
       "      <td>Skilled Worker</td>\n",
       "    </tr>\n",
       "    <tr>\n",
       "      <th>133796</th>\n",
       "      <td>Zzoomm Plc</td>\n",
       "      <td>Oxford</td>\n",
       "      <td>NaN</td>\n",
       "      <td>Worker (A rating)</td>\n",
       "      <td>Skilled Worker</td>\n",
       "    </tr>\n",
       "    <tr>\n",
       "      <th>133797</th>\n",
       "      <td>ZZZ Limited</td>\n",
       "      <td>London</td>\n",
       "      <td>NaN</td>\n",
       "      <td>Worker (A rating)</td>\n",
       "      <td>Skilled Worker</td>\n",
       "    </tr>\n",
       "  </tbody>\n",
       "</table>\n",
       "</div>"
      ],
      "text/plain": [
       "             Organisation Name     Town/City County      Type & Rating  \\\n",
       "133793  ZZA CONSULTING LIMITED        LONDON    NaN  Worker (A rating)   \n",
       "133794                ZZIY Ltd  High Wycombe    NaN  Worker (A rating)   \n",
       "133795          ZZN STUDIO LTD       HAMPTON    NaN  Worker (A rating)   \n",
       "133796              Zzoomm Plc        Oxford    NaN  Worker (A rating)   \n",
       "133797             ZZZ Limited        London    NaN  Worker (A rating)   \n",
       "\n",
       "                 Route  \n",
       "133793  Skilled Worker  \n",
       "133794  Skilled Worker  \n",
       "133795  Skilled Worker  \n",
       "133796  Skilled Worker  \n",
       "133797  Skilled Worker  "
      ]
     },
     "execution_count": 14,
     "metadata": {},
     "output_type": "execute_result"
    }
   ],
   "source": [
    "skilled_worker_data_current.tail()"
   ]
  },
  {
   "cell_type": "markdown",
   "id": "87b96f95",
   "metadata": {},
   "source": [
    "### unique"
   ]
  },
  {
   "cell_type": "code",
   "execution_count": 15,
   "id": "e0b6b8ef",
   "metadata": {},
   "outputs": [
    {
     "data": {
      "text/plain": [
       "array(['Co Antrim', 'London', nan, ..., 'Ascot', 'Gillingham',\n",
       "       'Wes Yorkshire'], dtype=object)"
      ]
     },
     "execution_count": 15,
     "metadata": {},
     "output_type": "execute_result"
    }
   ],
   "source": [
    "skilled_worker_data_current['County'].unique()"
   ]
  },
  {
   "cell_type": "markdown",
   "id": "7e1327ee",
   "metadata": {},
   "source": [
    "### value_counts"
   ]
  },
  {
   "cell_type": "code",
   "execution_count": 16,
   "id": "67144374",
   "metadata": {},
   "outputs": [
    {
     "data": {
      "text/plain": [
       "Town/City\n",
       "London             37214\n",
       "LONDON              3327\n",
       "Birmingham          2829\n",
       "Manchester          2628\n",
       "Bristol             1271\n",
       "                   ...  \n",
       "Burton on trent        1\n",
       "Lees                   1\n",
       "Lytham st annes        1\n",
       "Roehampton             1\n",
       "Northwood hills        1\n",
       "Name: count, Length: 7964, dtype: int64"
      ]
     },
     "execution_count": 16,
     "metadata": {},
     "output_type": "execute_result"
    }
   ],
   "source": [
    "skilled_worker_data_current['Town/City'].value_counts()"
   ]
  },
  {
   "cell_type": "markdown",
   "id": "ddbee703",
   "metadata": {},
   "source": [
    "### value_counts(normalize=True)\n",
    "\n",
    "The below data tells me that the number of companies with Town/City having `London` makes up `27%` of the total companies available in the skilled worker category in UK.\n",
    "\n",
    "`LONDON` contributes to `2.4%`\n",
    "`Birmingham`-`2.1%` and so forth.."
   ]
  },
  {
   "cell_type": "code",
   "execution_count": 17,
   "id": "4151a431",
   "metadata": {},
   "outputs": [
    {
     "data": {
      "text/plain": [
       "Town/City\n",
       "London             0.278142\n",
       "LONDON             0.024866\n",
       "Birmingham         0.021144\n",
       "Manchester         0.019642\n",
       "Bristol            0.009500\n",
       "                     ...   \n",
       "Burton on trent    0.000007\n",
       "Lees               0.000007\n",
       "Lytham st annes    0.000007\n",
       "Roehampton         0.000007\n",
       "Northwood hills    0.000007\n",
       "Name: proportion, Length: 7964, dtype: float64"
      ]
     },
     "execution_count": 17,
     "metadata": {},
     "output_type": "execute_result"
    }
   ],
   "source": [
    "skilled_worker_data_current['Town/City'].value_counts(normalize=True)"
   ]
  },
  {
   "cell_type": "code",
   "execution_count": null,
   "id": "b9fef6eb",
   "metadata": {},
   "outputs": [
    {
     "ename": "ModuleNotFoundError",
     "evalue": "No module named 'openpyxl'",
     "output_type": "error",
     "traceback": [
      "\u001b[0;31m---------------------------------------------------------------------------\u001b[0m",
      "\u001b[0;31mModuleNotFoundError\u001b[0m                       Traceback (most recent call last)",
      "Cell \u001b[0;32mIn[24], line 5\u001b[0m\n\u001b[1;32m      3\u001b[0m diff_highest_contributors \u001b[38;5;241m=\u001b[39m (current_highest_contributors \u001b[38;5;241m-\u001b[39m previous_highest_contributors)\u001b[38;5;241m*\u001b[39m\u001b[38;5;241m100\u001b[39m\n\u001b[1;32m      4\u001b[0m \u001b[38;5;66;03m# write to excel\u001b[39;00m\n\u001b[0;32m----> 5\u001b[0m \u001b[43mdiff_highest_contributors\u001b[49m\u001b[38;5;241;43m.\u001b[39;49m\u001b[43mto_excel\u001b[49m\u001b[43m(\u001b[49m\u001b[38;5;124;43m'\u001b[39;49m\u001b[38;5;124;43m.venv/diff.xlsx\u001b[39;49m\u001b[38;5;124;43m'\u001b[39;49m\u001b[43m)\u001b[49m\n\u001b[1;32m      6\u001b[0m \u001b[38;5;28mprint\u001b[39m(diff_highest_contributors)\n",
      "File \u001b[0;32m/opt/anaconda3/envs/python-ml-3.9/lib/python3.9/site-packages/pandas/util/_decorators.py:333\u001b[0m, in \u001b[0;36mdeprecate_nonkeyword_arguments.<locals>.decorate.<locals>.wrapper\u001b[0;34m(*args, **kwargs)\u001b[0m\n\u001b[1;32m    327\u001b[0m \u001b[38;5;28;01mif\u001b[39;00m \u001b[38;5;28mlen\u001b[39m(args) \u001b[38;5;241m>\u001b[39m num_allow_args:\n\u001b[1;32m    328\u001b[0m     warnings\u001b[38;5;241m.\u001b[39mwarn(\n\u001b[1;32m    329\u001b[0m         msg\u001b[38;5;241m.\u001b[39mformat(arguments\u001b[38;5;241m=\u001b[39m_format_argument_list(allow_args)),\n\u001b[1;32m    330\u001b[0m         \u001b[38;5;167;01mFutureWarning\u001b[39;00m,\n\u001b[1;32m    331\u001b[0m         stacklevel\u001b[38;5;241m=\u001b[39mfind_stack_level(),\n\u001b[1;32m    332\u001b[0m     )\n\u001b[0;32m--> 333\u001b[0m \u001b[38;5;28;01mreturn\u001b[39;00m \u001b[43mfunc\u001b[49m\u001b[43m(\u001b[49m\u001b[38;5;241;43m*\u001b[39;49m\u001b[43margs\u001b[49m\u001b[43m,\u001b[49m\u001b[43m \u001b[49m\u001b[38;5;241;43m*\u001b[39;49m\u001b[38;5;241;43m*\u001b[39;49m\u001b[43mkwargs\u001b[49m\u001b[43m)\u001b[49m\n",
      "File \u001b[0;32m/opt/anaconda3/envs/python-ml-3.9/lib/python3.9/site-packages/pandas/core/generic.py:2417\u001b[0m, in \u001b[0;36mNDFrame.to_excel\u001b[0;34m(self, excel_writer, sheet_name, na_rep, float_format, columns, header, index, index_label, startrow, startcol, engine, merge_cells, inf_rep, freeze_panes, storage_options, engine_kwargs)\u001b[0m\n\u001b[1;32m   2404\u001b[0m \u001b[38;5;28;01mfrom\u001b[39;00m\u001b[38;5;250m \u001b[39m\u001b[38;5;21;01mpandas\u001b[39;00m\u001b[38;5;21;01m.\u001b[39;00m\u001b[38;5;21;01mio\u001b[39;00m\u001b[38;5;21;01m.\u001b[39;00m\u001b[38;5;21;01mformats\u001b[39;00m\u001b[38;5;21;01m.\u001b[39;00m\u001b[38;5;21;01mexcel\u001b[39;00m\u001b[38;5;250m \u001b[39m\u001b[38;5;28;01mimport\u001b[39;00m ExcelFormatter\n\u001b[1;32m   2406\u001b[0m formatter \u001b[38;5;241m=\u001b[39m ExcelFormatter(\n\u001b[1;32m   2407\u001b[0m     df,\n\u001b[1;32m   2408\u001b[0m     na_rep\u001b[38;5;241m=\u001b[39mna_rep,\n\u001b[0;32m   (...)\u001b[0m\n\u001b[1;32m   2415\u001b[0m     inf_rep\u001b[38;5;241m=\u001b[39minf_rep,\n\u001b[1;32m   2416\u001b[0m )\n\u001b[0;32m-> 2417\u001b[0m \u001b[43mformatter\u001b[49m\u001b[38;5;241;43m.\u001b[39;49m\u001b[43mwrite\u001b[49m\u001b[43m(\u001b[49m\n\u001b[1;32m   2418\u001b[0m \u001b[43m    \u001b[49m\u001b[43mexcel_writer\u001b[49m\u001b[43m,\u001b[49m\n\u001b[1;32m   2419\u001b[0m \u001b[43m    \u001b[49m\u001b[43msheet_name\u001b[49m\u001b[38;5;241;43m=\u001b[39;49m\u001b[43msheet_name\u001b[49m\u001b[43m,\u001b[49m\n\u001b[1;32m   2420\u001b[0m \u001b[43m    \u001b[49m\u001b[43mstartrow\u001b[49m\u001b[38;5;241;43m=\u001b[39;49m\u001b[43mstartrow\u001b[49m\u001b[43m,\u001b[49m\n\u001b[1;32m   2421\u001b[0m \u001b[43m    \u001b[49m\u001b[43mstartcol\u001b[49m\u001b[38;5;241;43m=\u001b[39;49m\u001b[43mstartcol\u001b[49m\u001b[43m,\u001b[49m\n\u001b[1;32m   2422\u001b[0m \u001b[43m    \u001b[49m\u001b[43mfreeze_panes\u001b[49m\u001b[38;5;241;43m=\u001b[39;49m\u001b[43mfreeze_panes\u001b[49m\u001b[43m,\u001b[49m\n\u001b[1;32m   2423\u001b[0m \u001b[43m    \u001b[49m\u001b[43mengine\u001b[49m\u001b[38;5;241;43m=\u001b[39;49m\u001b[43mengine\u001b[49m\u001b[43m,\u001b[49m\n\u001b[1;32m   2424\u001b[0m \u001b[43m    \u001b[49m\u001b[43mstorage_options\u001b[49m\u001b[38;5;241;43m=\u001b[39;49m\u001b[43mstorage_options\u001b[49m\u001b[43m,\u001b[49m\n\u001b[1;32m   2425\u001b[0m \u001b[43m    \u001b[49m\u001b[43mengine_kwargs\u001b[49m\u001b[38;5;241;43m=\u001b[39;49m\u001b[43mengine_kwargs\u001b[49m\u001b[43m,\u001b[49m\n\u001b[1;32m   2426\u001b[0m \u001b[43m\u001b[49m\u001b[43m)\u001b[49m\n",
      "File \u001b[0;32m/opt/anaconda3/envs/python-ml-3.9/lib/python3.9/site-packages/pandas/io/formats/excel.py:943\u001b[0m, in \u001b[0;36mExcelFormatter.write\u001b[0;34m(self, writer, sheet_name, startrow, startcol, freeze_panes, engine, storage_options, engine_kwargs)\u001b[0m\n\u001b[1;32m    941\u001b[0m     need_save \u001b[38;5;241m=\u001b[39m \u001b[38;5;28;01mFalse\u001b[39;00m\n\u001b[1;32m    942\u001b[0m \u001b[38;5;28;01melse\u001b[39;00m:\n\u001b[0;32m--> 943\u001b[0m     writer \u001b[38;5;241m=\u001b[39m \u001b[43mExcelWriter\u001b[49m\u001b[43m(\u001b[49m\n\u001b[1;32m    944\u001b[0m \u001b[43m        \u001b[49m\u001b[43mwriter\u001b[49m\u001b[43m,\u001b[49m\n\u001b[1;32m    945\u001b[0m \u001b[43m        \u001b[49m\u001b[43mengine\u001b[49m\u001b[38;5;241;43m=\u001b[39;49m\u001b[43mengine\u001b[49m\u001b[43m,\u001b[49m\n\u001b[1;32m    946\u001b[0m \u001b[43m        \u001b[49m\u001b[43mstorage_options\u001b[49m\u001b[38;5;241;43m=\u001b[39;49m\u001b[43mstorage_options\u001b[49m\u001b[43m,\u001b[49m\n\u001b[1;32m    947\u001b[0m \u001b[43m        \u001b[49m\u001b[43mengine_kwargs\u001b[49m\u001b[38;5;241;43m=\u001b[39;49m\u001b[43mengine_kwargs\u001b[49m\u001b[43m,\u001b[49m\n\u001b[1;32m    948\u001b[0m \u001b[43m    \u001b[49m\u001b[43m)\u001b[49m\n\u001b[1;32m    949\u001b[0m     need_save \u001b[38;5;241m=\u001b[39m \u001b[38;5;28;01mTrue\u001b[39;00m\n\u001b[1;32m    951\u001b[0m \u001b[38;5;28;01mtry\u001b[39;00m:\n",
      "File \u001b[0;32m/opt/anaconda3/envs/python-ml-3.9/lib/python3.9/site-packages/pandas/io/excel/_openpyxl.py:57\u001b[0m, in \u001b[0;36mOpenpyxlWriter.__init__\u001b[0;34m(self, path, engine, date_format, datetime_format, mode, storage_options, if_sheet_exists, engine_kwargs, **kwargs)\u001b[0m\n\u001b[1;32m     44\u001b[0m \u001b[38;5;28;01mdef\u001b[39;00m\u001b[38;5;250m \u001b[39m\u001b[38;5;21m__init__\u001b[39m(\n\u001b[1;32m     45\u001b[0m     \u001b[38;5;28mself\u001b[39m,\n\u001b[1;32m     46\u001b[0m     path: FilePath \u001b[38;5;241m|\u001b[39m WriteExcelBuffer \u001b[38;5;241m|\u001b[39m ExcelWriter,\n\u001b[0;32m   (...)\u001b[0m\n\u001b[1;32m     55\u001b[0m ) \u001b[38;5;241m-\u001b[39m\u001b[38;5;241m>\u001b[39m \u001b[38;5;28;01mNone\u001b[39;00m:\n\u001b[1;32m     56\u001b[0m     \u001b[38;5;66;03m# Use the openpyxl module as the Excel writer.\u001b[39;00m\n\u001b[0;32m---> 57\u001b[0m     \u001b[38;5;28;01mfrom\u001b[39;00m\u001b[38;5;250m \u001b[39m\u001b[38;5;21;01mopenpyxl\u001b[39;00m\u001b[38;5;21;01m.\u001b[39;00m\u001b[38;5;21;01mworkbook\u001b[39;00m\u001b[38;5;250m \u001b[39m\u001b[38;5;28;01mimport\u001b[39;00m Workbook\n\u001b[1;32m     59\u001b[0m     engine_kwargs \u001b[38;5;241m=\u001b[39m combine_kwargs(engine_kwargs, kwargs)\n\u001b[1;32m     61\u001b[0m     \u001b[38;5;28msuper\u001b[39m()\u001b[38;5;241m.\u001b[39m\u001b[38;5;21m__init__\u001b[39m(\n\u001b[1;32m     62\u001b[0m         path,\n\u001b[1;32m     63\u001b[0m         mode\u001b[38;5;241m=\u001b[39mmode,\n\u001b[0;32m   (...)\u001b[0m\n\u001b[1;32m     66\u001b[0m         engine_kwargs\u001b[38;5;241m=\u001b[39mengine_kwargs,\n\u001b[1;32m     67\u001b[0m     )\n",
      "\u001b[0;31mModuleNotFoundError\u001b[0m: No module named 'openpyxl'"
     ]
    }
   ],
   "source": [
    "current_highest_contributors = skilled_worker_data_current['Town/City'].value_counts(normalize=True)\n",
    "previous_highest_contributors = skilled_worker_data_2025_06_19['Town/City'].value_counts(normalize=True)\n",
    "diff_highest_contributors = (current_highest_contributors - previous_highest_contributors)*100\n",
    "# write to excel\n",
    "diff_highest_contributors.to_excel('./diff.xlsx')\n",
    "print(diff_highest_contributors)"
   ]
  },
  {
   "cell_type": "markdown",
   "id": "43e4f583",
   "metadata": {},
   "source": [
    "### mode()\n",
    "\n",
    "The mode on a column returns back the most occuring value.\n",
    "\n",
    "Hence data['column'].mode() returns an array of the most occuring values in a list. so if 'London' and another city 'Xyz' took up the most values it would return both, otherwise just the one thats the most repeating. You then use the index\n",
    "to access the value as seen below."
   ]
  },
  {
   "cell_type": "code",
   "execution_count": null,
   "id": "70946f6f",
   "metadata": {},
   "outputs": [
    {
     "data": {
      "text/plain": [
       "'London'"
      ]
     },
     "execution_count": 11,
     "metadata": {},
     "output_type": "execute_result"
    }
   ],
   "source": [
    "skilled_worker_data_current['Town/City'].mode()[0]"
   ]
  },
  {
   "cell_type": "code",
   "execution_count": null,
   "id": "df4fde3a",
   "metadata": {},
   "outputs": [
    {
     "data": {
      "text/plain": [
       "'Worker (A rating)'"
      ]
     },
     "execution_count": 12,
     "metadata": {},
     "output_type": "execute_result"
    }
   ],
   "source": [
    "skilled_worker_data_current['Type & Rating'].mode()[0]"
   ]
  },
  {
   "cell_type": "code",
   "execution_count": null,
   "id": "b14ae347",
   "metadata": {},
   "outputs": [
    {
     "data": {
      "text/plain": [
       "'Skilled Worker'"
      ]
     },
     "execution_count": 13,
     "metadata": {},
     "output_type": "execute_result"
    }
   ],
   "source": [
    "skilled_worker_data_current['Route'].mode()[0]"
   ]
  },
  {
   "cell_type": "markdown",
   "id": "ff35752f",
   "metadata": {},
   "source": [
    "Interesting how `Surrey` is the most repeated `County` in the HMRC data set.\n",
    "\n",
    "What it means is that most of the companies sponsoring are in the Surrey county according to the data set.\n",
    "But this could also be because that information is not fully captured with all the companies"
   ]
  },
  {
   "cell_type": "code",
   "execution_count": null,
   "id": "10dc6f02",
   "metadata": {},
   "outputs": [
    {
     "data": {
      "text/plain": [
       "'Surrey'"
      ]
     },
     "execution_count": 14,
     "metadata": {},
     "output_type": "execute_result"
    }
   ],
   "source": [
    "skilled_worker_data_current['County'].mode()[0]"
   ]
  },
  {
   "cell_type": "markdown",
   "id": "90db1e20",
   "metadata": {},
   "source": [
    "# Fuzzy search on organisation names"
   ]
  },
  {
   "cell_type": "markdown",
   "id": "ff475941",
   "metadata": {},
   "source": [
    "### What is Levenshtein Distance?\n",
    "\n",
    "The Levenshtein distance is a measure of the difference between two strings. It is defined as the minimum number of single-character edits (insertions, deletions, or substitutions) required to change one string into the other.\n",
    "\n",
    "For example, the Levenshtein distance between \"kitten\" and \"sitting\" is 3, since the following three edits change one into the other, and there is no way to do it with fewer than three edits:\n",
    "\n",
    "1.  **k**itten → **s**itten (substitution of \"s\" for \"k\")\n",
    "2.  sitt**e**n → sitt**i**n (substitution of \"i\" for \"e\")\n",
    "3.  sittin → sittin**g** (insertion of \"g\" at the end)\n",
    "\n",
    "The `fuzzywuzzy` library uses the Levenshtein distance to calculate the similarity ratios between strings. The `python-Levenshtein` library is a C implementation of the algorithm, which makes the calculations much faster than if they were done in pure Python. This is why we installed it alongside `fuzzywuzzy`."
   ]
  },
  {
   "cell_type": "code",
   "execution_count": null,
   "id": "b48b3342",
   "metadata": {},
   "outputs": [
    {
     "name": "stdout",
     "output_type": "stream",
     "text": [
      "Yes, a close match to 'masref' exists. Showing matches with a score of 80 or higher:\n",
      "          Organisation Name Town/City County  fuzzy_score\n",
      "73490  Masref Ltd t/a Nsave    London    NaN          100\n"
     ]
    }
   ],
   "source": [
    "# print(skilled_worker_data.columns)\n",
    "# !pip install -q fuzzywuzzy python-Levenshtein\n",
    "from fuzzywuzzy import fuzz\n",
    "\n",
    "company_name = input(\"Enter a company name\")\n",
    "\n",
    "def get_fuzzy_score(company) -> int:\n",
    "    return fuzz.token_set_ratio(company_name.lower(), str(company).lower())\n",
    "\n",
    "skilled_worker_data_current['fuzzy_score'] = skilled_worker_data_current['Organisation Name'].apply(get_fuzzy_score)\n",
    "\n",
    "# Set a threshold for what is considered a \"close match\"\n",
    "threshold = 80\n",
    "matching_rows = skilled_worker_data_current[skilled_worker_data_current['fuzzy_score'] >= threshold]\n",
    "\n",
    "\n",
    "if not matching_rows.empty:\n",
    "    print(f\"Yes, a close match to '{company_name}' exists. Showing matches with a score of {threshold} or higher:\")\n",
    "    print(matching_rows[['Organisation Name', 'Town/City', 'County', 'fuzzy_score']])\n",
    "else:\n",
    "    print(f\"No close match to '{company_name}' found.\")\n"
   ]
  },
  {
   "cell_type": "markdown",
   "id": "5ab3b0d6",
   "metadata": {},
   "source": [
    "### groupby()"
   ]
  },
  {
   "cell_type": "code",
   "execution_count": null,
   "id": "5ab3b0d6",
   "metadata": {},
   "outputs": [],
   "source": [
    "# skilled_worker_data.groupby(['Town/City'])['County'].mode()[0]"
   ]
  }
 ],
 "metadata": {
  "kernelspec": {
   "display_name": "python-ml-3.9",
   "language": "python",
   "name": "python3"
  },
  "language_info": {
   "codemirror_mode": {
    "name": "ipython",
    "version": 3
   },
   "file_extension": ".py",
   "mimetype": "text/x-python",
   "name": "python",
   "nbconvert_exporter": "python",
   "pygments_lexer": "ipython3",
   "version": "3.9.23"
  }
 },
 "nbformat": 4,
 "nbformat_minor": 5
}
