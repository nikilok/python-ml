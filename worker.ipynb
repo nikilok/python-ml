{
 "cells": [
  {
   "cell_type": "markdown",
   "id": "69b6f97d",
   "metadata": {},
   "source": [
    "# Data science on the HMRC skilled worker data set\n",
    "The below csv file has a list of companies capable of skilled worker sponsornship in the UK"
   ]
  },
  {
   "cell_type": "code",
   "execution_count": 171,
   "id": "5df41517",
   "metadata": {},
   "outputs": [],
   "source": [
    "# importing the libraries\n",
    "import numpy as np\n",
    "import pandas as pd"
   ]
  },
  {
   "cell_type": "code",
   "execution_count": 172,
   "id": "2919ee3f",
   "metadata": {},
   "outputs": [
    {
     "name": "stdout",
     "output_type": "stream",
     "text": [
      "Organisation Name    133028\n",
      "Town/City            133025\n",
      "County                45163\n",
      "Type & Rating        133028\n",
      "Route                133028\n",
      "dtype: int64\n"
     ]
    }
   ],
   "source": [
    "skilled_worker_data = pd.read_csv('./projects/python-ml/2025-06-19-Worker.csv')\n",
    "print(skilled_worker_data.count())"
   ]
  },
  {
   "cell_type": "markdown",
   "id": "95deafd8",
   "metadata": {},
   "source": [
    "### shape of the data"
   ]
  },
  {
   "cell_type": "code",
   "execution_count": 118,
   "id": "a08eda0c",
   "metadata": {},
   "outputs": [
    {
     "data": {
      "text/plain": [
       "(133028, 5)"
      ]
     },
     "execution_count": 118,
     "metadata": {},
     "output_type": "execute_result"
    }
   ],
   "source": [
    "skilled_worker_data.shape"
   ]
  },
  {
   "cell_type": "markdown",
   "id": "c9379fdc",
   "metadata": {},
   "source": [
    "### info"
   ]
  },
  {
   "cell_type": "code",
   "execution_count": 119,
   "id": "b24c2605",
   "metadata": {},
   "outputs": [
    {
     "name": "stdout",
     "output_type": "stream",
     "text": [
      "<class 'pandas.core.frame.DataFrame'>\n",
      "RangeIndex: 133028 entries, 0 to 133027\n",
      "Data columns (total 5 columns):\n",
      " #   Column             Non-Null Count   Dtype \n",
      "---  ------             --------------   ----- \n",
      " 0   Organisation Name  133028 non-null  object\n",
      " 1   Town/City          133025 non-null  object\n",
      " 2   County             45163 non-null   object\n",
      " 3   Type & Rating      133028 non-null  object\n",
      " 4   Route              133028 non-null  object\n",
      "dtypes: object(5)\n",
      "memory usage: 5.1+ MB\n"
     ]
    }
   ],
   "source": [
    "skilled_worker_data.info()"
   ]
  },
  {
   "cell_type": "markdown",
   "id": "76dd99bb",
   "metadata": {},
   "source": [
    "### head / tail"
   ]
  },
  {
   "cell_type": "code",
   "execution_count": 137,
   "id": "e2f9c2a3",
   "metadata": {},
   "outputs": [
    {
     "data": {
      "text/html": [
       "<div>\n",
       "<style scoped>\n",
       "    .dataframe tbody tr th:only-of-type {\n",
       "        vertical-align: middle;\n",
       "    }\n",
       "\n",
       "    .dataframe tbody tr th {\n",
       "        vertical-align: top;\n",
       "    }\n",
       "\n",
       "    .dataframe thead th {\n",
       "        text-align: right;\n",
       "    }\n",
       "</style>\n",
       "<table border=\"1\" class=\"dataframe\">\n",
       "  <thead>\n",
       "    <tr style=\"text-align: right;\">\n",
       "      <th></th>\n",
       "      <th>Organisation Name</th>\n",
       "      <th>Town/City</th>\n",
       "      <th>County</th>\n",
       "      <th>Type &amp; Rating</th>\n",
       "      <th>Route</th>\n",
       "    </tr>\n",
       "  </thead>\n",
       "  <tbody>\n",
       "    <tr>\n",
       "      <th>0</th>\n",
       "      <td>McMullan Shellfish</td>\n",
       "      <td>Ballymena</td>\n",
       "      <td>Co Antrim</td>\n",
       "      <td>Worker (A rating)</td>\n",
       "      <td>Skilled Worker</td>\n",
       "    </tr>\n",
       "    <tr>\n",
       "      <th>1</th>\n",
       "      <td>(A1F1 Limited T/A ) Ultrasound Direct London</td>\n",
       "      <td>Croydon</td>\n",
       "      <td>London</td>\n",
       "      <td>Worker (A rating)</td>\n",
       "      <td>Skilled Worker</td>\n",
       "    </tr>\n",
       "    <tr>\n",
       "      <th>2</th>\n",
       "      <td>(IECC Care) Independent Excel Care Consortium ...</td>\n",
       "      <td>Colchester</td>\n",
       "      <td>NaN</td>\n",
       "      <td>Worker (A rating)</td>\n",
       "      <td>Skilled Worker</td>\n",
       "    </tr>\n",
       "    <tr>\n",
       "      <th>3</th>\n",
       "      <td>*ABOUTCARE HASTINGS LTD</td>\n",
       "      <td>East Sussex</td>\n",
       "      <td>NaN</td>\n",
       "      <td>Worker (A rating)</td>\n",
       "      <td>Skilled Worker</td>\n",
       "    </tr>\n",
       "    <tr>\n",
       "      <th>4</th>\n",
       "      <td>.LITTLE NOORIYAH LTD</td>\n",
       "      <td>Smethwick</td>\n",
       "      <td>NaN</td>\n",
       "      <td>Worker (A rating)</td>\n",
       "      <td>Skilled Worker</td>\n",
       "    </tr>\n",
       "  </tbody>\n",
       "</table>\n",
       "</div>"
      ],
      "text/plain": [
       "                                   Organisation Name    Town/City     County  \\\n",
       "0                                 McMullan Shellfish    Ballymena  Co Antrim   \n",
       "1       (A1F1 Limited T/A ) Ultrasound Direct London      Croydon     London   \n",
       "2  (IECC Care) Independent Excel Care Consortium ...   Colchester        NaN   \n",
       "3                            *ABOUTCARE HASTINGS LTD  East Sussex        NaN   \n",
       "4                               .LITTLE NOORIYAH LTD    Smethwick        NaN   \n",
       "\n",
       "       Type & Rating           Route  \n",
       "0  Worker (A rating)  Skilled Worker  \n",
       "1  Worker (A rating)  Skilled Worker  \n",
       "2  Worker (A rating)  Skilled Worker  \n",
       "3  Worker (A rating)  Skilled Worker  \n",
       "4  Worker (A rating)  Skilled Worker  "
      ]
     },
     "execution_count": 137,
     "metadata": {},
     "output_type": "execute_result"
    }
   ],
   "source": [
    "skilled_worker_data.head()"
   ]
  },
  {
   "cell_type": "code",
   "execution_count": 138,
   "id": "a99b65ed",
   "metadata": {},
   "outputs": [
    {
     "data": {
      "text/html": [
       "<div>\n",
       "<style scoped>\n",
       "    .dataframe tbody tr th:only-of-type {\n",
       "        vertical-align: middle;\n",
       "    }\n",
       "\n",
       "    .dataframe tbody tr th {\n",
       "        vertical-align: top;\n",
       "    }\n",
       "\n",
       "    .dataframe thead th {\n",
       "        text-align: right;\n",
       "    }\n",
       "</style>\n",
       "<table border=\"1\" class=\"dataframe\">\n",
       "  <thead>\n",
       "    <tr style=\"text-align: right;\">\n",
       "      <th></th>\n",
       "      <th>Organisation Name</th>\n",
       "      <th>Town/City</th>\n",
       "      <th>County</th>\n",
       "      <th>Type &amp; Rating</th>\n",
       "      <th>Route</th>\n",
       "    </tr>\n",
       "  </thead>\n",
       "  <tbody>\n",
       "    <tr>\n",
       "      <th>133023</th>\n",
       "      <td>ZZA CONSULTING LIMITED</td>\n",
       "      <td>LONDON</td>\n",
       "      <td>NaN</td>\n",
       "      <td>Worker (A rating)</td>\n",
       "      <td>Skilled Worker</td>\n",
       "    </tr>\n",
       "    <tr>\n",
       "      <th>133024</th>\n",
       "      <td>ZZIY Ltd</td>\n",
       "      <td>High Wycombe</td>\n",
       "      <td>NaN</td>\n",
       "      <td>Worker (A rating)</td>\n",
       "      <td>Skilled Worker</td>\n",
       "    </tr>\n",
       "    <tr>\n",
       "      <th>133025</th>\n",
       "      <td>ZZN STUDIO LTD</td>\n",
       "      <td>HAMPTON</td>\n",
       "      <td>NaN</td>\n",
       "      <td>Worker (A rating)</td>\n",
       "      <td>Skilled Worker</td>\n",
       "    </tr>\n",
       "    <tr>\n",
       "      <th>133026</th>\n",
       "      <td>Zzoomm Plc</td>\n",
       "      <td>Oxford</td>\n",
       "      <td>NaN</td>\n",
       "      <td>Worker (A rating)</td>\n",
       "      <td>Skilled Worker</td>\n",
       "    </tr>\n",
       "    <tr>\n",
       "      <th>133027</th>\n",
       "      <td>ZZZ Limited</td>\n",
       "      <td>London</td>\n",
       "      <td>NaN</td>\n",
       "      <td>Worker (A rating)</td>\n",
       "      <td>Skilled Worker</td>\n",
       "    </tr>\n",
       "  </tbody>\n",
       "</table>\n",
       "</div>"
      ],
      "text/plain": [
       "             Organisation Name     Town/City County      Type & Rating  \\\n",
       "133023  ZZA CONSULTING LIMITED        LONDON    NaN  Worker (A rating)   \n",
       "133024                ZZIY Ltd  High Wycombe    NaN  Worker (A rating)   \n",
       "133025          ZZN STUDIO LTD       HAMPTON    NaN  Worker (A rating)   \n",
       "133026              Zzoomm Plc        Oxford    NaN  Worker (A rating)   \n",
       "133027             ZZZ Limited        London    NaN  Worker (A rating)   \n",
       "\n",
       "                 Route  \n",
       "133023  Skilled Worker  \n",
       "133024  Skilled Worker  \n",
       "133025  Skilled Worker  \n",
       "133026  Skilled Worker  \n",
       "133027  Skilled Worker  "
      ]
     },
     "execution_count": 138,
     "metadata": {},
     "output_type": "execute_result"
    }
   ],
   "source": [
    "skilled_worker_data.tail()"
   ]
  },
  {
   "cell_type": "markdown",
   "id": "87b96f95",
   "metadata": {},
   "source": [
    "### unique"
   ]
  },
  {
   "cell_type": "code",
   "execution_count": 141,
   "id": "e0b6b8ef",
   "metadata": {},
   "outputs": [
    {
     "data": {
      "text/plain": [
       "array(['Co Antrim', 'London', nan, ..., 'Ascot', 'Gillingham',\n",
       "       'Wes Yorkshire'], dtype=object)"
      ]
     },
     "execution_count": 141,
     "metadata": {},
     "output_type": "execute_result"
    }
   ],
   "source": [
    "skilled_worker_data['County'].unique()"
   ]
  },
  {
   "cell_type": "markdown",
   "id": "7e1327ee",
   "metadata": {},
   "source": [
    "### value_counts"
   ]
  },
  {
   "cell_type": "code",
   "execution_count": 142,
   "id": "67144374",
   "metadata": {},
   "outputs": [
    {
     "data": {
      "text/plain": [
       "Town/City\n",
       "London             37019\n",
       "LONDON              3314\n",
       "Birmingham          2814\n",
       "Manchester          2616\n",
       "Bristol             1262\n",
       "                   ...  \n",
       "South Ockenden         1\n",
       "KILWINNING             1\n",
       "Merthyr Tidfil         1\n",
       "BULWELL                1\n",
       "Northwood hills        1\n",
       "Name: count, Length: 7931, dtype: int64"
      ]
     },
     "execution_count": 142,
     "metadata": {},
     "output_type": "execute_result"
    }
   ],
   "source": [
    "skilled_worker_data['Town/City'].value_counts()"
   ]
  },
  {
   "cell_type": "markdown",
   "id": "ddbee703",
   "metadata": {},
   "source": [
    "### value_counts(normalize=True)\n",
    "\n",
    "The below data tells me that the number of companies with Town/City having `London` makes up `27%` of the total companies available in the skilled worker category in UK.\n",
    "\n",
    "`LONDON` contributes to `2.4%`\n",
    "`Birmingham`-`2.1%` and so forth.."
   ]
  },
  {
   "cell_type": "code",
   "execution_count": 144,
   "id": "4151a431",
   "metadata": {},
   "outputs": [
    {
     "data": {
      "text/plain": [
       "Town/City\n",
       "London             0.278286\n",
       "LONDON             0.024913\n",
       "Birmingham         0.021154\n",
       "Manchester         0.019665\n",
       "Bristol            0.009487\n",
       "                     ...   \n",
       "South Ockenden     0.000008\n",
       "KILWINNING         0.000008\n",
       "Merthyr Tidfil     0.000008\n",
       "BULWELL            0.000008\n",
       "Northwood hills    0.000008\n",
       "Name: proportion, Length: 7931, dtype: float64"
      ]
     },
     "execution_count": 144,
     "metadata": {},
     "output_type": "execute_result"
    }
   ],
   "source": [
    "skilled_worker_data['Town/City'].value_counts(normalize=True)"
   ]
  },
  {
   "cell_type": "markdown",
   "id": "43e4f583",
   "metadata": {},
   "source": [
    "### mode()\n",
    "\n",
    "The mode on a column returns back the most occuring value.\n",
    "\n",
    "Hence data['column'].mode() returns an array of the most occuring values in a list. so if 'London' and another city 'Xyz' took up the most values it would return both, otherwise just the one thats the most repeating. You then use the index\n",
    "to access the value as seen below."
   ]
  },
  {
   "cell_type": "code",
   "execution_count": 153,
   "id": "70946f6f",
   "metadata": {},
   "outputs": [
    {
     "data": {
      "text/plain": [
       "'London'"
      ]
     },
     "execution_count": 153,
     "metadata": {},
     "output_type": "execute_result"
    }
   ],
   "source": [
    "skilled_worker_data['Town/City'].mode()[0]"
   ]
  },
  {
   "cell_type": "code",
   "execution_count": 154,
   "id": "df4fde3a",
   "metadata": {},
   "outputs": [
    {
     "data": {
      "text/plain": [
       "'Worker (A rating)'"
      ]
     },
     "execution_count": 154,
     "metadata": {},
     "output_type": "execute_result"
    }
   ],
   "source": [
    "skilled_worker_data['Type & Rating'].mode()[0]"
   ]
  },
  {
   "cell_type": "code",
   "execution_count": 155,
   "id": "b14ae347",
   "metadata": {},
   "outputs": [
    {
     "data": {
      "text/plain": [
       "'Skilled Worker'"
      ]
     },
     "execution_count": 155,
     "metadata": {},
     "output_type": "execute_result"
    }
   ],
   "source": [
    "skilled_worker_data['Route'].mode()[0]"
   ]
  },
  {
   "cell_type": "markdown",
   "id": "ff35752f",
   "metadata": {},
   "source": [
    "Interesting how `Surrey` is the most repeated `County` in the HMRC data set.\n",
    "\n",
    "What it means is that most of the companies sponsoring are in the Surrey county according to the data set.\n",
    "But this could also be because that information is not fully captured with all the companies"
   ]
  },
  {
   "cell_type": "code",
   "execution_count": 156,
   "id": "10dc6f02",
   "metadata": {},
   "outputs": [
    {
     "data": {
      "text/plain": [
       "'Surrey'"
      ]
     },
     "execution_count": 156,
     "metadata": {},
     "output_type": "execute_result"
    }
   ],
   "source": [
    "skilled_worker_data['County'].mode()[0]"
   ]
  },
  {
   "cell_type": "markdown",
   "id": "90db1e20",
   "metadata": {},
   "source": [
    "# Fuzzy search on organisation names"
   ]
  },
  {
   "cell_type": "markdown",
   "id": "ff475941",
   "metadata": {},
   "source": [
    "### What is Levenshtein Distance?\n",
    "\n",
    "The Levenshtein distance is a measure of the difference between two strings. It is defined as the minimum number of single-character edits (insertions, deletions, or substitutions) required to change one string into the other.\n",
    "\n",
    "For example, the Levenshtein distance between \"kitten\" and \"sitting\" is 3, since the following three edits change one into the other, and there is no way to do it with fewer than three edits:\n",
    "\n",
    "1.  **k**itten → **s**itten (substitution of \"s\" for \"k\")\n",
    "2.  sitt**e**n → sitt**i**n (substitution of \"i\" for \"e\")\n",
    "3.  sittin → sittin**g** (insertion of \"g\" at the end)\n",
    "\n",
    "The `fuzzywuzzy` library uses the Levenshtein distance to calculate the similarity ratios between strings. The `python-Levenshtein` library is a C implementation of the algorithm, which makes the calculations much faster than if they were done in pure Python. This is why we installed it alongside `fuzzywuzzy`."
   ]
  },
  {
   "cell_type": "code",
   "execution_count": 221,
   "id": "b48b3342",
   "metadata": {},
   "outputs": [
    {
     "name": "stdout",
     "output_type": "stream",
     "text": [
      "Yes, a close match to 'nsave' exists. Showing matches with a score of 80 or higher:\n",
      "           Organisation Name Town/City County  fuzzy_score\n",
      "73044   Masref Ltd t/a Nsave    London    NaN          100\n",
      "124743                 USAVE  Bathgate    NaN           80\n"
     ]
    }
   ],
   "source": [
    "# print(skilled_worker_data.columns)\n",
    "!pip install -q fuzzywuzzy python-Levenshtein\n",
    "from fuzzywuzzy import fuzz\n",
    "\n",
    "company_name = input(\"Enter a company name\")\n",
    "\n",
    "def get_fuzzy_score(company):\n",
    "    return fuzz.token_set_ratio(company_name.lower(), str(company).lower())\n",
    "\n",
    "skilled_worker_data['fuzzy_score'] = skilled_worker_data['Organisation Name'].apply(get_fuzzy_score)\n",
    "\n",
    "# Set a threshold for what is considered a \"close match\"\n",
    "threshold = 80\n",
    "matching_rows = skilled_worker_data[skilled_worker_data['fuzzy_score'] >= threshold]\n",
    "\n",
    "\n",
    "if not matching_rows.empty:\n",
    "    print(f\"Yes, a close match to '{company_name}' exists. Showing matches with a score of {threshold} or higher:\")\n",
    "    print(matching_rows[['Organisation Name', 'Town/City', 'County', 'fuzzy_score']])\n",
    "else:\n",
    "    print(f\"No close match to '{company_name}' found.\")\n"
   ]
  },
  {
   "cell_type": "markdown",
   "id": "5ab3b0d6",
   "metadata": {},
   "source": [
    "### groupby()"
   ]
  },
  {
   "cell_type": "code",
   "execution_count": null,
   "id": "5ab3b0d6",
   "metadata": {},
   "outputs": [
    {
     "ename": "AttributeError",
     "evalue": "'SeriesGroupBy' object has no attribute 'mode'",
     "output_type": "error",
     "traceback": [
      "\u001b[0;31m---------------------------------------------------------------------------\u001b[0m",
      "\u001b[0;31mAttributeError\u001b[0m                            Traceback (most recent call last)",
      "Cell \u001b[0;32mIn[164], line 1\u001b[0m\n\u001b[0;32m----> 1\u001b[0m skilled_worker_data\u001b[38;5;241m.\u001b[39mgroupby([\u001b[38;5;124m'\u001b[39m\u001b[38;5;124mTown/City\u001b[39m\u001b[38;5;124m'\u001b[39m])[\u001b[38;5;124m'\u001b[39m\u001b[38;5;124mCounty\u001b[39m\u001b[38;5;124m'\u001b[39m]\u001b[38;5;241m.\u001b[39mmode()[\u001b[38;5;241m0\u001b[39m]\n",
      "File \u001b[0;32m/opt/anaconda3/lib/python3.13/site-packages/pandas/core/groupby/groupby.py:1363\u001b[0m, in \u001b[0;36mGroupBy.__getattr__\u001b[0;34m(self, attr)\u001b[0m\n\u001b[1;32m   1360\u001b[0m \u001b[38;5;28;01mif\u001b[39;00m attr \u001b[38;5;129;01min\u001b[39;00m \u001b[38;5;28mself\u001b[39m\u001b[38;5;241m.\u001b[39mobj:\n\u001b[1;32m   1361\u001b[0m     \u001b[38;5;28;01mreturn\u001b[39;00m \u001b[38;5;28mself\u001b[39m[attr]\n\u001b[0;32m-> 1363\u001b[0m \u001b[38;5;28;01mraise\u001b[39;00m \u001b[38;5;167;01mAttributeError\u001b[39;00m(\n\u001b[1;32m   1364\u001b[0m     \u001b[38;5;124mf\u001b[39m\u001b[38;5;124m\"\u001b[39m\u001b[38;5;124m'\u001b[39m\u001b[38;5;132;01m{\u001b[39;00m\u001b[38;5;28mtype\u001b[39m(\u001b[38;5;28mself\u001b[39m)\u001b[38;5;241m.\u001b[39m\u001b[38;5;18m__name__\u001b[39m\u001b[38;5;132;01m}\u001b[39;00m\u001b[38;5;124m'\u001b[39m\u001b[38;5;124m object has no attribute \u001b[39m\u001b[38;5;124m'\u001b[39m\u001b[38;5;132;01m{\u001b[39;00mattr\u001b[38;5;132;01m}\u001b[39;00m\u001b[38;5;124m'\u001b[39m\u001b[38;5;124m\"\u001b[39m\n\u001b[1;32m   1365\u001b[0m )\n",
      "\u001b[0;31mAttributeError\u001b[0m: 'SeriesGroupBy' object has no attribute 'mode'"
     ]
    }
   ],
   "source": [
    "# skilled_worker_data.groupby(['Town/City'])['County'].mode()[0]"
   ]
  }
 ],
 "metadata": {
  "kernelspec": {
   "display_name": "Python 3 (ipykernel)",
   "language": "python",
   "name": "python3"
  },
  "language_info": {
   "codemirror_mode": {
    "name": "ipython",
    "version": 3
   },
   "file_extension": ".py",
   "mimetype": "text/x-python",
   "name": "python",
   "nbconvert_exporter": "python",
   "pygments_lexer": "ipython3",
   "version": "3.13.5"
  }
 },
 "nbformat": 4,
 "nbformat_minor": 5
}
